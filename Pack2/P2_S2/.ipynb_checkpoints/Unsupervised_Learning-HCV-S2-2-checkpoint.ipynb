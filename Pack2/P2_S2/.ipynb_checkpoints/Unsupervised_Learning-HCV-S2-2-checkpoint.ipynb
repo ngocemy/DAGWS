{
 "cells": [
  {
   "cell_type": "markdown",
   "metadata": {},
   "source": [
    "This notebook is made for \"Data Analysis for Genomics Workshop\" (DAGWS). \n",
    "Tran Bich Ngoc CAO, ENS Paris, August 2020.\n",
    "<a rel=\"license\" href=\"https://creativecommons.org/licenses/by/2.0/\"><img alt=\"Licence Creative Commons\" style=\"border-width:0\" src=\"https://i.creativecommons.org/l/by-nc-sa/4.0/88x31.png\" /></a><br /> This work is protected by the term of <a rel=\"license\" href=\"https://creativecommons.org/licenses/by/2.0/\"> Attribution 2.0 Generic (CC BY 2.0) </a>. Please cite the source in case of re-distribution."
   ]
  },
  {
   "cell_type": "markdown",
   "metadata": {},
   "source": [
    "# Unsupervised Learning: Exploratory Analysis"
   ]
  },
  {
   "cell_type": "markdown",
   "metadata": {},
   "source": [
    "  `Visualization` + `Finding patterns` + `Predicting on Unlabelled data`"
   ]
  },
  {
   "cell_type": "markdown",
   "metadata": {},
   "source": [
    "▶ In the supervised methods, we observe both a set of features/variables (e.g. gene expression) for each object, as well as a response or outcome variable (e.g. metastasis information or survival information of the patients). \n",
    "\n",
    "▶ The goal is then to predict the response using the variables (e.g. which genes predict best or are associated with the survival of the patients). \n",
    "\n",
    "▶ Here we instead focus on exploratory analysis, we are not interested (yet) in prediction. "
   ]
  },
  {
   "cell_type": "markdown",
   "metadata": {},
   "source": [
    "▶ We will study two methods:\n",
    "\n",
    "• principal component analysis, a tool used for data visualization or data pre- processing before supervised techniques are applied; \n",
    "\n",
    "• clustering, a broad class of methods for discovering unknown subgroups in data. "
   ]
  },
  {
   "cell_type": "markdown",
   "metadata": {},
   "source": [
    "Source data: https://archive.ics.uci.edu/ml/datasets/HCV+data# from paper: **Using machine learning techniques to generate laboratory diagnostic pathways—a case study**"
   ]
  },
  {
   "cell_type": "code",
   "execution_count": 1,
   "metadata": {},
   "outputs": [
    {
     "data": {
      "text/html": [
       "<div>\n",
       "<style scoped>\n",
       "    .dataframe tbody tr th:only-of-type {\n",
       "        vertical-align: middle;\n",
       "    }\n",
       "\n",
       "    .dataframe tbody tr th {\n",
       "        vertical-align: top;\n",
       "    }\n",
       "\n",
       "    .dataframe thead th {\n",
       "        text-align: right;\n",
       "    }\n",
       "</style>\n",
       "<table border=\"1\" class=\"dataframe\">\n",
       "  <thead>\n",
       "    <tr style=\"text-align: right;\">\n",
       "      <th></th>\n",
       "      <th>Unnamed: 0</th>\n",
       "      <th>Category</th>\n",
       "      <th>Age</th>\n",
       "      <th>Sex</th>\n",
       "      <th>ALB</th>\n",
       "      <th>ALP</th>\n",
       "      <th>ALT</th>\n",
       "      <th>AST</th>\n",
       "      <th>BIL</th>\n",
       "      <th>CHE</th>\n",
       "      <th>CHOL</th>\n",
       "      <th>CREA</th>\n",
       "      <th>GGT</th>\n",
       "      <th>PROT</th>\n",
       "    </tr>\n",
       "  </thead>\n",
       "  <tbody>\n",
       "    <tr>\n",
       "      <th>0</th>\n",
       "      <td>1</td>\n",
       "      <td>0=Blood Donor</td>\n",
       "      <td>32</td>\n",
       "      <td>m</td>\n",
       "      <td>38.5</td>\n",
       "      <td>52.5</td>\n",
       "      <td>7.7</td>\n",
       "      <td>22.1</td>\n",
       "      <td>7.5</td>\n",
       "      <td>6.93</td>\n",
       "      <td>3.23</td>\n",
       "      <td>106.0</td>\n",
       "      <td>12.1</td>\n",
       "      <td>69.0</td>\n",
       "    </tr>\n",
       "    <tr>\n",
       "      <th>1</th>\n",
       "      <td>2</td>\n",
       "      <td>0=Blood Donor</td>\n",
       "      <td>32</td>\n",
       "      <td>m</td>\n",
       "      <td>38.5</td>\n",
       "      <td>70.3</td>\n",
       "      <td>18.0</td>\n",
       "      <td>24.7</td>\n",
       "      <td>3.9</td>\n",
       "      <td>11.17</td>\n",
       "      <td>4.80</td>\n",
       "      <td>74.0</td>\n",
       "      <td>15.6</td>\n",
       "      <td>76.5</td>\n",
       "    </tr>\n",
       "    <tr>\n",
       "      <th>2</th>\n",
       "      <td>3</td>\n",
       "      <td>0=Blood Donor</td>\n",
       "      <td>32</td>\n",
       "      <td>m</td>\n",
       "      <td>46.9</td>\n",
       "      <td>74.7</td>\n",
       "      <td>36.2</td>\n",
       "      <td>52.6</td>\n",
       "      <td>6.1</td>\n",
       "      <td>8.84</td>\n",
       "      <td>5.20</td>\n",
       "      <td>86.0</td>\n",
       "      <td>33.2</td>\n",
       "      <td>79.3</td>\n",
       "    </tr>\n",
       "    <tr>\n",
       "      <th>3</th>\n",
       "      <td>4</td>\n",
       "      <td>0=Blood Donor</td>\n",
       "      <td>32</td>\n",
       "      <td>m</td>\n",
       "      <td>43.2</td>\n",
       "      <td>52.0</td>\n",
       "      <td>30.6</td>\n",
       "      <td>22.6</td>\n",
       "      <td>18.9</td>\n",
       "      <td>7.33</td>\n",
       "      <td>4.74</td>\n",
       "      <td>80.0</td>\n",
       "      <td>33.8</td>\n",
       "      <td>75.7</td>\n",
       "    </tr>\n",
       "    <tr>\n",
       "      <th>4</th>\n",
       "      <td>5</td>\n",
       "      <td>0=Blood Donor</td>\n",
       "      <td>32</td>\n",
       "      <td>m</td>\n",
       "      <td>39.2</td>\n",
       "      <td>74.1</td>\n",
       "      <td>32.6</td>\n",
       "      <td>24.8</td>\n",
       "      <td>9.6</td>\n",
       "      <td>9.15</td>\n",
       "      <td>4.32</td>\n",
       "      <td>76.0</td>\n",
       "      <td>29.9</td>\n",
       "      <td>68.7</td>\n",
       "    </tr>\n",
       "  </tbody>\n",
       "</table>\n",
       "</div>"
      ],
      "text/plain": [
       "   Unnamed: 0       Category  Age Sex   ALB   ALP   ALT   AST   BIL    CHE  \\\n",
       "0           1  0=Blood Donor   32   m  38.5  52.5   7.7  22.1   7.5   6.93   \n",
       "1           2  0=Blood Donor   32   m  38.5  70.3  18.0  24.7   3.9  11.17   \n",
       "2           3  0=Blood Donor   32   m  46.9  74.7  36.2  52.6   6.1   8.84   \n",
       "3           4  0=Blood Donor   32   m  43.2  52.0  30.6  22.6  18.9   7.33   \n",
       "4           5  0=Blood Donor   32   m  39.2  74.1  32.6  24.8   9.6   9.15   \n",
       "\n",
       "   CHOL   CREA   GGT  PROT  \n",
       "0  3.23  106.0  12.1  69.0  \n",
       "1  4.80   74.0  15.6  76.5  \n",
       "2  5.20   86.0  33.2  79.3  \n",
       "3  4.74   80.0  33.8  75.7  \n",
       "4  4.32   76.0  29.9  68.7  "
      ]
     },
     "execution_count": 1,
     "metadata": {},
     "output_type": "execute_result"
    }
   ],
   "source": [
    "import pandas as pd\n",
    "data = pd.read_csv(\"data/hcvdat.csv\",delimiter=\",\")\n",
    "data.head()\n"
   ]
  },
  {
   "cell_type": "code",
   "execution_count": 2,
   "metadata": {},
   "outputs": [
    {
     "data": {
      "text/html": [
       "<div>\n",
       "<style scoped>\n",
       "    .dataframe tbody tr th:only-of-type {\n",
       "        vertical-align: middle;\n",
       "    }\n",
       "\n",
       "    .dataframe tbody tr th {\n",
       "        vertical-align: top;\n",
       "    }\n",
       "\n",
       "    .dataframe thead th {\n",
       "        text-align: right;\n",
       "    }\n",
       "</style>\n",
       "<table border=\"1\" class=\"dataframe\">\n",
       "  <thead>\n",
       "    <tr style=\"text-align: right;\">\n",
       "      <th></th>\n",
       "      <th>Category</th>\n",
       "      <th>Age</th>\n",
       "      <th>Sex</th>\n",
       "      <th>ALB</th>\n",
       "      <th>ALP</th>\n",
       "      <th>ALT</th>\n",
       "      <th>AST</th>\n",
       "      <th>BIL</th>\n",
       "      <th>CHE</th>\n",
       "      <th>CHOL</th>\n",
       "      <th>CREA</th>\n",
       "      <th>GGT</th>\n",
       "      <th>PROT</th>\n",
       "    </tr>\n",
       "  </thead>\n",
       "  <tbody>\n",
       "    <tr>\n",
       "      <th>0</th>\n",
       "      <td>0=Blood Donor</td>\n",
       "      <td>32</td>\n",
       "      <td>m</td>\n",
       "      <td>38.5</td>\n",
       "      <td>52.5</td>\n",
       "      <td>7.7</td>\n",
       "      <td>22.1</td>\n",
       "      <td>7.5</td>\n",
       "      <td>6.93</td>\n",
       "      <td>3.23</td>\n",
       "      <td>106.0</td>\n",
       "      <td>12.1</td>\n",
       "      <td>69.0</td>\n",
       "    </tr>\n",
       "    <tr>\n",
       "      <th>1</th>\n",
       "      <td>0=Blood Donor</td>\n",
       "      <td>32</td>\n",
       "      <td>m</td>\n",
       "      <td>38.5</td>\n",
       "      <td>70.3</td>\n",
       "      <td>18.0</td>\n",
       "      <td>24.7</td>\n",
       "      <td>3.9</td>\n",
       "      <td>11.17</td>\n",
       "      <td>4.80</td>\n",
       "      <td>74.0</td>\n",
       "      <td>15.6</td>\n",
       "      <td>76.5</td>\n",
       "    </tr>\n",
       "    <tr>\n",
       "      <th>2</th>\n",
       "      <td>0=Blood Donor</td>\n",
       "      <td>32</td>\n",
       "      <td>m</td>\n",
       "      <td>46.9</td>\n",
       "      <td>74.7</td>\n",
       "      <td>36.2</td>\n",
       "      <td>52.6</td>\n",
       "      <td>6.1</td>\n",
       "      <td>8.84</td>\n",
       "      <td>5.20</td>\n",
       "      <td>86.0</td>\n",
       "      <td>33.2</td>\n",
       "      <td>79.3</td>\n",
       "    </tr>\n",
       "    <tr>\n",
       "      <th>3</th>\n",
       "      <td>0=Blood Donor</td>\n",
       "      <td>32</td>\n",
       "      <td>m</td>\n",
       "      <td>43.2</td>\n",
       "      <td>52.0</td>\n",
       "      <td>30.6</td>\n",
       "      <td>22.6</td>\n",
       "      <td>18.9</td>\n",
       "      <td>7.33</td>\n",
       "      <td>4.74</td>\n",
       "      <td>80.0</td>\n",
       "      <td>33.8</td>\n",
       "      <td>75.7</td>\n",
       "    </tr>\n",
       "    <tr>\n",
       "      <th>4</th>\n",
       "      <td>0=Blood Donor</td>\n",
       "      <td>32</td>\n",
       "      <td>m</td>\n",
       "      <td>39.2</td>\n",
       "      <td>74.1</td>\n",
       "      <td>32.6</td>\n",
       "      <td>24.8</td>\n",
       "      <td>9.6</td>\n",
       "      <td>9.15</td>\n",
       "      <td>4.32</td>\n",
       "      <td>76.0</td>\n",
       "      <td>29.9</td>\n",
       "      <td>68.7</td>\n",
       "    </tr>\n",
       "    <tr>\n",
       "      <th>...</th>\n",
       "      <td>...</td>\n",
       "      <td>...</td>\n",
       "      <td>...</td>\n",
       "      <td>...</td>\n",
       "      <td>...</td>\n",
       "      <td>...</td>\n",
       "      <td>...</td>\n",
       "      <td>...</td>\n",
       "      <td>...</td>\n",
       "      <td>...</td>\n",
       "      <td>...</td>\n",
       "      <td>...</td>\n",
       "      <td>...</td>\n",
       "    </tr>\n",
       "    <tr>\n",
       "      <th>610</th>\n",
       "      <td>3=Cirrhosis</td>\n",
       "      <td>62</td>\n",
       "      <td>f</td>\n",
       "      <td>32.0</td>\n",
       "      <td>416.6</td>\n",
       "      <td>5.9</td>\n",
       "      <td>110.3</td>\n",
       "      <td>50.0</td>\n",
       "      <td>5.57</td>\n",
       "      <td>6.30</td>\n",
       "      <td>55.7</td>\n",
       "      <td>650.9</td>\n",
       "      <td>68.5</td>\n",
       "    </tr>\n",
       "    <tr>\n",
       "      <th>611</th>\n",
       "      <td>3=Cirrhosis</td>\n",
       "      <td>64</td>\n",
       "      <td>f</td>\n",
       "      <td>24.0</td>\n",
       "      <td>102.8</td>\n",
       "      <td>2.9</td>\n",
       "      <td>44.4</td>\n",
       "      <td>20.0</td>\n",
       "      <td>1.54</td>\n",
       "      <td>3.02</td>\n",
       "      <td>63.0</td>\n",
       "      <td>35.9</td>\n",
       "      <td>71.3</td>\n",
       "    </tr>\n",
       "    <tr>\n",
       "      <th>612</th>\n",
       "      <td>3=Cirrhosis</td>\n",
       "      <td>64</td>\n",
       "      <td>f</td>\n",
       "      <td>29.0</td>\n",
       "      <td>87.3</td>\n",
       "      <td>3.5</td>\n",
       "      <td>99.0</td>\n",
       "      <td>48.0</td>\n",
       "      <td>1.66</td>\n",
       "      <td>3.63</td>\n",
       "      <td>66.7</td>\n",
       "      <td>64.2</td>\n",
       "      <td>82.0</td>\n",
       "    </tr>\n",
       "    <tr>\n",
       "      <th>613</th>\n",
       "      <td>3=Cirrhosis</td>\n",
       "      <td>46</td>\n",
       "      <td>f</td>\n",
       "      <td>33.0</td>\n",
       "      <td>NaN</td>\n",
       "      <td>39.0</td>\n",
       "      <td>62.0</td>\n",
       "      <td>20.0</td>\n",
       "      <td>3.56</td>\n",
       "      <td>4.20</td>\n",
       "      <td>52.0</td>\n",
       "      <td>50.0</td>\n",
       "      <td>71.0</td>\n",
       "    </tr>\n",
       "    <tr>\n",
       "      <th>614</th>\n",
       "      <td>3=Cirrhosis</td>\n",
       "      <td>59</td>\n",
       "      <td>f</td>\n",
       "      <td>36.0</td>\n",
       "      <td>NaN</td>\n",
       "      <td>100.0</td>\n",
       "      <td>80.0</td>\n",
       "      <td>12.0</td>\n",
       "      <td>9.07</td>\n",
       "      <td>5.30</td>\n",
       "      <td>67.0</td>\n",
       "      <td>34.0</td>\n",
       "      <td>68.0</td>\n",
       "    </tr>\n",
       "  </tbody>\n",
       "</table>\n",
       "<p>615 rows × 13 columns</p>\n",
       "</div>"
      ],
      "text/plain": [
       "          Category  Age Sex   ALB    ALP    ALT    AST   BIL    CHE  CHOL  \\\n",
       "0    0=Blood Donor   32   m  38.5   52.5    7.7   22.1   7.5   6.93  3.23   \n",
       "1    0=Blood Donor   32   m  38.5   70.3   18.0   24.7   3.9  11.17  4.80   \n",
       "2    0=Blood Donor   32   m  46.9   74.7   36.2   52.6   6.1   8.84  5.20   \n",
       "3    0=Blood Donor   32   m  43.2   52.0   30.6   22.6  18.9   7.33  4.74   \n",
       "4    0=Blood Donor   32   m  39.2   74.1   32.6   24.8   9.6   9.15  4.32   \n",
       "..             ...  ...  ..   ...    ...    ...    ...   ...    ...   ...   \n",
       "610    3=Cirrhosis   62   f  32.0  416.6    5.9  110.3  50.0   5.57  6.30   \n",
       "611    3=Cirrhosis   64   f  24.0  102.8    2.9   44.4  20.0   1.54  3.02   \n",
       "612    3=Cirrhosis   64   f  29.0   87.3    3.5   99.0  48.0   1.66  3.63   \n",
       "613    3=Cirrhosis   46   f  33.0    NaN   39.0   62.0  20.0   3.56  4.20   \n",
       "614    3=Cirrhosis   59   f  36.0    NaN  100.0   80.0  12.0   9.07  5.30   \n",
       "\n",
       "      CREA    GGT  PROT  \n",
       "0    106.0   12.1  69.0  \n",
       "1     74.0   15.6  76.5  \n",
       "2     86.0   33.2  79.3  \n",
       "3     80.0   33.8  75.7  \n",
       "4     76.0   29.9  68.7  \n",
       "..     ...    ...   ...  \n",
       "610   55.7  650.9  68.5  \n",
       "611   63.0   35.9  71.3  \n",
       "612   66.7   64.2  82.0  \n",
       "613   52.0   50.0  71.0  \n",
       "614   67.0   34.0  68.0  \n",
       "\n",
       "[615 rows x 13 columns]"
      ]
     },
     "execution_count": 2,
     "metadata": {},
     "output_type": "execute_result"
    }
   ],
   "source": [
    "data = data.drop(\"Unnamed: 0\", axis=1)\n",
    "data"
   ]
  },
  {
   "cell_type": "markdown",
   "metadata": {},
   "source": [
    "#### Biochemical tests\n",
    "In the paper:\n",
    "`The following six traditional diagnostic tests for liver diseases were measured on a Modular P800 automatic analyzer (Roche Diagnostics): albumin (ALB), bilirubin (BIL), choline esterase (CHE), γ-glutamyl-transferase (GGT), aspartate amino-transferase (AST), and alanine amino-transferase (ALT). The concentrations of tissue inhibitor of metalloproteinase 1 (TIMP1), N-terminal peptide of procollagen III (PIIINP), and hyaluronic acid (HA) were measured on the immunochemical analyzer ADVIA Centaur CP (Siemens). The ELF score was calculated directly by the instrument employing the following equation...`"
   ]
  },
  {
   "cell_type": "markdown",
   "metadata": {},
   "source": [
    "#### Metadata:\n",
    "73 patients (52 males, 21 females), aged 19 to 75 years (median 50), with a proven serological and histopathological diagnosis of hepatitis C. The morphological pictures ranged from chronic hepatitis C infection without fibrosis to end stage liver cirrhosis with a need for liver transplantation"
   ]
  },
  {
   "cell_type": "code",
   "execution_count": 3,
   "metadata": {},
   "outputs": [],
   "source": [
    "# create a dictionary store meaning of column names (parameters that are measured during the study)"
   ]
  },
  {
   "cell_type": "code",
   "execution_count": 4,
   "metadata": {},
   "outputs": [],
   "source": [
    "dict_para = {\"ALB\" : \"albumin\", \"ALP\": \"Alkaline phosphatase\", \"ALT\":\"alanine amino-transferase\", \"AST\" : \"aspartate amino-transferase\",\n",
    "            \"BIL\" : \"bilirubin\", \"CHE\" : \"choline esterase\", \"CHOL\" : \"Cholesterol\", \"CREA\" : \"creatin\", \n",
    "            \"GGT\" : \"γ-glutamyl-transferase\", \"PROT\" : [\"inhibitor of metalloproteinase 1 (TIMP1)\",\"N-terminal peptide of procollagen III (PIIINP)\",\"hyaluronic acid (HA)\"]}"
   ]
  },
  {
   "cell_type": "code",
   "execution_count": 5,
   "metadata": {},
   "outputs": [],
   "source": [
    "# Again, let's explore our data:"
   ]
  },
  {
   "cell_type": "code",
   "execution_count": 6,
   "metadata": {},
   "outputs": [
    {
     "data": {
      "text/html": [
       "<div>\n",
       "<style scoped>\n",
       "    .dataframe tbody tr th:only-of-type {\n",
       "        vertical-align: middle;\n",
       "    }\n",
       "\n",
       "    .dataframe tbody tr th {\n",
       "        vertical-align: top;\n",
       "    }\n",
       "\n",
       "    .dataframe thead th {\n",
       "        text-align: right;\n",
       "    }\n",
       "</style>\n",
       "<table border=\"1\" class=\"dataframe\">\n",
       "  <thead>\n",
       "    <tr style=\"text-align: right;\">\n",
       "      <th></th>\n",
       "      <th>Age</th>\n",
       "      <th>ALB</th>\n",
       "      <th>ALP</th>\n",
       "      <th>ALT</th>\n",
       "      <th>AST</th>\n",
       "      <th>BIL</th>\n",
       "      <th>CHE</th>\n",
       "      <th>CHOL</th>\n",
       "      <th>CREA</th>\n",
       "      <th>GGT</th>\n",
       "      <th>PROT</th>\n",
       "    </tr>\n",
       "  </thead>\n",
       "  <tbody>\n",
       "    <tr>\n",
       "      <th>count</th>\n",
       "      <td>615.000000</td>\n",
       "      <td>614.000000</td>\n",
       "      <td>597.000000</td>\n",
       "      <td>614.000000</td>\n",
       "      <td>615.000000</td>\n",
       "      <td>615.000000</td>\n",
       "      <td>615.000000</td>\n",
       "      <td>605.000000</td>\n",
       "      <td>615.000000</td>\n",
       "      <td>615.000000</td>\n",
       "      <td>614.000000</td>\n",
       "    </tr>\n",
       "    <tr>\n",
       "      <th>mean</th>\n",
       "      <td>47.408130</td>\n",
       "      <td>41.620195</td>\n",
       "      <td>68.283920</td>\n",
       "      <td>28.450814</td>\n",
       "      <td>34.786341</td>\n",
       "      <td>11.396748</td>\n",
       "      <td>8.196634</td>\n",
       "      <td>5.368099</td>\n",
       "      <td>81.287805</td>\n",
       "      <td>39.533171</td>\n",
       "      <td>72.044137</td>\n",
       "    </tr>\n",
       "    <tr>\n",
       "      <th>std</th>\n",
       "      <td>10.055105</td>\n",
       "      <td>5.780629</td>\n",
       "      <td>26.028315</td>\n",
       "      <td>25.469689</td>\n",
       "      <td>33.090690</td>\n",
       "      <td>19.673150</td>\n",
       "      <td>2.205657</td>\n",
       "      <td>1.132728</td>\n",
       "      <td>49.756166</td>\n",
       "      <td>54.661071</td>\n",
       "      <td>5.402636</td>\n",
       "    </tr>\n",
       "    <tr>\n",
       "      <th>min</th>\n",
       "      <td>19.000000</td>\n",
       "      <td>14.900000</td>\n",
       "      <td>11.300000</td>\n",
       "      <td>0.900000</td>\n",
       "      <td>10.600000</td>\n",
       "      <td>0.800000</td>\n",
       "      <td>1.420000</td>\n",
       "      <td>1.430000</td>\n",
       "      <td>8.000000</td>\n",
       "      <td>4.500000</td>\n",
       "      <td>44.800000</td>\n",
       "    </tr>\n",
       "    <tr>\n",
       "      <th>25%</th>\n",
       "      <td>39.000000</td>\n",
       "      <td>38.800000</td>\n",
       "      <td>52.500000</td>\n",
       "      <td>16.400000</td>\n",
       "      <td>21.600000</td>\n",
       "      <td>5.300000</td>\n",
       "      <td>6.935000</td>\n",
       "      <td>4.610000</td>\n",
       "      <td>67.000000</td>\n",
       "      <td>15.700000</td>\n",
       "      <td>69.300000</td>\n",
       "    </tr>\n",
       "    <tr>\n",
       "      <th>50%</th>\n",
       "      <td>47.000000</td>\n",
       "      <td>41.950000</td>\n",
       "      <td>66.200000</td>\n",
       "      <td>23.000000</td>\n",
       "      <td>25.900000</td>\n",
       "      <td>7.300000</td>\n",
       "      <td>8.260000</td>\n",
       "      <td>5.300000</td>\n",
       "      <td>77.000000</td>\n",
       "      <td>23.300000</td>\n",
       "      <td>72.200000</td>\n",
       "    </tr>\n",
       "    <tr>\n",
       "      <th>75%</th>\n",
       "      <td>54.000000</td>\n",
       "      <td>45.200000</td>\n",
       "      <td>80.100000</td>\n",
       "      <td>33.075000</td>\n",
       "      <td>32.900000</td>\n",
       "      <td>11.200000</td>\n",
       "      <td>9.590000</td>\n",
       "      <td>6.060000</td>\n",
       "      <td>88.000000</td>\n",
       "      <td>40.200000</td>\n",
       "      <td>75.400000</td>\n",
       "    </tr>\n",
       "    <tr>\n",
       "      <th>max</th>\n",
       "      <td>77.000000</td>\n",
       "      <td>82.200000</td>\n",
       "      <td>416.600000</td>\n",
       "      <td>325.300000</td>\n",
       "      <td>324.000000</td>\n",
       "      <td>254.000000</td>\n",
       "      <td>16.410000</td>\n",
       "      <td>9.670000</td>\n",
       "      <td>1079.100000</td>\n",
       "      <td>650.900000</td>\n",
       "      <td>90.000000</td>\n",
       "    </tr>\n",
       "  </tbody>\n",
       "</table>\n",
       "</div>"
      ],
      "text/plain": [
       "              Age         ALB         ALP         ALT         AST         BIL  \\\n",
       "count  615.000000  614.000000  597.000000  614.000000  615.000000  615.000000   \n",
       "mean    47.408130   41.620195   68.283920   28.450814   34.786341   11.396748   \n",
       "std     10.055105    5.780629   26.028315   25.469689   33.090690   19.673150   \n",
       "min     19.000000   14.900000   11.300000    0.900000   10.600000    0.800000   \n",
       "25%     39.000000   38.800000   52.500000   16.400000   21.600000    5.300000   \n",
       "50%     47.000000   41.950000   66.200000   23.000000   25.900000    7.300000   \n",
       "75%     54.000000   45.200000   80.100000   33.075000   32.900000   11.200000   \n",
       "max     77.000000   82.200000  416.600000  325.300000  324.000000  254.000000   \n",
       "\n",
       "              CHE        CHOL         CREA         GGT        PROT  \n",
       "count  615.000000  605.000000   615.000000  615.000000  614.000000  \n",
       "mean     8.196634    5.368099    81.287805   39.533171   72.044137  \n",
       "std      2.205657    1.132728    49.756166   54.661071    5.402636  \n",
       "min      1.420000    1.430000     8.000000    4.500000   44.800000  \n",
       "25%      6.935000    4.610000    67.000000   15.700000   69.300000  \n",
       "50%      8.260000    5.300000    77.000000   23.300000   72.200000  \n",
       "75%      9.590000    6.060000    88.000000   40.200000   75.400000  \n",
       "max     16.410000    9.670000  1079.100000  650.900000   90.000000  "
      ]
     },
     "execution_count": 6,
     "metadata": {},
     "output_type": "execute_result"
    }
   ],
   "source": [
    "data.describe()"
   ]
  },
  {
   "cell_type": "code",
   "execution_count": 7,
   "metadata": {
    "scrolled": false
   },
   "outputs": [
    {
     "data": {
      "text/plain": [
       "m    377\n",
       "f    238\n",
       "Name: Sex, dtype: int64"
      ]
     },
     "execution_count": 7,
     "metadata": {},
     "output_type": "execute_result"
    }
   ],
   "source": [
    "data.Sex.value_counts()"
   ]
  },
  {
   "cell_type": "code",
   "execution_count": 8,
   "metadata": {},
   "outputs": [
    {
     "data": {
      "text/plain": [
       "0=Blood Donor             533\n",
       "3=Cirrhosis                30\n",
       "1=Hepatitis                24\n",
       "2=Fibrosis                 21\n",
       "0s=suspect Blood Donor      7\n",
       "Name: Category, dtype: int64"
      ]
     },
     "execution_count": 8,
     "metadata": {},
     "output_type": "execute_result"
    }
   ],
   "source": [
    "data.Category.value_counts()"
   ]
  },
  {
   "cell_type": "markdown",
   "metadata": {},
   "source": [
    "Camel vs dromedary?\n",
    "<img src=\"fig/camel.png\" width=300>"
   ]
  },
  {
   "cell_type": "markdown",
   "metadata": {},
   "source": [
    "## Dimension reduction \n",
    "                                        an example with PCA (principle component analysis)"
   ]
  },
  {
   "cell_type": "markdown",
   "metadata": {},
   "source": [
    "The first and foremost thing to do is to scale the data, bringing all features to have mean 0 and standard deviation 1 is a standard way. We will learn deeper about scaling in the next lesson. For today, the code is already given for you. Principle component analysis explaination was given in the course \"Biostatistics for Dummies\", if you didn't attend the course, refer to our slides."
   ]
  },
  {
   "cell_type": "markdown",
   "metadata": {},
   "source": [
    "    - Why dimension reduction?"
   ]
  },
  {
   "cell_type": "markdown",
   "metadata": {},
   "source": [
    "Import necessary modules. We will use pearsonr from scipy.stats to calculate correlation without using R :) Python is very powerful thanks to scipy, Numpy, sklearn and more!"
   ]
  },
  {
   "cell_type": "code",
   "execution_count": 9,
   "metadata": {},
   "outputs": [],
   "source": [
    "# Check if we have missing data"
   ]
  },
  {
   "cell_type": "code",
   "execution_count": 10,
   "metadata": {
    "scrolled": true
   },
   "outputs": [
    {
     "data": {
      "text/plain": [
       "Category     0\n",
       "Age          0\n",
       "Sex          0\n",
       "ALB          1\n",
       "ALP         18\n",
       "ALT          1\n",
       "AST          0\n",
       "BIL          0\n",
       "CHE          0\n",
       "CHOL        10\n",
       "CREA         0\n",
       "GGT          0\n",
       "PROT         1\n",
       "dtype: int64"
      ]
     },
     "execution_count": 10,
     "metadata": {},
     "output_type": "execute_result"
    }
   ],
   "source": [
    "data.isnull().sum()"
   ]
  },
  {
   "cell_type": "code",
   "execution_count": 11,
   "metadata": {},
   "outputs": [],
   "source": [
    "# For now, we just drop those values, you will learn about imputing these values in the last session!"
   ]
  },
  {
   "cell_type": "code",
   "execution_count": 12,
   "metadata": {},
   "outputs": [
    {
     "name": "stdout",
     "output_type": "stream",
     "text": [
      "Shape of Original DataFrame: (615, 13)\n",
      "Shape of DataFrame After Dropping All Rows with Missing Values: (589, 13)\n"
     ]
    }
   ],
   "source": [
    "# Print shape of original DataFrame\n",
    "print(\"Shape of Original DataFrame: {}\".format(data.shape))\n",
    "\n",
    "# Drop missing values and print shape of new DataFrame\n",
    "data_drop = data.dropna()\n",
    "\n",
    "# Print shape of new DataFrame\n",
    "print(\"Shape of DataFrame After Dropping All Rows with Missing Values: {}\".format(data_drop.shape))\n",
    "\n"
   ]
  },
  {
   "cell_type": "code",
   "execution_count": 13,
   "metadata": {},
   "outputs": [
    {
     "data": {
      "text/html": [
       "<div>\n",
       "<style scoped>\n",
       "    .dataframe tbody tr th:only-of-type {\n",
       "        vertical-align: middle;\n",
       "    }\n",
       "\n",
       "    .dataframe tbody tr th {\n",
       "        vertical-align: top;\n",
       "    }\n",
       "\n",
       "    .dataframe thead th {\n",
       "        text-align: right;\n",
       "    }\n",
       "</style>\n",
       "<table border=\"1\" class=\"dataframe\">\n",
       "  <thead>\n",
       "    <tr style=\"text-align: right;\">\n",
       "      <th></th>\n",
       "      <th>Category</th>\n",
       "      <th>Age</th>\n",
       "      <th>Sex</th>\n",
       "      <th>ALB</th>\n",
       "      <th>ALP</th>\n",
       "      <th>ALT</th>\n",
       "      <th>AST</th>\n",
       "      <th>BIL</th>\n",
       "      <th>CHE</th>\n",
       "      <th>CHOL</th>\n",
       "      <th>CREA</th>\n",
       "      <th>GGT</th>\n",
       "      <th>PROT</th>\n",
       "    </tr>\n",
       "  </thead>\n",
       "  <tbody>\n",
       "    <tr>\n",
       "      <th>0</th>\n",
       "      <td>0=Blood Donor</td>\n",
       "      <td>32</td>\n",
       "      <td>m</td>\n",
       "      <td>38.5</td>\n",
       "      <td>52.5</td>\n",
       "      <td>7.7</td>\n",
       "      <td>22.1</td>\n",
       "      <td>7.5</td>\n",
       "      <td>6.93</td>\n",
       "      <td>3.23</td>\n",
       "      <td>106.0</td>\n",
       "      <td>12.1</td>\n",
       "      <td>69.0</td>\n",
       "    </tr>\n",
       "    <tr>\n",
       "      <th>1</th>\n",
       "      <td>0=Blood Donor</td>\n",
       "      <td>32</td>\n",
       "      <td>m</td>\n",
       "      <td>38.5</td>\n",
       "      <td>70.3</td>\n",
       "      <td>18.0</td>\n",
       "      <td>24.7</td>\n",
       "      <td>3.9</td>\n",
       "      <td>11.17</td>\n",
       "      <td>4.80</td>\n",
       "      <td>74.0</td>\n",
       "      <td>15.6</td>\n",
       "      <td>76.5</td>\n",
       "    </tr>\n",
       "    <tr>\n",
       "      <th>2</th>\n",
       "      <td>0=Blood Donor</td>\n",
       "      <td>32</td>\n",
       "      <td>m</td>\n",
       "      <td>46.9</td>\n",
       "      <td>74.7</td>\n",
       "      <td>36.2</td>\n",
       "      <td>52.6</td>\n",
       "      <td>6.1</td>\n",
       "      <td>8.84</td>\n",
       "      <td>5.20</td>\n",
       "      <td>86.0</td>\n",
       "      <td>33.2</td>\n",
       "      <td>79.3</td>\n",
       "    </tr>\n",
       "    <tr>\n",
       "      <th>3</th>\n",
       "      <td>0=Blood Donor</td>\n",
       "      <td>32</td>\n",
       "      <td>m</td>\n",
       "      <td>43.2</td>\n",
       "      <td>52.0</td>\n",
       "      <td>30.6</td>\n",
       "      <td>22.6</td>\n",
       "      <td>18.9</td>\n",
       "      <td>7.33</td>\n",
       "      <td>4.74</td>\n",
       "      <td>80.0</td>\n",
       "      <td>33.8</td>\n",
       "      <td>75.7</td>\n",
       "    </tr>\n",
       "    <tr>\n",
       "      <th>4</th>\n",
       "      <td>0=Blood Donor</td>\n",
       "      <td>32</td>\n",
       "      <td>m</td>\n",
       "      <td>39.2</td>\n",
       "      <td>74.1</td>\n",
       "      <td>32.6</td>\n",
       "      <td>24.8</td>\n",
       "      <td>9.6</td>\n",
       "      <td>9.15</td>\n",
       "      <td>4.32</td>\n",
       "      <td>76.0</td>\n",
       "      <td>29.9</td>\n",
       "      <td>68.7</td>\n",
       "    </tr>\n",
       "    <tr>\n",
       "      <th>...</th>\n",
       "      <td>...</td>\n",
       "      <td>...</td>\n",
       "      <td>...</td>\n",
       "      <td>...</td>\n",
       "      <td>...</td>\n",
       "      <td>...</td>\n",
       "      <td>...</td>\n",
       "      <td>...</td>\n",
       "      <td>...</td>\n",
       "      <td>...</td>\n",
       "      <td>...</td>\n",
       "      <td>...</td>\n",
       "      <td>...</td>\n",
       "    </tr>\n",
       "    <tr>\n",
       "      <th>608</th>\n",
       "      <td>3=Cirrhosis</td>\n",
       "      <td>58</td>\n",
       "      <td>f</td>\n",
       "      <td>34.0</td>\n",
       "      <td>46.4</td>\n",
       "      <td>15.0</td>\n",
       "      <td>150.0</td>\n",
       "      <td>8.0</td>\n",
       "      <td>6.26</td>\n",
       "      <td>3.98</td>\n",
       "      <td>56.0</td>\n",
       "      <td>49.7</td>\n",
       "      <td>80.6</td>\n",
       "    </tr>\n",
       "    <tr>\n",
       "      <th>609</th>\n",
       "      <td>3=Cirrhosis</td>\n",
       "      <td>59</td>\n",
       "      <td>f</td>\n",
       "      <td>39.0</td>\n",
       "      <td>51.3</td>\n",
       "      <td>19.6</td>\n",
       "      <td>285.8</td>\n",
       "      <td>40.0</td>\n",
       "      <td>5.77</td>\n",
       "      <td>4.51</td>\n",
       "      <td>136.1</td>\n",
       "      <td>101.1</td>\n",
       "      <td>70.5</td>\n",
       "    </tr>\n",
       "    <tr>\n",
       "      <th>610</th>\n",
       "      <td>3=Cirrhosis</td>\n",
       "      <td>62</td>\n",
       "      <td>f</td>\n",
       "      <td>32.0</td>\n",
       "      <td>416.6</td>\n",
       "      <td>5.9</td>\n",
       "      <td>110.3</td>\n",
       "      <td>50.0</td>\n",
       "      <td>5.57</td>\n",
       "      <td>6.30</td>\n",
       "      <td>55.7</td>\n",
       "      <td>650.9</td>\n",
       "      <td>68.5</td>\n",
       "    </tr>\n",
       "    <tr>\n",
       "      <th>611</th>\n",
       "      <td>3=Cirrhosis</td>\n",
       "      <td>64</td>\n",
       "      <td>f</td>\n",
       "      <td>24.0</td>\n",
       "      <td>102.8</td>\n",
       "      <td>2.9</td>\n",
       "      <td>44.4</td>\n",
       "      <td>20.0</td>\n",
       "      <td>1.54</td>\n",
       "      <td>3.02</td>\n",
       "      <td>63.0</td>\n",
       "      <td>35.9</td>\n",
       "      <td>71.3</td>\n",
       "    </tr>\n",
       "    <tr>\n",
       "      <th>612</th>\n",
       "      <td>3=Cirrhosis</td>\n",
       "      <td>64</td>\n",
       "      <td>f</td>\n",
       "      <td>29.0</td>\n",
       "      <td>87.3</td>\n",
       "      <td>3.5</td>\n",
       "      <td>99.0</td>\n",
       "      <td>48.0</td>\n",
       "      <td>1.66</td>\n",
       "      <td>3.63</td>\n",
       "      <td>66.7</td>\n",
       "      <td>64.2</td>\n",
       "      <td>82.0</td>\n",
       "    </tr>\n",
       "  </tbody>\n",
       "</table>\n",
       "<p>589 rows × 13 columns</p>\n",
       "</div>"
      ],
      "text/plain": [
       "          Category  Age Sex   ALB    ALP   ALT    AST   BIL    CHE  CHOL  \\\n",
       "0    0=Blood Donor   32   m  38.5   52.5   7.7   22.1   7.5   6.93  3.23   \n",
       "1    0=Blood Donor   32   m  38.5   70.3  18.0   24.7   3.9  11.17  4.80   \n",
       "2    0=Blood Donor   32   m  46.9   74.7  36.2   52.6   6.1   8.84  5.20   \n",
       "3    0=Blood Donor   32   m  43.2   52.0  30.6   22.6  18.9   7.33  4.74   \n",
       "4    0=Blood Donor   32   m  39.2   74.1  32.6   24.8   9.6   9.15  4.32   \n",
       "..             ...  ...  ..   ...    ...   ...    ...   ...    ...   ...   \n",
       "608    3=Cirrhosis   58   f  34.0   46.4  15.0  150.0   8.0   6.26  3.98   \n",
       "609    3=Cirrhosis   59   f  39.0   51.3  19.6  285.8  40.0   5.77  4.51   \n",
       "610    3=Cirrhosis   62   f  32.0  416.6   5.9  110.3  50.0   5.57  6.30   \n",
       "611    3=Cirrhosis   64   f  24.0  102.8   2.9   44.4  20.0   1.54  3.02   \n",
       "612    3=Cirrhosis   64   f  29.0   87.3   3.5   99.0  48.0   1.66  3.63   \n",
       "\n",
       "      CREA    GGT  PROT  \n",
       "0    106.0   12.1  69.0  \n",
       "1     74.0   15.6  76.5  \n",
       "2     86.0   33.2  79.3  \n",
       "3     80.0   33.8  75.7  \n",
       "4     76.0   29.9  68.7  \n",
       "..     ...    ...   ...  \n",
       "608   56.0   49.7  80.6  \n",
       "609  136.1  101.1  70.5  \n",
       "610   55.7  650.9  68.5  \n",
       "611   63.0   35.9  71.3  \n",
       "612   66.7   64.2  82.0  \n",
       "\n",
       "[589 rows x 13 columns]"
      ]
     },
     "execution_count": 13,
     "metadata": {},
     "output_type": "execute_result"
    }
   ],
   "source": [
    "data_drop"
   ]
  },
  {
   "cell_type": "code",
   "execution_count": 14,
   "metadata": {},
   "outputs": [],
   "source": [
    "# Import PCA\n",
    "from sklearn.decomposition import PCA\n",
    "import matplotlib.pyplot as plt\n",
    "from scipy.stats import pearsonr\n",
    "from sklearn.preprocessing import StandardScaler"
   ]
  },
  {
   "cell_type": "code",
   "execution_count": 15,
   "metadata": {},
   "outputs": [],
   "source": [
    "# Create scaler: scaler\n",
    "scaler = StandardScaler()\n",
    "data_rescaled = scaler.fit_transform(data_drop.iloc[:,3:])"
   ]
  },
  {
   "cell_type": "code",
   "execution_count": 16,
   "metadata": {},
   "outputs": [
    {
     "data": {
      "text/plain": [
       "array([[-0.54270146, -0.60323005, -0.90549379, ...,  0.48033581,\n",
       "        -0.48102205, -0.54078756],\n",
       "       [-0.54270146,  0.08405364, -0.41138002, ..., -0.15140186,\n",
       "        -0.4165134 ,  0.86256616],\n",
       "       [ 0.91641697,  0.25394399,  0.46171419, ...,  0.08549977,\n",
       "        -0.09212705,  1.38648489],\n",
       "       ...,\n",
       "       [-1.6717812 , 13.45519639, -0.99184376, ..., -0.51267684,\n",
       "        11.29272798, -0.63434447],\n",
       "       [-3.0614178 ,  1.33892554, -1.13576039, ..., -0.36856168,\n",
       "        -0.04236324, -0.11042575],\n",
       "       [-2.19289492,  0.74044817, -1.10697707, ..., -0.29551702,\n",
       "         0.47923527,  1.89169223]])"
      ]
     },
     "execution_count": 16,
     "metadata": {},
     "output_type": "execute_result"
    }
   ],
   "source": [
    "data_rescaled"
   ]
  },
  {
   "cell_type": "markdown",
   "metadata": {},
   "source": [
    "-  Now instantiate a PCA() instance with name `model` without specifying number of components, then apply fit to the scaled data"
   ]
  },
  {
   "cell_type": "code",
   "execution_count": 17,
   "metadata": {
    "scrolled": true
   },
   "outputs": [],
   "source": [
    "# Create PCA instance: model\n",
    "model = PCA()\n",
    "\n",
    "# Apply the fit method of model to data_rescaled: pca_features\n",
    "pca = model.fit(data_rescaled)"
   ]
  },
  {
   "cell_type": "code",
   "execution_count": 18,
   "metadata": {},
   "outputs": [
    {
     "data": {
      "text/plain": [
       "array([[-0.44375344,  0.1529208 , -0.03297578,  0.34171688,  0.34212025,\n",
       "        -0.44539699, -0.34694618,  0.06846011,  0.30140753, -0.36126252],\n",
       "       [ 0.09913982,  0.47144669,  0.45361695,  0.29982061,  0.02409179,\n",
       "         0.26001763,  0.28901209,  0.11024788,  0.51869908,  0.19831209],\n",
       "       [ 0.39962943, -0.31929128, -0.15174022,  0.41657021,  0.4186448 ,\n",
       "        -0.12290196, -0.18404975, -0.13891754,  0.0730561 ,  0.54121679],\n",
       "       [ 0.17399065,  0.22415155, -0.40739158, -0.22636258,  0.11324891,\n",
       "        -0.062345  , -0.04418254,  0.81068058,  0.07290843,  0.14523246],\n",
       "       [ 0.12896907, -0.3053289 ,  0.45270078,  0.24595529, -0.42909808,\n",
       "         0.05367112, -0.51537467,  0.4051252 , -0.06991617, -0.05547728],\n",
       "       [ 0.21767889,  0.4463538 , -0.22774822, -0.12987692, -0.48555078,\n",
       "        -0.25935097, -0.41956241, -0.34980277,  0.21341374,  0.19412475],\n",
       "       [ 0.24361877,  0.3021843 ,  0.50616365, -0.41410111,  0.47474458,\n",
       "        -0.12433997, -0.28302344, -0.05933428, -0.31169451, -0.00583426],\n",
       "       [-0.07486672,  0.13171413, -0.2584856 ,  0.04553659,  0.20082972,\n",
       "         0.7918691 , -0.45878374, -0.1069811 ,  0.01841502, -0.13602257],\n",
       "       [ 0.56540423, -0.26991227, -0.03499313, -0.19782851,  0.07694855,\n",
       "        -0.01001024,  0.04979351, -0.07121408,  0.48631554, -0.56305406],\n",
       "       [ 0.39322203,  0.35803403, -0.1519969 ,  0.52774517, -0.05257127,\n",
       "        -0.0475368 ,  0.15989406,  0.01149625, -0.49499784, -0.37393238]])"
      ]
     },
     "execution_count": 18,
     "metadata": {},
     "output_type": "execute_result"
    }
   ],
   "source": [
    "pca.components_"
   ]
  },
  {
   "cell_type": "markdown",
   "metadata": {},
   "source": [
    "As you can see, we are just transforming our high dimensional dataset into a 2D visualization of 2 independent "
   ]
  },
  {
   "cell_type": "markdown",
   "metadata": {},
   "source": [
    " Dimension reduction methods like PCA offer one viewpoint on the data. Depending on the viewpoint, the retained information won’t be the same. "
   ]
  },
  {
   "cell_type": "code",
   "execution_count": 19,
   "metadata": {},
   "outputs": [
    {
     "data": {
      "text/plain": [
       "10"
      ]
     },
     "execution_count": 19,
     "metadata": {},
     "output_type": "execute_result"
    }
   ],
   "source": [
    "pca.n_components_"
   ]
  },
  {
   "cell_type": "markdown",
   "metadata": {},
   "source": [
    "-  \"intrinsic dimension\" of the data = ?"
   ]
  },
  {
   "cell_type": "markdown",
   "metadata": {},
   "source": [
    "Easy plot :)"
   ]
  },
  {
   "cell_type": "code",
   "execution_count": 20,
   "metadata": {},
   "outputs": [],
   "source": [
    "import numpy as np"
   ]
  },
  {
   "cell_type": "code",
   "execution_count": 21,
   "metadata": {},
   "outputs": [
    {
     "data": {
      "image/png": "[encoded data removed]",
      "text/plain": [
       "<Figure size 432x288 with 1 Axes>"
      ]
     },
     "metadata": {},
     "output_type": "display_data"
    }
   ],
   "source": [
    "plt.plot(np.cumsum(pca.explained_variance_ratio_))\n",
    "plt.xlabel('number of components')\n",
    "plt.ylabel('cumulative explained variance');"
   ]
  },
  {
   "cell_type": "markdown",
   "metadata": {},
   "source": [
    "Fancy plot :D"
   ]
  },
  {
   "cell_type": "code",
   "execution_count": 33,
   "metadata": {},
   "outputs": [
    {
     "data": {
      "image/png": "[encoded data removed]",
      "text/plain": [
       "<Figure size 2160x1440 with 1 Axes>"
      ]
     },
     "metadata": {},
     "output_type": "display_data"
    }
   ],
   "source": [
    "\n",
    "import numpy as np\n",
    "%matplotlib inline\n",
    "import matplotlib.pyplot as plt\n",
    "plt.rcParams[\"figure.figsize\"] = (30,20)\n",
    "\n",
    "fig, ax = plt.subplots()\n",
    "xi = np.arange(1, 11, step=1)\n",
    "y = np.cumsum(pca.explained_variance_ratio_)\n",
    "\n",
    "plt.ylim(0.0,1.1)\n",
    "plt.plot(xi, y, marker='o', linestyle='--', color='b')\n",
    "\n",
    "plt.xlabel('Number of Components')\n",
    "plt.ylabel('Cumulative variance (%)')\n",
    "plt.title('The number of components needed to explain variance')\n",
    "\n",
    "plt.axhline(y=0.9, color='r', linestyle='-')\n",
    "plt.text(0.5, 0.85, '90% cut-off threshold', color = 'red', fontsize=16)\n",
    "\n",
    "ax.grid(axis='x')\n",
    "plt.show()"
   ]
  },
  {
   "cell_type": "code",
   "execution_count": 23,
   "metadata": {},
   "outputs": [
    {
     "data": {
      "text/plain": [
       "7"
      ]
     },
     "execution_count": 23,
     "metadata": {},
     "output_type": "execute_result"
    }
   ],
   "source": [
    "n_comp = np.arange(0,len(pca.explained_variance_ratio_),1)\n",
    "np.min(n_comp[np.cumsum(pca.explained_variance_ratio_) > 0.9])"
   ]
  },
  {
   "cell_type": "code",
   "execution_count": 29,
   "metadata": {},
   "outputs": [
    {
     "data": {
      "image/png": "[encoded data removed]",
      "text/plain": [
       "<Figure size 1080x576 with 1 Axes>"
      ]
     },
     "metadata": {},
     "output_type": "display_data"
    },
    {
     "name": "stdout",
     "output_type": "stream",
     "text": [
      "2.0621994622698004e-16\n"
     ]
    }
   ],
   "source": [
    "\n",
    "# Transform the scaled samples: pca_features\n",
    "pca_features = PCA(n_components=7).fit_transform(data_rescaled)\n",
    "plt.rcParams[\"figure.figsize\"] = (15,8)\n",
    "# Print the shape of pca_features\n",
    "# Assign 0th column of pca_features: xs\n",
    "xs = pca_features[:,0]\n",
    "\n",
    "# Assign 1st column of pca_features: ys\n",
    "ys = pca_features[:,1]\n",
    "\n",
    "# Scatter plot xs vs ys\n",
    "import matplotlib._color_data as mcd\n",
    "for i, category in enumerate(np.unique(data_drop.Category)):\n",
    "    plt.scatter(xs[data_drop.Category == category], \n",
    "                ys[data_drop.Category == category],\n",
    "                color=list(mcd.CSS4_COLORS.values())[i+45], label = \"Category: {}\".format(category)\n",
    "               )\n",
    "    plt.axis('equal')\n",
    "plt.xlabel(\"PC1\")\n",
    "plt.ylabel(\"PC2\")\n",
    "plt.legend()\n",
    "plt.show()\n",
    "\n",
    "# Calculate the Pearson correlation of xs and ys\n",
    "correlation, pvalue = pearsonr(xs, ys)\n",
    "\n",
    "# Display the correlation\n",
    "print(correlation)"
   ]
  },
  {
   "cell_type": "markdown",
   "metadata": {},
   "source": [
    "            You have just \"decorrelate\" our data! See how small the correlation coefficient!"
   ]
  },
  {
   "cell_type": "markdown",
   "metadata": {},
   "source": [
    "- We realized something from this plot! Healthy blood donor tend to have coordinate on PC1 around 0, whereas high on PC1 are Cirrhosis, Fibrosis, and Hepatitis! We want to see which variable (markers) that contribute mostly to PC1, thus contribute the most to variance of our data."
   ]
  },
  {
   "cell_type": "code",
   "execution_count": null,
   "metadata": {},
   "outputs": [],
   "source": [
    "# Let’s find the most important features:"
   ]
  },
  {
   "cell_type": "code",
   "execution_count": null,
   "metadata": {},
   "outputs": [],
   "source": [
    "c = abs(pca.components_ )\n",
    "c"
   ]
  },
  {
   "cell_type": "code",
   "execution_count": null,
   "metadata": {},
   "outputs": [],
   "source": [
    "np.where(c[0] == np.amax(abs(pca.components_ )[0]))"
   ]
  },
  {
   "cell_type": "code",
   "execution_count": null,
   "metadata": {},
   "outputs": [],
   "source": [
    "data_drop.columns"
   ]
  },
  {
   "cell_type": "markdown",
   "metadata": {},
   "source": [
    "We can see quickly it's ALB and CHE. Make sense! Albumin is the most abundant proteins! How about Cholineesterase? We found something interesting without even knowing about it beforehand! I just looked up the internet and yes choline esterase seems to have correlation with liver cirrhosis :) http://www.tropicalgastro.com/articles/35/1/serum-cholinesterase-is-an-excellent.html "
   ]
  },
  {
   "cell_type": "code",
   "execution_count": 25,
   "metadata": {},
   "outputs": [],
   "source": [
    "# mcd.CSS4_COLORS.values()"
   ]
  },
  {
   "cell_type": "markdown",
   "metadata": {},
   "source": [
    "In order to keep 90 percent of variance, we can use 7 components instead of 11! Now we can transform our data to a new dataset while keeping the essential structures of the data and applying Clustering."
   ]
  },
  {
   "cell_type": "markdown",
   "metadata": {},
   "source": [
    "In other example, PCA can be use to visualize the data. In your homework, you may want to try plotting the first 2 components PC1 and PC2 in a 2D graph. Sometimes, the first 2 PCs can account for 98% of variance! Finding those \"Intrinsic dimension\" can give you locate the main features that contribute to the data trend.\n",
    "In genomics, for example, compartments A and B (gene-rich: euchromatin and gene-poor: heterochromatin compartments) are discovered by PCA in Hi-C data (sequencing the genomes in 3D interaction space).\n"
   ]
  },
  {
   "cell_type": "markdown",
   "metadata": {},
   "source": [
    "Another important aspect of Dimension Reduction is Visualization. A great technique has widely applied recently is t-SNE ... See you in the next session!"
   ]
  },
  {
   "cell_type": "markdown",
   "metadata": {},
   "source": [
    "# t- Stochastic Neighbor Embedding t-SNE"
   ]
  },
  {
   "cell_type": "code",
   "execution_count": 31,
   "metadata": {
    "scrolled": true
   },
   "outputs": [
    {
     "data": {
      "image/png": "[encoded data removed]",
      "text/plain": [
       "<Figure size 432x288 with 1 Axes>"
      ]
     },
     "metadata": {},
     "output_type": "display_data"
    }
   ],
   "source": [
    "# Import TSNE\n",
    "from sklearn.manifold import TSNE \n",
    "plt.rcParams[\"figure.figsize\"] = (20,10)\n",
    "\n",
    "# Create a TSNE instance: model\n",
    "model = TSNE(learning_rate=10,perplexity=22, n_iter=3000, random_state=0)\n",
    "# Apply fit_transform to samples: tsne_features\n",
    "tsne_features = model.fit_transform(data_rescaled)\n",
    "\n",
    "# Select the 0th feature: xs\n",
    "xs = tsne_features[:,0]\n",
    "\n",
    "# Select the 1st feature: ys\n",
    "ys = tsne_features[:,1]\n",
    "%matplotlib inline\n",
    "# Scatter plot, coloring by variety_numbers\n",
    "for i, category in enumerate(np.unique(data_drop.Category)):\n",
    "    plt.scatter(xs[data_drop.Category == category], \n",
    "                ys[data_drop.Category == category], color=list(mcd.CSS4_COLORS.values())[i+42], \n",
    "                label = \"Category: {}\".format(category)\n",
    "               )\n",
    "plt.axis('equal')\n",
    "plt.show()\n"
   ]
  },
  {
   "cell_type": "code",
   "execution_count": null,
   "metadata": {},
   "outputs": [],
   "source": [
    "# What is the conclusion here? Try another perplexity"
   ]
  },
  {
   "cell_type": "markdown",
   "metadata": {},
   "source": [
    "“The performance of SNE is fairly robust to changes in the perplexity, and typical values are between 5 and 50.”\n",
    "With perplexity 2, local variations dominate. The image for perplexity 100, with merged clusters, illustrates a pitfall: for the algorithm to operate properly, the perplexity really should be smaller than the number of points. Implementations can give unexpected behavior otherwise."
   ]
  },
  {
   "cell_type": "markdown",
   "metadata": {},
   "source": [
    "* Perplexity between 5 and 50 usually work, but the value should never be larger than the number of samples.\n",
    "* Distance between clusters has no meaning\n",
    "* Size of clusters means nothing either\n",
    "* You should always have a lot of iterations to make sure the algo converges (~5000)\n",
    "* Indirectly, increasing perplexity tends to increase the importance of global relationships, while small complexity tends to favor local relationships"
   ]
  },
  {
   "cell_type": "markdown",
   "metadata": {},
   "source": [
    "# Clustering"
   ]
  },
  {
   "cell_type": "markdown",
   "metadata": {},
   "source": [
    "### Hierachical clustering\n"
   ]
  },
  {
   "cell_type": "markdown",
   "metadata": {},
   "source": [
    "[Read more about hierachical clustering](https://stackabuse.com/hierarchical-clustering-with-python-and-scikit-learn/)"
   ]
  },
  {
   "cell_type": "code",
   "execution_count": 135,
   "metadata": {},
   "outputs": [
    {
     "data": {
      "image/png": "[encoded data removed]",
      "text/plain": [
       "<Figure size 360x288 with 1 Axes>"
      ]
     },
     "metadata": {},
     "output_type": "display_data"
    }
   ],
   "source": [
    "# Perform the necessary imports\n",
    "import matplotlib.pyplot as plt\n",
    "from scipy.cluster.hierarchy import linkage, dendrogram\n",
    "\n",
    "# Calculate the linkage: mergings\n",
    "mergings = linkage(data_drop.iloc[:,3:].transpose(),\n",
    "                   method='single')\n",
    "# Plot the dendrogram\n",
    "plt.figure(figsize=(5,4))\n",
    "dendrogram(mergings,leaf_font_size=10, \n",
    "           leaf_rotation=90, \n",
    "           distance_sort=\"descending\", \n",
    "           labels=data_drop.columns)\n",
    "plt.title(\"Method single hierachical clustering\")\n",
    "plt.show()"
   ]
  },
  {
   "cell_type": "markdown",
   "metadata": {},
   "source": [
    "- The vertical height of the dendogram shows the Euclidean distances between points. "
   ]
  },
  {
   "cell_type": "markdown",
   "metadata": {},
   "source": [
    "Now try \"complete\" method"
   ]
  },
  {
   "cell_type": "code",
   "execution_count": 136,
   "metadata": {
    "scrolled": true
   },
   "outputs": [
    {
     "data": {
      "image/png": "[encoded data removed]",
      "text/plain": [
       "<Figure size 360x288 with 1 Axes>"
      ]
     },
     "metadata": {},
     "output_type": "display_data"
    }
   ],
   "source": [
    "# Calculate the linkage: mergings\n",
    "mergings = linkage(data_drop.iloc[:,3:].transpose(),\n",
    "                   method='complete')\n",
    "# Plot the dendrogram\n",
    "plt.figure(figsize=(5,4))\n",
    "dendrogram(mergings,leaf_font_size=10, \n",
    "           leaf_rotation=90, \n",
    "           distance_sort=\"descending\", \n",
    "           labels=data_drop.columns)\n",
    "plt.title(\"Method complete hierachical clustering\")\n",
    "plt.show()"
   ]
  },
  {
   "cell_type": "markdown",
   "metadata": {},
   "source": [
    "Homework: Try \"ward\" method and figure out how the linkage works."
   ]
  },
  {
   "cell_type": "code",
   "execution_count": 140,
   "metadata": {},
   "outputs": [
    {
     "data": {
      "image/png": "[encoded data removed]",
      "text/plain": [
       "<Figure size 360x288 with 1 Axes>"
      ]
     },
     "metadata": {},
     "output_type": "display_data"
    }
   ],
   "source": [
    "# Calculate the linkage: mergings\n",
    "mergings = linkage(data_drop.iloc[:,3:],\n",
    "                   method='complete')\n",
    "# Plot the dendrogram\n",
    "plt.figure(figsize=(5,4))\n",
    "dendrogram(mergings,leaf_font_size=10, \n",
    "           leaf_rotation=90, \n",
    "           distance_sort=\"descending\", \n",
    "           labels=data_drop.index)\n",
    "plt.axhline(y=450, color='r', linestyle='--')\n",
    "\n",
    "plt.show()"
   ]
  },
  {
   "cell_type": "code",
   "execution_count": 147,
   "metadata": {},
   "outputs": [
    {
     "data": {
      "text/plain": [
       "array([0, 0, 0, 0, 0, 0, 0, 0, 0, 0, 0, 0, 0, 0, 0, 0, 0, 0, 0, 0, 0, 0,\n",
       "       0, 0, 0, 0, 0, 0, 0, 0, 0, 0, 0, 0, 0, 0, 0, 0, 0, 0, 0, 0, 0, 0,\n",
       "       0, 0, 0, 0, 0, 0, 0, 0, 0, 0, 0, 0, 0, 0, 0, 0, 0, 0, 0, 0, 0, 0,\n",
       "       0, 0, 0, 0, 0, 0, 0, 0, 0, 0, 0, 0, 0, 0, 0, 0, 0, 0, 0, 0, 0, 0,\n",
       "       0, 0, 0, 0, 0, 0, 0, 0, 0, 0, 0, 0, 0, 0, 0, 0, 0, 0, 0, 0, 0, 0,\n",
       "       0, 0, 0, 0, 0, 0, 0, 0, 0, 0, 0, 0, 0, 0, 0, 0, 0, 0, 0, 0, 0, 0,\n",
       "       0, 0, 0, 0, 0, 0, 0, 0, 0, 0, 0, 0, 0, 0, 0, 0, 0, 0, 0, 0, 0, 0,\n",
       "       0, 0, 0, 0, 0, 0, 0, 0, 0, 0, 0, 0, 0, 0, 0, 0, 0, 0, 0, 0, 0, 0,\n",
       "       0, 0, 0, 0, 0, 0, 0, 0, 0, 0, 0, 0, 0, 0, 0, 0, 0, 0, 0, 0, 0, 0,\n",
       "       0, 0, 0, 0, 0, 0, 0, 0, 0, 0, 0, 0, 0, 0, 0, 0, 0, 0, 0, 0, 0, 0,\n",
       "       0, 0, 0, 0, 0, 0, 0, 0, 0, 0, 0, 0, 0, 0, 0, 0, 0, 0, 0, 0, 0, 0,\n",
       "       0, 0, 0, 0, 0, 0, 0, 0, 0, 0, 0, 0, 0, 0, 0, 0, 0, 0, 0, 0, 0, 0,\n",
       "       0, 0, 0, 0, 0, 0, 0, 0, 0, 0, 0, 0, 0, 0, 0, 0, 0, 0, 0, 0, 0, 0,\n",
       "       0, 0, 0, 0, 0, 0, 0, 0, 0, 0, 0, 0, 0, 0, 0, 0, 0, 0, 0, 0, 0, 0,\n",
       "       0, 0, 0, 0, 0, 0, 0, 0, 0, 0, 0, 0, 0, 0, 0, 0, 0, 0, 0, 0, 0, 0,\n",
       "       0, 0, 0, 0, 0, 0, 0, 0, 0, 0, 0, 0, 0, 0, 0, 0, 0, 0, 0, 0, 0, 0,\n",
       "       0, 0, 0, 0, 0, 0, 0, 0, 0, 0, 0, 0, 0, 0, 0, 0, 0, 0, 0, 0, 0, 0,\n",
       "       0, 0, 0, 0, 0, 0, 0, 0, 0, 0, 0, 0, 0, 0, 0, 0, 0, 0, 0, 0, 0, 0,\n",
       "       0, 0, 0, 0, 0, 0, 0, 0, 0, 0, 0, 0, 0, 0, 0, 0, 0, 0, 0, 0, 0, 0,\n",
       "       0, 0, 0, 0, 0, 0, 0, 0, 0, 0, 0, 0, 0, 0, 0, 0, 0, 0, 0, 0, 0, 0,\n",
       "       0, 0, 0, 0, 0, 0, 0, 0, 0, 0, 0, 0, 0, 0, 0, 0, 0, 0, 0, 0, 0, 0,\n",
       "       0, 0, 0, 0, 0, 0, 0, 0, 0, 0, 0, 0, 0, 0, 0, 0, 0, 0, 0, 0, 0, 0,\n",
       "       0, 0, 0, 0, 0, 0, 0, 0, 0, 0, 0, 0, 0, 0, 0, 0, 0, 0, 0, 0, 0, 0,\n",
       "       0, 0, 0, 0, 0, 0, 0, 0, 0, 0, 0, 0, 0, 0, 0, 0, 0, 0, 0, 0, 0, 0,\n",
       "       0, 2, 0, 0, 2, 0, 0, 0, 0, 0, 0, 0, 0, 0, 0, 0, 0, 0, 0, 1, 0, 0,\n",
       "       0, 0, 0, 0, 0, 0, 0, 0, 0, 0, 0, 0, 0, 0, 0, 0, 5, 1, 0, 3, 1, 0,\n",
       "       1, 0, 0, 1, 0, 5, 0, 1, 0, 5, 0, 0, 0, 1, 4, 0, 0])"
      ]
     },
     "execution_count": 147,
     "metadata": {},
     "output_type": "execute_result"
    }
   ],
   "source": [
    "from sklearn.cluster import AgglomerativeClustering\n",
    "cluster = AgglomerativeClustering(n_clusters=6, affinity='euclidean', linkage='complete')  \n",
    "cluster.fit_predict(data_rescaled)"
   ]
  },
  {
   "cell_type": "code",
   "execution_count": 148,
   "metadata": {},
   "outputs": [
    {
     "data": {
      "text/plain": [
       "<matplotlib.collections.PathCollection at 0x11d73f860>"
      ]
     },
     "execution_count": 148,
     "metadata": {},
     "output_type": "execute_result"
    },
    {
     "data": {
      "image/png": "[encoded data removed]",
      "text/plain": [
       "<Figure size 720x504 with 1 Axes>"
      ]
     },
     "metadata": {},
     "output_type": "display_data"
    }
   ],
   "source": [
    "plt.figure(figsize=(10, 7))  \n",
    "plt.scatter(pca_features[:,0], pca_features[:,1], c=cluster.labels_) "
   ]
  },
  {
   "cell_type": "markdown",
   "metadata": {},
   "source": [
    "## KMeans clustering"
   ]
  },
  {
   "cell_type": "markdown",
   "metadata": {},
   "source": [
    "Let's try feeding the PCA result into KMeans clustering!"
   ]
  },
  {
   "cell_type": "code",
   "execution_count": 120,
   "metadata": {},
   "outputs": [
    {
     "data": {
      "text/plain": [
       "KMeans(n_clusters=5)"
      ]
     },
     "execution_count": 120,
     "metadata": {},
     "output_type": "execute_result"
    }
   ],
   "source": [
    "from sklearn.cluster import KMeans\n",
    "kmeans = KMeans(n_clusters=5)\n",
    "\n",
    "kmeans.fit(pca_features)"
   ]
  },
  {
   "cell_type": "code",
   "execution_count": 121,
   "metadata": {},
   "outputs": [],
   "source": [
    "pred_labels = kmeans.predict(pca_features)"
   ]
  },
  {
   "cell_type": "code",
   "execution_count": 122,
   "metadata": {},
   "outputs": [
    {
     "data": {
      "text/plain": [
       "array([1, 0, 0, 1, 1, 0, 1, 1, 1, 1, 1, 1, 1, 1, 1, 1, 1, 0, 1, 1, 1, 0,\n",
       "       0, 1, 1, 0, 1, 3, 1, 0, 0, 1, 1, 0, 1, 0, 1, 1, 0, 1, 0, 0, 1, 1,\n",
       "       1, 0, 1, 0, 0, 0, 1, 1, 0, 1, 0, 0, 1, 0, 1, 1, 0, 1, 0, 1, 0, 0,\n",
       "       1, 0, 0, 1, 1, 0, 0, 0, 1, 1, 1, 0, 0, 0, 1, 0, 0, 1, 0, 0, 1, 0,\n",
       "       0, 0, 1, 0, 0, 1, 1, 0, 1, 0, 0, 1, 0, 1, 1, 1, 0, 0, 1, 0, 0, 0,\n",
       "       0, 0, 1, 0, 0, 1, 0, 1, 0, 0, 1, 1, 0, 1, 0, 0, 1, 0, 1, 1, 1, 0,\n",
       "       0, 0, 1, 0, 1, 0, 0, 0, 0, 0, 1, 0, 1, 0, 1, 1, 1, 1, 1, 1, 0, 1,\n",
       "       1, 0, 1, 0, 0, 0, 1, 0, 0, 1, 1, 0, 1, 0, 1, 1, 1, 0, 0, 0, 0, 1,\n",
       "       0, 1, 1, 1, 0, 0, 0, 0, 0, 1, 1, 1, 0, 1, 1, 1, 0, 0, 0, 0, 0, 1,\n",
       "       1, 0, 1, 0, 0, 0, 0, 1, 1, 0, 0, 1, 0, 0, 1, 0, 0, 0, 1, 0, 0, 1,\n",
       "       0, 1, 0, 0, 1, 0, 0, 1, 1, 1, 0, 0, 1, 1, 0, 0, 0, 0, 0, 1, 0, 0,\n",
       "       0, 0, 1, 0, 0, 3, 1, 1, 1, 0, 1, 1, 0, 1, 1, 0, 0, 0, 1, 0, 0, 0,\n",
       "       1, 1, 1, 1, 1, 1, 1, 1, 0, 1, 0, 1, 1, 1, 0, 0, 1, 1, 0, 0, 1, 1,\n",
       "       0, 1, 0, 1, 1, 1, 0, 1, 1, 0, 1, 1, 0, 0, 1, 1, 1, 0, 0, 0, 0, 0,\n",
       "       1, 0, 1, 3, 1, 0, 3, 1, 1, 1, 1, 1, 1, 1, 1, 1, 1, 1, 0, 1, 1, 1,\n",
       "       1, 1, 1, 1, 1, 1, 0, 0, 1, 0, 1, 1, 1, 1, 1, 1, 0, 0, 0, 1, 1, 1,\n",
       "       1, 1, 1, 1, 1, 0, 0, 1, 1, 1, 1, 1, 1, 1, 0, 0, 1, 0, 1, 1, 1, 1,\n",
       "       1, 1, 1, 1, 1, 0, 1, 1, 0, 1, 1, 1, 0, 1, 1, 0, 1, 0, 1, 1, 1, 1,\n",
       "       1, 1, 0, 1, 1, 1, 1, 0, 1, 1, 1, 1, 0, 1, 1, 0, 1, 1, 0, 1, 1, 1,\n",
       "       1, 1, 1, 0, 1, 0, 1, 1, 0, 1, 1, 0, 1, 1, 0, 0, 0, 1, 1, 1, 0, 0,\n",
       "       0, 0, 0, 0, 1, 1, 0, 1, 1, 1, 1, 0, 0, 0, 1, 1, 0, 0, 0, 1, 1, 1,\n",
       "       0, 0, 0, 0, 0, 1, 0, 1, 0, 1, 0, 1, 0, 0, 1, 3, 1, 1, 0, 1, 1, 1,\n",
       "       0, 1, 0, 1, 1, 1, 1, 1, 0, 0, 1, 1, 1, 1, 0, 1, 0, 1, 3, 0, 0, 0,\n",
       "       0, 1, 1, 0, 0, 0, 1, 1, 1, 0, 0, 1, 0, 1, 3, 0, 0, 1, 0, 1, 3, 3,\n",
       "       3, 0, 3, 3, 3, 1, 1, 1, 0, 0, 1, 1, 0, 1, 0, 1, 0, 0, 0, 2, 2, 1,\n",
       "       1, 1, 0, 0, 0, 1, 1, 0, 1, 1, 1, 0, 1, 0, 1, 4, 2, 2, 2, 4, 2, 2,\n",
       "       2, 2, 2, 2, 2, 2, 2, 2, 3, 2, 4, 1, 1, 2, 2, 3, 2], dtype=int32)"
      ]
     },
     "execution_count": 122,
     "metadata": {},
     "output_type": "execute_result"
    }
   ],
   "source": [
    "pred_labels"
   ]
  },
  {
   "cell_type": "code",
   "execution_count": 123,
   "metadata": {
    "scrolled": true
   },
   "outputs": [
    {
     "name": "stdout",
     "output_type": "stream",
     "text": [
      "                      labels  predicted_labels\n",
      "Category                                      \n",
      "0=Blood Donor  0=Blood Donor                 1\n",
      "0=Blood Donor  0=Blood Donor                 1\n",
      "0=Blood Donor  0=Blood Donor                 1\n",
      "0=Blood Donor  0=Blood Donor                 0\n",
      "0=Blood Donor  0=Blood Donor                 0\n",
      "...                      ...               ...\n",
      "3=Cirrhosis      3=Cirrhosis                 2\n",
      "3=Cirrhosis      3=Cirrhosis                 4\n",
      "3=Cirrhosis      3=Cirrhosis                 3\n",
      "3=Cirrhosis      3=Cirrhosis                 2\n",
      "3=Cirrhosis      3=Cirrhosis                 2\n",
      "\n",
      "[589 rows x 2 columns]\n"
     ]
    }
   ],
   "source": [
    "# Create a DataFrame aligning labels and companies: df\n",
    "df = pd.DataFrame({'labels': data_drop.Category, 'predicted_labels': pred_labels})\n",
    "\n",
    "# Display df sorted by cluster label\n",
    "print(df.sort_values(by=\"labels\"))\n"
   ]
  },
  {
   "cell_type": "code",
   "execution_count": 124,
   "metadata": {},
   "outputs": [
    {
     "data": {
      "image/png": "[encoded data removed]",
      "text/plain": [
       "<Figure size 1080x576 with 1 Axes>"
      ]
     },
     "metadata": {},
     "output_type": "display_data"
    }
   ],
   "source": [
    "# Import pyplot\n",
    "import matplotlib.pyplot as plt\n",
    "\n",
    "# Assign the columns of new_points: xs and ys\n",
    "xs = pca_features[:,0]\n",
    "ys = pca_features[:,1]\n",
    "\n",
    "# Make a scatter plot of xs and ys, using labels to define the colors\n",
    "plt.scatter(xs,ys,c=pred_labels,alpha=0.5)\n",
    "\n",
    "# Assign the cluster centers: centroids\n",
    "centroids = kmeans.cluster_centers_\n",
    "\n",
    "# Assign the columns of centroids: centroids_x, centroids_y\n",
    "centroids_x = centroids[:,0]\n",
    "centroids_y = centroids[:,1]\n",
    "\n",
    "# Make a scatter plot of centroids_x and centroids_y\n",
    "plt.scatter(centroids_x,centroids_y,marker='D',s=50)\n",
    "plt.show()\n"
   ]
  },
  {
   "cell_type": "code",
   "execution_count": 143,
   "metadata": {},
   "outputs": [
    {
     "data": {
      "text/plain": [
       "array([0, 2, 2, 0, 0, 2, 0, 0, 2, 0, 0, 0, 0, 0, 0, 0, 0, 2, 0, 0, 2, 2,\n",
       "       2, 2, 0, 2, 0, 0, 0, 2, 2, 2, 2, 2, 2, 2, 2, 2, 2, 0, 2, 2, 0, 2,\n",
       "       0, 2, 0, 2, 2, 2, 2, 2, 2, 0, 2, 2, 0, 2, 2, 0, 2, 0, 2, 0, 2, 2,\n",
       "       0, 2, 2, 2, 0, 2, 2, 2, 0, 0, 0, 2, 2, 2, 2, 2, 2, 0, 2, 2, 0, 2,\n",
       "       2, 2, 2, 2, 2, 0, 0, 2, 0, 2, 2, 2, 2, 0, 0, 0, 2, 2, 2, 2, 2, 2,\n",
       "       2, 2, 0, 2, 2, 0, 2, 0, 2, 2, 0, 2, 2, 0, 2, 2, 2, 2, 2, 2, 0, 0,\n",
       "       2, 2, 0, 2, 0, 2, 2, 2, 2, 2, 0, 2, 0, 2, 2, 0, 0, 0, 0, 2, 2, 0,\n",
       "       0, 2, 0, 2, 2, 2, 2, 2, 2, 0, 0, 2, 2, 2, 0, 0, 0, 2, 2, 2, 2, 0,\n",
       "       2, 0, 0, 0, 2, 2, 2, 2, 2, 0, 0, 0, 2, 2, 0, 0, 2, 2, 2, 2, 2, 0,\n",
       "       0, 2, 0, 2, 2, 2, 2, 0, 0, 2, 2, 2, 2, 2, 2, 2, 2, 2, 0, 2, 2, 0,\n",
       "       2, 0, 2, 2, 0, 2, 2, 0, 0, 0, 2, 2, 0, 0, 2, 2, 2, 2, 2, 0, 2, 2,\n",
       "       2, 2, 0, 2, 2, 0, 0, 0, 0, 2, 2, 0, 2, 0, 0, 2, 2, 2, 0, 2, 2, 2,\n",
       "       0, 2, 2, 2, 0, 0, 0, 2, 2, 0, 2, 0, 0, 0, 2, 2, 2, 0, 2, 2, 0, 0,\n",
       "       2, 0, 2, 0, 2, 2, 2, 0, 0, 2, 0, 2, 2, 2, 0, 2, 2, 2, 2, 2, 2, 2,\n",
       "       0, 2, 2, 0, 0, 2, 0, 0, 0, 0, 0, 0, 0, 0, 0, 0, 0, 0, 2, 2, 0, 0,\n",
       "       0, 0, 0, 0, 0, 2, 2, 2, 0, 2, 0, 2, 0, 2, 0, 0, 2, 2, 2, 2, 2, 2,\n",
       "       0, 0, 0, 0, 0, 2, 2, 0, 2, 0, 0, 2, 0, 0, 2, 2, 0, 2, 0, 0, 0, 0,\n",
       "       0, 0, 0, 2, 0, 2, 0, 0, 2, 0, 0, 0, 2, 0, 0, 2, 0, 2, 0, 0, 0, 0,\n",
       "       0, 0, 2, 0, 0, 0, 2, 2, 0, 0, 0, 0, 2, 0, 0, 2, 0, 2, 2, 0, 0, 0,\n",
       "       0, 0, 0, 2, 0, 2, 0, 0, 2, 0, 0, 2, 0, 0, 2, 2, 2, 0, 0, 0, 2, 2,\n",
       "       2, 2, 2, 2, 0, 0, 2, 0, 0, 0, 0, 2, 2, 2, 0, 0, 2, 2, 2, 0, 0, 2,\n",
       "       2, 2, 2, 2, 2, 0, 2, 2, 2, 2, 2, 0, 2, 2, 0, 0, 0, 0, 2, 2, 0, 0,\n",
       "       2, 0, 2, 0, 0, 0, 0, 0, 2, 2, 0, 0, 0, 0, 2, 2, 2, 0, 0, 2, 2, 2,\n",
       "       2, 0, 0, 2, 2, 2, 0, 2, 0, 2, 0, 0, 2, 0, 0, 0, 2, 0, 2, 0, 3, 0,\n",
       "       0, 2, 0, 0, 3, 0, 0, 0, 2, 2, 2, 2, 2, 0, 2, 2, 2, 2, 2, 3, 3, 0,\n",
       "       0, 0, 2, 2, 2, 0, 0, 2, 2, 0, 0, 2, 0, 2, 0, 0, 1, 3, 0, 4, 3, 1,\n",
       "       3, 0, 1, 3, 0, 1, 1, 3, 0, 1, 0, 0, 0, 3, 3, 0, 0], dtype=int32)"
      ]
     },
     "execution_count": 143,
     "metadata": {},
     "output_type": "execute_result"
    }
   ],
   "source": [
    "from sklearn.cluster import KMeans\n",
    "kmeans = KMeans(n_clusters=5)\n",
    "\n",
    "kmeans.fit(data_rescaled)\n",
    "\n",
    "pred_labels = kmeans.predict(data_rescaled)\n",
    "\n",
    "pred_labels"
   ]
  },
  {
   "cell_type": "code",
   "execution_count": 144,
   "metadata": {},
   "outputs": [
    {
     "name": "stdout",
     "output_type": "stream",
     "text": [
      "                      labels  predicted_labels\n",
      "Category                                      \n",
      "0=Blood Donor  0=Blood Donor                 0\n",
      "0=Blood Donor  0=Blood Donor                 2\n",
      "0=Blood Donor  0=Blood Donor                 0\n",
      "0=Blood Donor  0=Blood Donor                 2\n",
      "0=Blood Donor  0=Blood Donor                 2\n",
      "...                      ...               ...\n",
      "3=Cirrhosis      3=Cirrhosis                 3\n",
      "3=Cirrhosis      3=Cirrhosis                 0\n",
      "3=Cirrhosis      3=Cirrhosis                 0\n",
      "3=Cirrhosis      3=Cirrhosis                 3\n",
      "3=Cirrhosis      3=Cirrhosis                 0\n",
      "\n",
      "[589 rows x 2 columns]\n"
     ]
    }
   ],
   "source": [
    "# Create a DataFrame aligning labels and companies: df\n",
    "df = pd.DataFrame({'labels': data_drop.Category, 'predicted_labels': pred_labels})\n",
    "\n",
    "# Display df sorted by cluster label\n",
    "print(df.sort_values(by=\"labels\"))\n"
   ]
  },
  {
   "cell_type": "code",
   "execution_count": 145,
   "metadata": {},
   "outputs": [
    {
     "data": {
      "image/png": "[encoded data removed]",
      "text/plain": [
       "<Figure size 432x288 with 1 Axes>"
      ]
     },
     "metadata": {},
     "output_type": "display_data"
    }
   ],
   "source": [
    "# Import pyplot\n",
    "import matplotlib.pyplot as plt\n",
    "\n",
    "# Assign the columns of new_points: xs and ys\n",
    "xs = pca_features[:,0]\n",
    "ys = pca_features[:,1]\n",
    "\n",
    "# Make a scatter plot of xs and ys, using labels to define the colors\n",
    "plt.scatter(xs,ys,c=pred_labels,alpha=0.5)\n",
    "\n",
    "# Assign the cluster centers: centroids\n",
    "centroids = kmeans.cluster_centers_\n",
    "\n",
    "# Assign the columns of centroids: centroids_x, centroids_y\n",
    "centroids_x = centroids[:,0]\n",
    "centroids_y = centroids[:,1]\n",
    "\n",
    "# Make a scatter plot of centroids_x and centroids_y\n",
    "plt.scatter(centroids_x,centroids_y,marker='D',s=50)\n",
    "plt.show()\n"
   ]
  },
  {
   "cell_type": "markdown",
   "metadata": {},
   "source": [
    "What do you think about the results? Is clustering working well in this dataset"
   ]
  },
  {
   "cell_type": "markdown",
   "metadata": {},
   "source": [
    "## Additional reading"
   ]
  },
  {
   "cell_type": "markdown",
   "metadata": {},
   "source": [
    "- https://jakevdp.github.io/PythonDataScienceHandbook/05.09-principal-component-analysis.html\n",
    "- https://scentellegher.github.io/machine-learning/2020/01/27/pca-loadings-sklearn.html\n",
    "t-SNE:\n",
    "- https://scikit-learn.org/stable/auto_examples/manifold/plot_t_sne_perplexity.html\n",
    "- https://distill.pub/2016/misread-tsne/"
   ]
  },
  {
   "cell_type": "code",
   "execution_count": null,
   "metadata": {},
   "outputs": [],
   "source": []
  }
 ],
 "metadata": {
  "kernelspec": {
   "display_name": "Python 3",
   "language": "python",
   "name": "python3"
  },
  "language_info": {
   "codemirror_mode": {
    "name": "ipython",
    "version": 3
   },
   "file_extension": ".py",
   "mimetype": "text/x-python",
   "name": "python",
   "nbconvert_exporter": "python",
   "pygments_lexer": "ipython3",
   "version": "3.6.7"
  }
 },
 "nbformat": 4,
 "nbformat_minor": 2
}
