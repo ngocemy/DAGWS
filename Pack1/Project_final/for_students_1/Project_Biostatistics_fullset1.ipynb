{
 "cells": [
  {
   "cell_type": "markdown",
   "metadata": {},
   "source": [
    "This notebook is made for \"Data Analysis for Genomics Workshop\" (DAGWS). \n",
    "Tran Bich Ngoc CAO, ENS Paris, August 2020.\n",
    "<a rel=\"license\" href=\"https://creativecommons.org/licenses/by/2.0/\"><img alt=\"Licence Creative Commons\" style=\"border-width:0\" src=\"https://i.creativecommons.org/l/by-nc-sa/4.0/88x31.png\" /></a><br /> This work is protected by the term of <a rel=\"license\" href=\"https://creativecommons.org/licenses/by/2.0/\"> Attribution 2.0 Generic (CC BY 2.0) </a>. Please cite the source in case of re-distribution."
   ]
  },
  {
   "cell_type": "markdown",
   "metadata": {},
   "source": [
    "# Problem set 1"
   ]
  },
  {
   "cell_type": "markdown",
   "metadata": {},
   "source": [
    "__Introduction__\n",
    "\n",
    "In this session, we are going to work on several independent datasets.\n",
    "\n",
    "`cytokines` contains the abundance levels of 23 cytokines for 25 mices (9 K0 and 16 WT).\n",
    "\n",
    "`virulence` contains binary measurements of presence/absence of 5 virulence biomarkers in 1222 bacterial strains.\n",
    "\n",
    "`weight` contains the weight measurements of 8 mice at 2 different timepoints.\n",
    "\n",
    "`red_cells` contains the number of cells marked by a red color within 2 conditions (treated or not treated cells).\n",
    "\n",
    "`infected_cells` contains the number of infected cells as well as the total number of cells for each biological replicates. The goal is to study the proportion of infected cells between 2 mouse strains.\n",
    "\n",
    "`MFI_controller` contains measures of 89 markers (measured through Mean Fluorescent Intensity) for two types of patients.\n",
    "\n",
    "All datasets used in this session are real data generated during biological experiments."
   ]
  },
  {
   "cell_type": "code",
   "execution_count": 1,
   "metadata": {},
   "outputs": [],
   "source": [
    "#Read table datasets"
   ]
  },
  {
   "cell_type": "code",
   "execution_count": 2,
   "metadata": {},
   "outputs": [],
   "source": [
    "# import Pandas"
   ]
  },
  {
   "cell_type": "code",
   "execution_count": 3,
   "metadata": {},
   "outputs": [],
   "source": [
    "import pandas as pd"
   ]
  },
  {
   "cell_type": "code",
   "execution_count": 4,
   "metadata": {},
   "outputs": [
    {
     "ename": "FileNotFoundError",
     "evalue": "[Errno 2] No such file or directory: 'data/cytokines.csv'",
     "output_type": "error",
     "traceback": [
      "\u001b[0;31m---------------------------------------------------------------------------\u001b[0m",
      "\u001b[0;31mFileNotFoundError\u001b[0m                         Traceback (most recent call last)",
      "\u001b[0;32m<ipython-input-4-50cf270007d5>\u001b[0m in \u001b[0;36m<module>\u001b[0;34m()\u001b[0m\n\u001b[0;32m----> 1\u001b[0;31m \u001b[0mcytokines\u001b[0m \u001b[0;34m=\u001b[0m \u001b[0mpd\u001b[0m\u001b[0;34m.\u001b[0m\u001b[0mread_csv\u001b[0m\u001b[0;34m(\u001b[0m\u001b[0;34m\"data/cytokines.csv\"\u001b[0m\u001b[0;34m,\u001b[0m\u001b[0mdelimiter\u001b[0m\u001b[0;34m=\u001b[0m\u001b[0;34m\" \"\u001b[0m\u001b[0;34m)\u001b[0m\u001b[0;34m\u001b[0m\u001b[0;34m\u001b[0m\u001b[0m\n\u001b[0m",
      "\u001b[0;32m~/miniconda3/lib/python3.6/site-packages/pandas/io/parsers.py\u001b[0m in \u001b[0;36mread_csv\u001b[0;34m(filepath_or_buffer, sep, delimiter, header, names, index_col, usecols, squeeze, prefix, mangle_dupe_cols, dtype, engine, converters, true_values, false_values, skipinitialspace, skiprows, skipfooter, nrows, na_values, keep_default_na, na_filter, verbose, skip_blank_lines, parse_dates, infer_datetime_format, keep_date_col, date_parser, dayfirst, cache_dates, iterator, chunksize, compression, thousands, decimal, lineterminator, quotechar, quoting, doublequote, escapechar, comment, encoding, dialect, error_bad_lines, warn_bad_lines, delim_whitespace, low_memory, memory_map, float_precision)\u001b[0m\n\u001b[1;32m    684\u001b[0m     )\n\u001b[1;32m    685\u001b[0m \u001b[0;34m\u001b[0m\u001b[0m\n\u001b[0;32m--> 686\u001b[0;31m     \u001b[0;32mreturn\u001b[0m \u001b[0m_read\u001b[0m\u001b[0;34m(\u001b[0m\u001b[0mfilepath_or_buffer\u001b[0m\u001b[0;34m,\u001b[0m \u001b[0mkwds\u001b[0m\u001b[0;34m)\u001b[0m\u001b[0;34m\u001b[0m\u001b[0;34m\u001b[0m\u001b[0m\n\u001b[0m\u001b[1;32m    687\u001b[0m \u001b[0;34m\u001b[0m\u001b[0m\n\u001b[1;32m    688\u001b[0m \u001b[0;34m\u001b[0m\u001b[0m\n",
      "\u001b[0;32m~/miniconda3/lib/python3.6/site-packages/pandas/io/parsers.py\u001b[0m in \u001b[0;36m_read\u001b[0;34m(filepath_or_buffer, kwds)\u001b[0m\n\u001b[1;32m    450\u001b[0m \u001b[0;34m\u001b[0m\u001b[0m\n\u001b[1;32m    451\u001b[0m     \u001b[0;31m# Create the parser.\u001b[0m\u001b[0;34m\u001b[0m\u001b[0;34m\u001b[0m\u001b[0;34m\u001b[0m\u001b[0m\n\u001b[0;32m--> 452\u001b[0;31m     \u001b[0mparser\u001b[0m \u001b[0;34m=\u001b[0m \u001b[0mTextFileReader\u001b[0m\u001b[0;34m(\u001b[0m\u001b[0mfp_or_buf\u001b[0m\u001b[0;34m,\u001b[0m \u001b[0;34m**\u001b[0m\u001b[0mkwds\u001b[0m\u001b[0;34m)\u001b[0m\u001b[0;34m\u001b[0m\u001b[0;34m\u001b[0m\u001b[0m\n\u001b[0m\u001b[1;32m    453\u001b[0m \u001b[0;34m\u001b[0m\u001b[0m\n\u001b[1;32m    454\u001b[0m     \u001b[0;32mif\u001b[0m \u001b[0mchunksize\u001b[0m \u001b[0;32mor\u001b[0m \u001b[0miterator\u001b[0m\u001b[0;34m:\u001b[0m\u001b[0;34m\u001b[0m\u001b[0;34m\u001b[0m\u001b[0m\n",
      "\u001b[0;32m~/miniconda3/lib/python3.6/site-packages/pandas/io/parsers.py\u001b[0m in \u001b[0;36m__init__\u001b[0;34m(self, f, engine, **kwds)\u001b[0m\n\u001b[1;32m    934\u001b[0m             \u001b[0mself\u001b[0m\u001b[0;34m.\u001b[0m\u001b[0moptions\u001b[0m\u001b[0;34m[\u001b[0m\u001b[0;34m\"has_index_names\"\u001b[0m\u001b[0;34m]\u001b[0m \u001b[0;34m=\u001b[0m \u001b[0mkwds\u001b[0m\u001b[0;34m[\u001b[0m\u001b[0;34m\"has_index_names\"\u001b[0m\u001b[0;34m]\u001b[0m\u001b[0;34m\u001b[0m\u001b[0;34m\u001b[0m\u001b[0m\n\u001b[1;32m    935\u001b[0m \u001b[0;34m\u001b[0m\u001b[0m\n\u001b[0;32m--> 936\u001b[0;31m         \u001b[0mself\u001b[0m\u001b[0;34m.\u001b[0m\u001b[0m_make_engine\u001b[0m\u001b[0;34m(\u001b[0m\u001b[0mself\u001b[0m\u001b[0;34m.\u001b[0m\u001b[0mengine\u001b[0m\u001b[0;34m)\u001b[0m\u001b[0;34m\u001b[0m\u001b[0;34m\u001b[0m\u001b[0m\n\u001b[0m\u001b[1;32m    937\u001b[0m \u001b[0;34m\u001b[0m\u001b[0m\n\u001b[1;32m    938\u001b[0m     \u001b[0;32mdef\u001b[0m \u001b[0mclose\u001b[0m\u001b[0;34m(\u001b[0m\u001b[0mself\u001b[0m\u001b[0;34m)\u001b[0m\u001b[0;34m:\u001b[0m\u001b[0;34m\u001b[0m\u001b[0;34m\u001b[0m\u001b[0m\n",
      "\u001b[0;32m~/miniconda3/lib/python3.6/site-packages/pandas/io/parsers.py\u001b[0m in \u001b[0;36m_make_engine\u001b[0;34m(self, engine)\u001b[0m\n\u001b[1;32m   1166\u001b[0m     \u001b[0;32mdef\u001b[0m \u001b[0m_make_engine\u001b[0m\u001b[0;34m(\u001b[0m\u001b[0mself\u001b[0m\u001b[0;34m,\u001b[0m \u001b[0mengine\u001b[0m\u001b[0;34m=\u001b[0m\u001b[0;34m\"c\"\u001b[0m\u001b[0;34m)\u001b[0m\u001b[0;34m:\u001b[0m\u001b[0;34m\u001b[0m\u001b[0;34m\u001b[0m\u001b[0m\n\u001b[1;32m   1167\u001b[0m         \u001b[0;32mif\u001b[0m \u001b[0mengine\u001b[0m \u001b[0;34m==\u001b[0m \u001b[0;34m\"c\"\u001b[0m\u001b[0;34m:\u001b[0m\u001b[0;34m\u001b[0m\u001b[0;34m\u001b[0m\u001b[0m\n\u001b[0;32m-> 1168\u001b[0;31m             \u001b[0mself\u001b[0m\u001b[0;34m.\u001b[0m\u001b[0m_engine\u001b[0m \u001b[0;34m=\u001b[0m \u001b[0mCParserWrapper\u001b[0m\u001b[0;34m(\u001b[0m\u001b[0mself\u001b[0m\u001b[0;34m.\u001b[0m\u001b[0mf\u001b[0m\u001b[0;34m,\u001b[0m \u001b[0;34m**\u001b[0m\u001b[0mself\u001b[0m\u001b[0;34m.\u001b[0m\u001b[0moptions\u001b[0m\u001b[0;34m)\u001b[0m\u001b[0;34m\u001b[0m\u001b[0;34m\u001b[0m\u001b[0m\n\u001b[0m\u001b[1;32m   1169\u001b[0m         \u001b[0;32melse\u001b[0m\u001b[0;34m:\u001b[0m\u001b[0;34m\u001b[0m\u001b[0;34m\u001b[0m\u001b[0m\n\u001b[1;32m   1170\u001b[0m             \u001b[0;32mif\u001b[0m \u001b[0mengine\u001b[0m \u001b[0;34m==\u001b[0m \u001b[0;34m\"python\"\u001b[0m\u001b[0;34m:\u001b[0m\u001b[0;34m\u001b[0m\u001b[0;34m\u001b[0m\u001b[0m\n",
      "\u001b[0;32m~/miniconda3/lib/python3.6/site-packages/pandas/io/parsers.py\u001b[0m in \u001b[0;36m__init__\u001b[0;34m(self, src, **kwds)\u001b[0m\n\u001b[1;32m   1996\u001b[0m         \u001b[0mkwds\u001b[0m\u001b[0;34m[\u001b[0m\u001b[0;34m\"usecols\"\u001b[0m\u001b[0;34m]\u001b[0m \u001b[0;34m=\u001b[0m \u001b[0mself\u001b[0m\u001b[0;34m.\u001b[0m\u001b[0musecols\u001b[0m\u001b[0;34m\u001b[0m\u001b[0;34m\u001b[0m\u001b[0m\n\u001b[1;32m   1997\u001b[0m \u001b[0;34m\u001b[0m\u001b[0m\n\u001b[0;32m-> 1998\u001b[0;31m         \u001b[0mself\u001b[0m\u001b[0;34m.\u001b[0m\u001b[0m_reader\u001b[0m \u001b[0;34m=\u001b[0m \u001b[0mparsers\u001b[0m\u001b[0;34m.\u001b[0m\u001b[0mTextReader\u001b[0m\u001b[0;34m(\u001b[0m\u001b[0msrc\u001b[0m\u001b[0;34m,\u001b[0m \u001b[0;34m**\u001b[0m\u001b[0mkwds\u001b[0m\u001b[0;34m)\u001b[0m\u001b[0;34m\u001b[0m\u001b[0;34m\u001b[0m\u001b[0m\n\u001b[0m\u001b[1;32m   1999\u001b[0m         \u001b[0mself\u001b[0m\u001b[0;34m.\u001b[0m\u001b[0munnamed_cols\u001b[0m \u001b[0;34m=\u001b[0m \u001b[0mself\u001b[0m\u001b[0;34m.\u001b[0m\u001b[0m_reader\u001b[0m\u001b[0;34m.\u001b[0m\u001b[0munnamed_cols\u001b[0m\u001b[0;34m\u001b[0m\u001b[0;34m\u001b[0m\u001b[0m\n\u001b[1;32m   2000\u001b[0m \u001b[0;34m\u001b[0m\u001b[0m\n",
      "\u001b[0;32mpandas/_libs/parsers.pyx\u001b[0m in \u001b[0;36mpandas._libs.parsers.TextReader.__cinit__\u001b[0;34m()\u001b[0m\n",
      "\u001b[0;32mpandas/_libs/parsers.pyx\u001b[0m in \u001b[0;36mpandas._libs.parsers.TextReader._setup_parser_source\u001b[0;34m()\u001b[0m\n",
      "\u001b[0;31mFileNotFoundError\u001b[0m: [Errno 2] No such file or directory: 'data/cytokines.csv'"
     ]
    }
   ],
   "source": [
    "cytokines = pd.read_csv(\"data/cytokines.csv\",delimiter=\" \")"
   ]
  },
  {
   "cell_type": "code",
   "execution_count": null,
   "metadata": {},
   "outputs": [],
   "source": [
    "MFI_controller = pd.read_csv(\"data/MFI_controller.csv\",delimiter=\" \")"
   ]
  },
  {
   "cell_type": "code",
   "execution_count": null,
   "metadata": {},
   "outputs": [],
   "source": [
    "infected_cells = pd.read_csv(\"data/infected_cells.csv\",delimiter=\";\")"
   ]
  },
  {
   "cell_type": "code",
   "execution_count": null,
   "metadata": {},
   "outputs": [],
   "source": [
    "red_cells = pd.read_csv(\"data/red_cells.csv\",delimiter=\";\")"
   ]
  },
  {
   "cell_type": "code",
   "execution_count": null,
   "metadata": {},
   "outputs": [],
   "source": [
    "virulence = pd.read_csv(\"data/virulence.csv\",delimiter=\" \")"
   ]
  },
  {
   "cell_type": "code",
   "execution_count": null,
   "metadata": {},
   "outputs": [],
   "source": [
    "weight = pd.read_csv(\"data/weight.csv\",delimiter=\";\")"
   ]
  },
  {
   "cell_type": "code",
   "execution_count": null,
   "metadata": {},
   "outputs": [],
   "source": [
    "weight.head()"
   ]
  },
  {
   "cell_type": "code",
   "execution_count": null,
   "metadata": {},
   "outputs": [],
   "source": [
    "cytokines.head()"
   ]
  },
  {
   "cell_type": "code",
   "execution_count": null,
   "metadata": {},
   "outputs": [],
   "source": [
    "MFI_controller.head()"
   ]
  },
  {
   "cell_type": "code",
   "execution_count": 5,
   "metadata": {},
   "outputs": [
    {
     "ename": "NameError",
     "evalue": "name 'infected_cells' is not defined",
     "output_type": "error",
     "traceback": [
      "\u001b[0;31m---------------------------------------------------------------------------\u001b[0m",
      "\u001b[0;31mNameError\u001b[0m                                 Traceback (most recent call last)",
      "\u001b[0;32m<ipython-input-5-d5b26ca08f4d>\u001b[0m in \u001b[0;36m<module>\u001b[0;34m()\u001b[0m\n\u001b[0;32m----> 1\u001b[0;31m \u001b[0minfected_cells\u001b[0m\u001b[0;34m.\u001b[0m\u001b[0mhead\u001b[0m\u001b[0;34m(\u001b[0m\u001b[0;34m)\u001b[0m\u001b[0;34m\u001b[0m\u001b[0;34m\u001b[0m\u001b[0m\n\u001b[0m",
      "\u001b[0;31mNameError\u001b[0m: name 'infected_cells' is not defined"
     ]
    }
   ],
   "source": [
    "infected_cells.head()"
   ]
  },
  {
   "cell_type": "code",
   "execution_count": 6,
   "metadata": {},
   "outputs": [
    {
     "ename": "NameError",
     "evalue": "name 'red_cells' is not defined",
     "output_type": "error",
     "traceback": [
      "\u001b[0;31m---------------------------------------------------------------------------\u001b[0m",
      "\u001b[0;31mNameError\u001b[0m                                 Traceback (most recent call last)",
      "\u001b[0;32m<ipython-input-6-e2f5d41c0a3a>\u001b[0m in \u001b[0;36m<module>\u001b[0;34m()\u001b[0m\n\u001b[0;32m----> 1\u001b[0;31m \u001b[0mred_cells\u001b[0m\u001b[0;34m.\u001b[0m\u001b[0mhead\u001b[0m\u001b[0;34m(\u001b[0m\u001b[0;34m)\u001b[0m\u001b[0;34m\u001b[0m\u001b[0;34m\u001b[0m\u001b[0m\n\u001b[0m",
      "\u001b[0;31mNameError\u001b[0m: name 'red_cells' is not defined"
     ]
    }
   ],
   "source": [
    "red_cells.head()"
   ]
  },
  {
   "cell_type": "code",
   "execution_count": 7,
   "metadata": {},
   "outputs": [
    {
     "ename": "NameError",
     "evalue": "name 'virulence' is not defined",
     "output_type": "error",
     "traceback": [
      "\u001b[0;31m---------------------------------------------------------------------------\u001b[0m",
      "\u001b[0;31mNameError\u001b[0m                                 Traceback (most recent call last)",
      "\u001b[0;32m<ipython-input-7-31a25c9af44a>\u001b[0m in \u001b[0;36m<module>\u001b[0;34m()\u001b[0m\n\u001b[0;32m----> 1\u001b[0;31m \u001b[0mvirulence\u001b[0m\u001b[0;34m.\u001b[0m\u001b[0mhead\u001b[0m\u001b[0;34m(\u001b[0m\u001b[0;34m)\u001b[0m\u001b[0;34m\u001b[0m\u001b[0;34m\u001b[0m\u001b[0m\n\u001b[0m",
      "\u001b[0;31mNameError\u001b[0m: name 'virulence' is not defined"
     ]
    }
   ],
   "source": [
    "virulence.head()"
   ]
  },
  {
   "cell_type": "markdown",
   "metadata": {},
   "source": [
    "### Estimation"
   ]
  },
  {
   "cell_type": "markdown",
   "metadata": {},
   "source": [
    "The goal of this section is to play with basic estimators by describing and summarizing: \n",
    " \n",
    " 1. the abundance level of cytokine `IL-13.(37)` in `cytokines` dataset\n",
    " 2. the status of the `Toxin` marker in `virulence` dataset\n",
    "\n",
    "1. Make a simple representation of the 2 variables of interest.\n",
    "\n",
    "(Homework) 2. Pick estimators that are adequate to each marker within the following list and associate the correct word to its maths definition, Python function/script and data. Specify for each estimator if it is a **position**, **scale** or **shape** parameter."
   ]
  },
  {
   "cell_type": "markdown",
   "metadata": {},
   "source": [
    "**1. Non exhaustive list of basic estimators**\n",
    "\n",
    "* Mean\n",
    "* Median\n",
    "* Mode\n",
    "* Maximum and minimum\n",
    "* Quantile (of order q)\n",
    "* Variance\n",
    "* Standard deviation\n",
    "* Standard Error to the Mean (SEM)\n",
    "* Absolute deviation to the mean or median\n",
    "* Skewness\n",
    "* Coefficient of variation \n",
    "* Frequency or proportion"
   ]
  },
  {
   "cell_type": "markdown",
   "metadata": {},
   "source": [
    "**2. Python functions:**\n",
    "Using numpy as np and scipy.stats as stats:\n",
    "    np.mean()\n",
    "    np.median()\n",
    "    np.max()\n",
    "    np.min()\n",
    "    stats.mode()\n",
    "    np.quantile()\n",
    "    stats.sem()\n",
    "    \n",
    "    \n",
    "    \n",
    "    "
   ]
  },
  {
   "cell_type": "markdown",
   "metadata": {},
   "source": [
    "**3. Math definition, if $x=(x_1,\\ldots,x_n)$ describes a serie of $n$ observations**\n",
    "\n",
    "Homework: These definitions are not in the order of section 1, could you classify which math definition corresponds to which estimator? \n",
    "\n",
    "* $m = \\frac{1}{n}\\sum_{i=1}^n x_i$\n",
    "* $s^2 = \\frac{1}{n - 1}\\sum_{i=1}^n (x_i - m)^2$\n",
    "* $f_i = \\frac{n_i}{n}$ for each level $i$ of a factor\n",
    "* $x_{(\\frac{n+1}{2})}$ if $n$ is odd, $\\frac{1}{2}(x_{(\\frac{n}{2})}+x_{(\\frac{n}{2}+1)})$ if $n$ is even\n",
    "* $x_{(1)}$ and $x_{(n)}$\n",
    "* Most frequent value in the serie\n",
    "* $s = \\sqrt{s^2}$\n",
    "* $C = \\frac{s}{m}$\n",
    "* $\\nu = \\frac{s}{\\sqrt{n}}$\n",
    "* $Q$ such that $q\\%$ of the observed values are lower than $Q$ and $(1 - q)\\%$ are greater than $Q$\n",
    "* $\\text{max}(x)$ and $\\text{min}(x)$\n",
    "* $\\text{MAD} =\\text{median} (| x_1 - m|,\\ldots, | x_n - m|)$\n",
    "\n",
    "\n",
    "</div>\n",
    "</div>"
   ]
  },
  {
   "cell_type": "markdown",
   "metadata": {},
   "source": [
    "We first investigate the `cytokines` dataset. Let's see its column names: (this is the example of a very good biologist but bad bioinformatician ^^ given column names so complicated and confused!)"
   ]
  },
  {
   "cell_type": "code",
   "execution_count": 18,
   "metadata": {},
   "outputs": [
    {
     "data": {
      "text/plain": [
       "Index(['KC.(57)', 'IFN-g.(34)', 'IL-1a.(53)', 'IL-5.(52)', 'IL-2.(36)',\n",
       "       'IL-12(p40).(76)', 'MIP-1a.(77)', 'G-CSF.(54)', 'RANTES.(55)',\n",
       "       'IL-4.(39)', 'GM-CSF.(73)', 'Eotaxin.(74)', 'MIP-1b.(75)', 'IL-10.(56)',\n",
       "       'MCP-1.(51)', 'IL-13.(37)', 'IL-3.(18)', 'IL-1b.(19)', 'IL-6.(38)',\n",
       "       'IL-9.(33)', 'IL-12(p70).(78)', 'TNF-a.(21)', 'IL-17.(72)', 'group'],\n",
       "      dtype='object')"
      ]
     },
     "execution_count": 18,
     "metadata": {},
     "output_type": "execute_result"
    }
   ],
   "source": [
    "cytokines.columns"
   ]
  },
  {
   "cell_type": "code",
   "execution_count": 19,
   "metadata": {},
   "outputs": [],
   "source": [
    "# 1. the abundance level of cytokine `IL-13.(37)` in `cytokines` dataset\n",
    "###Mean, mode, median is estimator for position"
   ]
  },
  {
   "cell_type": "code",
   "execution_count": 20,
   "metadata": {
    "scrolled": false
   },
   "outputs": [
    {
     "data": {
      "text/html": [
       "<div>\n",
       "<style scoped>\n",
       "    .dataframe tbody tr th:only-of-type {\n",
       "        vertical-align: middle;\n",
       "    }\n",
       "\n",
       "    .dataframe tbody tr th {\n",
       "        vertical-align: top;\n",
       "    }\n",
       "\n",
       "    .dataframe thead th {\n",
       "        text-align: right;\n",
       "    }\n",
       "</style>\n",
       "<table border=\"1\" class=\"dataframe\">\n",
       "  <thead>\n",
       "    <tr style=\"text-align: right;\">\n",
       "      <th></th>\n",
       "      <th>KC.(57)</th>\n",
       "      <th>IFN-g.(34)</th>\n",
       "      <th>IL-1a.(53)</th>\n",
       "      <th>IL-5.(52)</th>\n",
       "      <th>IL-2.(36)</th>\n",
       "      <th>IL-12(p40).(76)</th>\n",
       "      <th>MIP-1a.(77)</th>\n",
       "      <th>G-CSF.(54)</th>\n",
       "      <th>RANTES.(55)</th>\n",
       "      <th>IL-4.(39)</th>\n",
       "      <th>...</th>\n",
       "      <th>MCP-1.(51)</th>\n",
       "      <th>IL-13.(37)</th>\n",
       "      <th>IL-3.(18)</th>\n",
       "      <th>IL-1b.(19)</th>\n",
       "      <th>IL-6.(38)</th>\n",
       "      <th>IL-9.(33)</th>\n",
       "      <th>IL-12(p70).(78)</th>\n",
       "      <th>TNF-a.(21)</th>\n",
       "      <th>IL-17.(72)</th>\n",
       "      <th>group</th>\n",
       "    </tr>\n",
       "  </thead>\n",
       "  <tbody>\n",
       "    <tr>\n",
       "      <th>1</th>\n",
       "      <td>2089.595283</td>\n",
       "      <td>26.177370</td>\n",
       "      <td>32.955689</td>\n",
       "      <td>5.010700</td>\n",
       "      <td>8.707965</td>\n",
       "      <td>48.153949</td>\n",
       "      <td>10.899243</td>\n",
       "      <td>299.609045</td>\n",
       "      <td>48.385975</td>\n",
       "      <td>233.072505</td>\n",
       "      <td>...</td>\n",
       "      <td>2158.183268</td>\n",
       "      <td>79.411559</td>\n",
       "      <td>20.517411</td>\n",
       "      <td>1005.635862</td>\n",
       "      <td>7259.398822</td>\n",
       "      <td>1080.489526</td>\n",
       "      <td>33.500066</td>\n",
       "      <td>320.373628</td>\n",
       "      <td>143.306310</td>\n",
       "      <td>WT</td>\n",
       "    </tr>\n",
       "    <tr>\n",
       "      <th>2</th>\n",
       "      <td>277.429012</td>\n",
       "      <td>39.738696</td>\n",
       "      <td>42.077106</td>\n",
       "      <td>11.069649</td>\n",
       "      <td>22.199911</td>\n",
       "      <td>64.345464</td>\n",
       "      <td>37.332019</td>\n",
       "      <td>374.407142</td>\n",
       "      <td>92.406246</td>\n",
       "      <td>199.246664</td>\n",
       "      <td>...</td>\n",
       "      <td>6204.046255</td>\n",
       "      <td>676.723824</td>\n",
       "      <td>31.637650</td>\n",
       "      <td>91.730542</td>\n",
       "      <td>2883.469875</td>\n",
       "      <td>495.948263</td>\n",
       "      <td>41.412214</td>\n",
       "      <td>2913.180496</td>\n",
       "      <td>317.522822</td>\n",
       "      <td>WT</td>\n",
       "    </tr>\n",
       "    <tr>\n",
       "      <th>3</th>\n",
       "      <td>564.742335</td>\n",
       "      <td>25.724090</td>\n",
       "      <td>36.109372</td>\n",
       "      <td>4.769968</td>\n",
       "      <td>7.148515</td>\n",
       "      <td>48.009724</td>\n",
       "      <td>8.607357</td>\n",
       "      <td>284.444044</td>\n",
       "      <td>50.977107</td>\n",
       "      <td>436.180655</td>\n",
       "      <td>...</td>\n",
       "      <td>1371.583210</td>\n",
       "      <td>66.402958</td>\n",
       "      <td>18.452807</td>\n",
       "      <td>61.012296</td>\n",
       "      <td>872.537812</td>\n",
       "      <td>460.866860</td>\n",
       "      <td>26.728753</td>\n",
       "      <td>939.685270</td>\n",
       "      <td>154.872485</td>\n",
       "      <td>WT</td>\n",
       "    </tr>\n",
       "    <tr>\n",
       "      <th>4</th>\n",
       "      <td>2279.712929</td>\n",
       "      <td>21.289159</td>\n",
       "      <td>40.679484</td>\n",
       "      <td>4.562754</td>\n",
       "      <td>6.800197</td>\n",
       "      <td>45.059244</td>\n",
       "      <td>9.039052</td>\n",
       "      <td>276.448842</td>\n",
       "      <td>42.941661</td>\n",
       "      <td>251.888923</td>\n",
       "      <td>...</td>\n",
       "      <td>2955.494978</td>\n",
       "      <td>185.491377</td>\n",
       "      <td>17.716867</td>\n",
       "      <td>208.796817</td>\n",
       "      <td>1755.919481</td>\n",
       "      <td>961.905383</td>\n",
       "      <td>24.053547</td>\n",
       "      <td>340.043269</td>\n",
       "      <td>144.745253</td>\n",
       "      <td>WT</td>\n",
       "    </tr>\n",
       "    <tr>\n",
       "      <th>5</th>\n",
       "      <td>720.045912</td>\n",
       "      <td>22.121977</td>\n",
       "      <td>31.921328</td>\n",
       "      <td>3.396210</td>\n",
       "      <td>5.382424</td>\n",
       "      <td>43.218618</td>\n",
       "      <td>6.526006</td>\n",
       "      <td>255.167216</td>\n",
       "      <td>34.298841</td>\n",
       "      <td>516.802455</td>\n",
       "      <td>...</td>\n",
       "      <td>1111.185430</td>\n",
       "      <td>43.477620</td>\n",
       "      <td>13.468498</td>\n",
       "      <td>128.568922</td>\n",
       "      <td>664.140699</td>\n",
       "      <td>597.296044</td>\n",
       "      <td>18.951549</td>\n",
       "      <td>1027.213533</td>\n",
       "      <td>132.237997</td>\n",
       "      <td>WT</td>\n",
       "    </tr>\n",
       "  </tbody>\n",
       "</table>\n",
       "<p>5 rows × 24 columns</p>\n",
       "</div>"
      ],
      "text/plain": [
       "       KC.(57)  IFN-g.(34)  IL-1a.(53)  IL-5.(52)  IL-2.(36)  IL-12(p40).(76)  \\\n",
       "1  2089.595283   26.177370   32.955689   5.010700   8.707965        48.153949   \n",
       "2   277.429012   39.738696   42.077106  11.069649  22.199911        64.345464   \n",
       "3   564.742335   25.724090   36.109372   4.769968   7.148515        48.009724   \n",
       "4  2279.712929   21.289159   40.679484   4.562754   6.800197        45.059244   \n",
       "5   720.045912   22.121977   31.921328   3.396210   5.382424        43.218618   \n",
       "\n",
       "   MIP-1a.(77)  G-CSF.(54)  RANTES.(55)   IL-4.(39)  ...   MCP-1.(51)  \\\n",
       "1    10.899243  299.609045    48.385975  233.072505  ...  2158.183268   \n",
       "2    37.332019  374.407142    92.406246  199.246664  ...  6204.046255   \n",
       "3     8.607357  284.444044    50.977107  436.180655  ...  1371.583210   \n",
       "4     9.039052  276.448842    42.941661  251.888923  ...  2955.494978   \n",
       "5     6.526006  255.167216    34.298841  516.802455  ...  1111.185430   \n",
       "\n",
       "   IL-13.(37)  IL-3.(18)   IL-1b.(19)    IL-6.(38)    IL-9.(33)  \\\n",
       "1   79.411559  20.517411  1005.635862  7259.398822  1080.489526   \n",
       "2  676.723824  31.637650    91.730542  2883.469875   495.948263   \n",
       "3   66.402958  18.452807    61.012296   872.537812   460.866860   \n",
       "4  185.491377  17.716867   208.796817  1755.919481   961.905383   \n",
       "5   43.477620  13.468498   128.568922   664.140699   597.296044   \n",
       "\n",
       "   IL-12(p70).(78)   TNF-a.(21)  IL-17.(72)  group  \n",
       "1        33.500066   320.373628  143.306310     WT  \n",
       "2        41.412214  2913.180496  317.522822     WT  \n",
       "3        26.728753   939.685270  154.872485     WT  \n",
       "4        24.053547   340.043269  144.745253     WT  \n",
       "5        18.951549  1027.213533  132.237997     WT  \n",
       "\n",
       "[5 rows x 24 columns]"
      ]
     },
     "execution_count": 20,
     "metadata": {},
     "output_type": "execute_result"
    }
   ],
   "source": [
    "cytokines.head()"
   ]
  },
  {
   "cell_type": "code",
   "execution_count": 21,
   "metadata": {},
   "outputs": [],
   "source": [
    "# To select one column, use the .loc method of the Pandas Dataframe"
   ]
  },
  {
   "cell_type": "code",
   "execution_count": 22,
   "metadata": {},
   "outputs": [
    {
     "data": {
      "text/plain": [
       "1      79.411559\n",
       "2     676.723824\n",
       "3      66.402958\n",
       "4     185.491377\n",
       "5      43.477620\n",
       "6      97.567536\n",
       "7     122.332452\n",
       "8     150.149834\n",
       "9     158.114915\n",
       "10    304.735858\n",
       "11    205.126494\n",
       "12    186.209971\n",
       "13    127.227422\n",
       "14    157.247706\n",
       "15    155.147969\n",
       "16    142.581040\n",
       "17    206.711992\n",
       "18    194.081040\n",
       "19    198.612412\n",
       "20    118.802384\n",
       "21    161.154863\n",
       "22    128.975323\n",
       "23    444.833913\n",
       "24    219.707599\n",
       "25     34.495413\n",
       "Name: IL-13.(37), dtype: float64"
      ]
     },
     "execution_count": 22,
     "metadata": {},
     "output_type": "execute_result"
    }
   ],
   "source": [
    "cytokines.loc[:,\"IL-13.(37)\"]\n"
   ]
  },
  {
   "cell_type": "code",
   "execution_count": 23,
   "metadata": {},
   "outputs": [],
   "source": [
    "# Import Numpy to calculate mean, median"
   ]
  },
  {
   "cell_type": "code",
   "execution_count": 24,
   "metadata": {},
   "outputs": [],
   "source": [
    "import numpy as np"
   ]
  },
  {
   "cell_type": "code",
   "execution_count": 25,
   "metadata": {},
   "outputs": [
    {
     "name": "stdout",
     "output_type": "stream",
     "text": [
      "182.61293897667315\n"
     ]
    }
   ],
   "source": [
    "mean = np.mean(cytokines.loc[:,\"IL-13.(37)\"])\n",
    "print(mean)"
   ]
  },
  {
   "cell_type": "code",
   "execution_count": 26,
   "metadata": {},
   "outputs": [
    {
     "data": {
      "text/plain": [
       "157.24770642201798"
      ]
     },
     "execution_count": 26,
     "metadata": {},
     "output_type": "execute_result"
    }
   ],
   "source": [
    "np.median(cytokines.loc[:,\"IL-13.(37)\"])"
   ]
  },
  {
   "cell_type": "code",
   "execution_count": 28,
   "metadata": {
    "scrolled": true
   },
   "outputs": [
    {
     "ename": "AttributeError",
     "evalue": "module 'numpy' has no attribute 'mode'",
     "output_type": "error",
     "traceback": [
      "\u001b[0;31m---------------------------------------------------------------------------\u001b[0m",
      "\u001b[0;31mAttributeError\u001b[0m                            Traceback (most recent call last)",
      "\u001b[0;32m<ipython-input-28-7fd5f7e189f5>\u001b[0m in \u001b[0;36m<module>\u001b[0;34m()\u001b[0m\n\u001b[0;32m----> 1\u001b[0;31m \u001b[0mprint\u001b[0m\u001b[0;34m(\u001b[0m\u001b[0;34m\"Mode of IL-13..37 is: {}\"\u001b[0m\u001b[0;34m.\u001b[0m\u001b[0mformat\u001b[0m\u001b[0;34m(\u001b[0m\u001b[0mnp\u001b[0m\u001b[0;34m.\u001b[0m\u001b[0mmode\u001b[0m\u001b[0;34m(\u001b[0m\u001b[0mcytokines\u001b[0m\u001b[0;34m.\u001b[0m\u001b[0mloc\u001b[0m\u001b[0;34m[\u001b[0m\u001b[0;34m:\u001b[0m\u001b[0;34m,\u001b[0m\u001b[0;34m\"IL-13.(37)\"\u001b[0m\u001b[0;34m]\u001b[0m\u001b[0;34m)\u001b[0m\u001b[0;34m)\u001b[0m\u001b[0;34m)\u001b[0m\u001b[0;34m\u001b[0m\u001b[0;34m\u001b[0m\u001b[0m\n\u001b[0m",
      "\u001b[0;31mAttributeError\u001b[0m: module 'numpy' has no attribute 'mode'"
     ]
    }
   ],
   "source": [
    "print(\"Mode of IL-13..37 is: {}\".format(np.mode(cytokines.loc[:,\"IL-13.(37)\"])))"
   ]
  },
  {
   "cell_type": "code",
   "execution_count": 29,
   "metadata": {},
   "outputs": [],
   "source": [
    "# Mode is not in Numpy! It is in Scipy package actually ! https://kite.com/python/docs/scipy.stats.mode "
   ]
  },
  {
   "cell_type": "code",
   "execution_count": 30,
   "metadata": {},
   "outputs": [],
   "source": [
    "import scipy.stats as stats"
   ]
  },
  {
   "cell_type": "code",
   "execution_count": 31,
   "metadata": {},
   "outputs": [
    {
     "name": "stdout",
     "output_type": "stream",
     "text": [
      "Mode of IL-13.(37) is: [34.49541284]\n"
     ]
    }
   ],
   "source": [
    "print(\"Mode of IL-13.(37) is: {}\".format(stats.mode(cytokines.loc[:,\"IL-13.(37)\"])[0]))"
   ]
  },
  {
   "cell_type": "code",
   "execution_count": 32,
   "metadata": {},
   "outputs": [],
   "source": [
    "# Why [0]? Because ... it's a special object called \"ModeResult\""
   ]
  },
  {
   "cell_type": "code",
   "execution_count": 33,
   "metadata": {},
   "outputs": [
    {
     "data": {
      "text/plain": [
       "ModeResult(mode=array([34.49541284]), count=array([1]))"
      ]
     },
     "execution_count": 33,
     "metadata": {},
     "output_type": "execute_result"
    }
   ],
   "source": [
    "stats.mode(cytokines.loc[:,\"IL-13.(37)\"])"
   ]
  },
  {
   "cell_type": "code",
   "execution_count": 34,
   "metadata": {
    "scrolled": true
   },
   "outputs": [
    {
     "data": {
      "text/html": [
       "<div>\n",
       "<style scoped>\n",
       "    .dataframe tbody tr th:only-of-type {\n",
       "        vertical-align: middle;\n",
       "    }\n",
       "\n",
       "    .dataframe tbody tr th {\n",
       "        vertical-align: top;\n",
       "    }\n",
       "\n",
       "    .dataframe thead th {\n",
       "        text-align: right;\n",
       "    }\n",
       "</style>\n",
       "<table border=\"1\" class=\"dataframe\">\n",
       "  <thead>\n",
       "    <tr style=\"text-align: right;\">\n",
       "      <th></th>\n",
       "      <th>KC.(57)</th>\n",
       "      <th>IFN-g.(34)</th>\n",
       "      <th>IL-1a.(53)</th>\n",
       "      <th>IL-5.(52)</th>\n",
       "      <th>IL-2.(36)</th>\n",
       "      <th>IL-12(p40).(76)</th>\n",
       "      <th>MIP-1a.(77)</th>\n",
       "      <th>G-CSF.(54)</th>\n",
       "      <th>RANTES.(55)</th>\n",
       "      <th>IL-4.(39)</th>\n",
       "      <th>...</th>\n",
       "      <th>IL-10.(56)</th>\n",
       "      <th>MCP-1.(51)</th>\n",
       "      <th>IL-13.(37)</th>\n",
       "      <th>IL-3.(18)</th>\n",
       "      <th>IL-1b.(19)</th>\n",
       "      <th>IL-6.(38)</th>\n",
       "      <th>IL-9.(33)</th>\n",
       "      <th>IL-12(p70).(78)</th>\n",
       "      <th>TNF-a.(21)</th>\n",
       "      <th>IL-17.(72)</th>\n",
       "    </tr>\n",
       "  </thead>\n",
       "  <tbody>\n",
       "    <tr>\n",
       "      <th>count</th>\n",
       "      <td>25.000000</td>\n",
       "      <td>25.000000</td>\n",
       "      <td>25.000000</td>\n",
       "      <td>25.000000</td>\n",
       "      <td>25.000000</td>\n",
       "      <td>25.000000</td>\n",
       "      <td>25.000000</td>\n",
       "      <td>25.000000</td>\n",
       "      <td>25.000000</td>\n",
       "      <td>25.000000</td>\n",
       "      <td>...</td>\n",
       "      <td>25.000000</td>\n",
       "      <td>25.000000</td>\n",
       "      <td>25.000000</td>\n",
       "      <td>25.000000</td>\n",
       "      <td>25.000000</td>\n",
       "      <td>25.000000</td>\n",
       "      <td>25.000000</td>\n",
       "      <td>25.000000</td>\n",
       "      <td>25.000000</td>\n",
       "      <td>25.000000</td>\n",
       "    </tr>\n",
       "    <tr>\n",
       "      <th>mean</th>\n",
       "      <td>1994.064921</td>\n",
       "      <td>56.386873</td>\n",
       "      <td>40.229664</td>\n",
       "      <td>13.530109</td>\n",
       "      <td>18.449762</td>\n",
       "      <td>51.908436</td>\n",
       "      <td>67.978169</td>\n",
       "      <td>328.908774</td>\n",
       "      <td>102.155225</td>\n",
       "      <td>438.386191</td>\n",
       "      <td>...</td>\n",
       "      <td>829.236213</td>\n",
       "      <td>9475.022923</td>\n",
       "      <td>182.612939</td>\n",
       "      <td>55.032853</td>\n",
       "      <td>688.992899</td>\n",
       "      <td>3979.915624</td>\n",
       "      <td>1066.231277</td>\n",
       "      <td>69.171758</td>\n",
       "      <td>1664.579279</td>\n",
       "      <td>218.465178</td>\n",
       "    </tr>\n",
       "    <tr>\n",
       "      <th>std</th>\n",
       "      <td>1696.498299</td>\n",
       "      <td>35.168785</td>\n",
       "      <td>20.457948</td>\n",
       "      <td>9.269688</td>\n",
       "      <td>10.233287</td>\n",
       "      <td>19.528914</td>\n",
       "      <td>211.338363</td>\n",
       "      <td>174.573473</td>\n",
       "      <td>52.861494</td>\n",
       "      <td>489.779324</td>\n",
       "      <td>...</td>\n",
       "      <td>3512.382767</td>\n",
       "      <td>20159.382162</td>\n",
       "      <td>132.624473</td>\n",
       "      <td>79.383529</td>\n",
       "      <td>950.644260</td>\n",
       "      <td>5802.126014</td>\n",
       "      <td>1534.362578</td>\n",
       "      <td>47.739970</td>\n",
       "      <td>1724.074084</td>\n",
       "      <td>109.232341</td>\n",
       "    </tr>\n",
       "    <tr>\n",
       "      <th>min</th>\n",
       "      <td>148.571429</td>\n",
       "      <td>10.078317</td>\n",
       "      <td>4.904900</td>\n",
       "      <td>2.416648</td>\n",
       "      <td>4.707988</td>\n",
       "      <td>6.981428</td>\n",
       "      <td>5.388230</td>\n",
       "      <td>41.011412</td>\n",
       "      <td>23.826359</td>\n",
       "      <td>76.151264</td>\n",
       "      <td>...</td>\n",
       "      <td>31.004699</td>\n",
       "      <td>189.787424</td>\n",
       "      <td>34.495413</td>\n",
       "      <td>8.914746</td>\n",
       "      <td>39.239203</td>\n",
       "      <td>200.098456</td>\n",
       "      <td>57.820542</td>\n",
       "      <td>12.315954</td>\n",
       "      <td>117.270083</td>\n",
       "      <td>20.997986</td>\n",
       "    </tr>\n",
       "    <tr>\n",
       "      <th>25%</th>\n",
       "      <td>636.959511</td>\n",
       "      <td>34.709778</td>\n",
       "      <td>31.559593</td>\n",
       "      <td>7.540239</td>\n",
       "      <td>11.000803</td>\n",
       "      <td>41.779484</td>\n",
       "      <td>14.905068</td>\n",
       "      <td>255.167216</td>\n",
       "      <td>59.845095</td>\n",
       "      <td>185.256160</td>\n",
       "      <td>...</td>\n",
       "      <td>81.080581</td>\n",
       "      <td>1111.185430</td>\n",
       "      <td>122.332452</td>\n",
       "      <td>27.865081</td>\n",
       "      <td>84.860243</td>\n",
       "      <td>791.567085</td>\n",
       "      <td>374.994110</td>\n",
       "      <td>35.502658</td>\n",
       "      <td>634.070336</td>\n",
       "      <td>143.306310</td>\n",
       "    </tr>\n",
       "    <tr>\n",
       "      <th>50%</th>\n",
       "      <td>1575.918367</td>\n",
       "      <td>49.801063</td>\n",
       "      <td>36.109372</td>\n",
       "      <td>11.614828</td>\n",
       "      <td>18.288954</td>\n",
       "      <td>48.153949</td>\n",
       "      <td>23.832326</td>\n",
       "      <td>299.609045</td>\n",
       "      <td>108.291132</td>\n",
       "      <td>262.246248</td>\n",
       "      <td>...</td>\n",
       "      <td>111.314114</td>\n",
       "      <td>2695.023794</td>\n",
       "      <td>157.247706</td>\n",
       "      <td>38.577296</td>\n",
       "      <td>264.237488</td>\n",
       "      <td>1627.958833</td>\n",
       "      <td>594.679645</td>\n",
       "      <td>55.449316</td>\n",
       "      <td>883.826082</td>\n",
       "      <td>202.438076</td>\n",
       "    </tr>\n",
       "    <tr>\n",
       "      <th>75%</th>\n",
       "      <td>2409.771212</td>\n",
       "      <td>66.451588</td>\n",
       "      <td>47.033450</td>\n",
       "      <td>16.502442</td>\n",
       "      <td>22.542673</td>\n",
       "      <td>64.345464</td>\n",
       "      <td>34.260846</td>\n",
       "      <td>374.407142</td>\n",
       "      <td>125.498085</td>\n",
       "      <td>436.180655</td>\n",
       "      <td>...</td>\n",
       "      <td>165.323778</td>\n",
       "      <td>6204.046255</td>\n",
       "      <td>198.612412</td>\n",
       "      <td>46.434774</td>\n",
       "      <td>811.752303</td>\n",
       "      <td>2883.469875</td>\n",
       "      <td>1080.489526</td>\n",
       "      <td>90.905945</td>\n",
       "      <td>2212.801708</td>\n",
       "      <td>289.731348</td>\n",
       "    </tr>\n",
       "    <tr>\n",
       "      <th>max</th>\n",
       "      <td>6500.702381</td>\n",
       "      <td>159.894802</td>\n",
       "      <td>103.197425</td>\n",
       "      <td>40.058899</td>\n",
       "      <td>54.537902</td>\n",
       "      <td>85.789564</td>\n",
       "      <td>1078.967081</td>\n",
       "      <td>1014.068924</td>\n",
       "      <td>282.717777</td>\n",
       "      <td>2234.948268</td>\n",
       "      <td>...</td>\n",
       "      <td>17684.696662</td>\n",
       "      <td>89338.874755</td>\n",
       "      <td>676.723824</td>\n",
       "      <td>415.533488</td>\n",
       "      <td>3218.553504</td>\n",
       "      <td>23068.920619</td>\n",
       "      <td>6780.912765</td>\n",
       "      <td>192.887835</td>\n",
       "      <td>6190.818949</td>\n",
       "      <td>500.154165</td>\n",
       "    </tr>\n",
       "  </tbody>\n",
       "</table>\n",
       "<p>8 rows × 23 columns</p>\n",
       "</div>"
      ],
      "text/plain": [
       "           KC.(57)  IFN-g.(34)  IL-1a.(53)  IL-5.(52)  IL-2.(36)  \\\n",
       "count    25.000000   25.000000   25.000000  25.000000  25.000000   \n",
       "mean   1994.064921   56.386873   40.229664  13.530109  18.449762   \n",
       "std    1696.498299   35.168785   20.457948   9.269688  10.233287   \n",
       "min     148.571429   10.078317    4.904900   2.416648   4.707988   \n",
       "25%     636.959511   34.709778   31.559593   7.540239  11.000803   \n",
       "50%    1575.918367   49.801063   36.109372  11.614828  18.288954   \n",
       "75%    2409.771212   66.451588   47.033450  16.502442  22.542673   \n",
       "max    6500.702381  159.894802  103.197425  40.058899  54.537902   \n",
       "\n",
       "       IL-12(p40).(76)  MIP-1a.(77)   G-CSF.(54)  RANTES.(55)    IL-4.(39)  \\\n",
       "count        25.000000    25.000000    25.000000    25.000000    25.000000   \n",
       "mean         51.908436    67.978169   328.908774   102.155225   438.386191   \n",
       "std          19.528914   211.338363   174.573473    52.861494   489.779324   \n",
       "min           6.981428     5.388230    41.011412    23.826359    76.151264   \n",
       "25%          41.779484    14.905068   255.167216    59.845095   185.256160   \n",
       "50%          48.153949    23.832326   299.609045   108.291132   262.246248   \n",
       "75%          64.345464    34.260846   374.407142   125.498085   436.180655   \n",
       "max          85.789564  1078.967081  1014.068924   282.717777  2234.948268   \n",
       "\n",
       "       ...    IL-10.(56)    MCP-1.(51)  IL-13.(37)   IL-3.(18)   IL-1b.(19)  \\\n",
       "count  ...     25.000000     25.000000   25.000000   25.000000    25.000000   \n",
       "mean   ...    829.236213   9475.022923  182.612939   55.032853   688.992899   \n",
       "std    ...   3512.382767  20159.382162  132.624473   79.383529   950.644260   \n",
       "min    ...     31.004699    189.787424   34.495413    8.914746    39.239203   \n",
       "25%    ...     81.080581   1111.185430  122.332452   27.865081    84.860243   \n",
       "50%    ...    111.314114   2695.023794  157.247706   38.577296   264.237488   \n",
       "75%    ...    165.323778   6204.046255  198.612412   46.434774   811.752303   \n",
       "max    ...  17684.696662  89338.874755  676.723824  415.533488  3218.553504   \n",
       "\n",
       "          IL-6.(38)    IL-9.(33)  IL-12(p70).(78)   TNF-a.(21)  IL-17.(72)  \n",
       "count     25.000000    25.000000        25.000000    25.000000   25.000000  \n",
       "mean    3979.915624  1066.231277        69.171758  1664.579279  218.465178  \n",
       "std     5802.126014  1534.362578        47.739970  1724.074084  109.232341  \n",
       "min      200.098456    57.820542        12.315954   117.270083   20.997986  \n",
       "25%      791.567085   374.994110        35.502658   634.070336  143.306310  \n",
       "50%     1627.958833   594.679645        55.449316   883.826082  202.438076  \n",
       "75%     2883.469875  1080.489526        90.905945  2212.801708  289.731348  \n",
       "max    23068.920619  6780.912765       192.887835  6190.818949  500.154165  \n",
       "\n",
       "[8 rows x 23 columns]"
      ]
     },
     "execution_count": 34,
     "metadata": {},
     "output_type": "execute_result"
    }
   ],
   "source": [
    "# Quicker way for all columns:\n",
    "cytokines.describe()"
   ]
  },
  {
   "cell_type": "code",
   "execution_count": 35,
   "metadata": {},
   "outputs": [],
   "source": [
    "# We know that virulence contains binary data (0 and 1):"
   ]
  },
  {
   "cell_type": "code",
   "execution_count": 36,
   "metadata": {},
   "outputs": [
    {
     "data": {
      "text/plain": [
       "1    723\n",
       "0    499\n",
       "Name: Toxin, dtype: int64"
      ]
     },
     "execution_count": 36,
     "metadata": {},
     "output_type": "execute_result"
    }
   ],
   "source": [
    "virulence.Toxin.value_counts()"
   ]
  },
  {
   "cell_type": "code",
   "execution_count": 37,
   "metadata": {},
   "outputs": [
    {
     "data": {
      "text/plain": [
       "1    0.591653\n",
       "0    0.408347\n",
       "Name: Toxin, dtype: float64"
      ]
     },
     "execution_count": 37,
     "metadata": {},
     "output_type": "execute_result"
    }
   ],
   "source": [
    "# Proportion of presence:\n",
    "virulence.Toxin.value_counts()/len(virulence.Toxin)"
   ]
  },
  {
   "cell_type": "code",
   "execution_count": 38,
   "metadata": {},
   "outputs": [
    {
     "name": "stdout",
     "output_type": "stream",
     "text": [
      "Mode of toxin is: [1]\n"
     ]
    }
   ],
   "source": [
    "#Mode for toxin is 1\n",
    "print(\"Mode of toxin is: {}\".format(stats.mode(virulence.Toxin)[0]))\n",
    "#For virulence data don't need to compute max, min cause it's binary!"
   ]
  },
  {
   "cell_type": "code",
   "execution_count": 39,
   "metadata": {},
   "outputs": [],
   "source": [
    "# Quantile"
   ]
  },
  {
   "cell_type": "code",
   "execution_count": 40,
   "metadata": {},
   "outputs": [
    {
     "data": {
      "text/plain": [
       "array([122.33245218, 157.24770642, 416.81430227])"
      ]
     },
     "execution_count": 40,
     "metadata": {},
     "output_type": "execute_result"
    }
   ],
   "source": [
    "np.quantile(cytokines.loc[:,\"IL-13.(37)\"],[0.25,0.5,0.95])"
   ]
  },
  {
   "cell_type": "code",
   "execution_count": 41,
   "metadata": {},
   "outputs": [
    {
     "data": {
      "text/plain": [
       "26.524894626328877"
      ]
     },
     "execution_count": 41,
     "metadata": {},
     "output_type": "execute_result"
    }
   ],
   "source": [
    "# Standard error to the mean: Precision of the mean estimation SEM\n",
    "stats.sem(cytokines.loc[:,\"IL-13.(37)\"])"
   ]
  },
  {
   "cell_type": "code",
   "execution_count": 42,
   "metadata": {},
   "outputs": [],
   "source": [
    "### Describe dispersion of the data\n",
    "variance = np.var(cytokines.loc[:,\"IL-13.(37)\"])"
   ]
  },
  {
   "cell_type": "code",
   "execution_count": 43,
   "metadata": {},
   "outputs": [
    {
     "name": "stdout",
     "output_type": "stream",
     "text": [
      "Variance of IL-13.(37): 16885.68083850841\n"
     ]
    }
   ],
   "source": [
    "print(\"Variance of IL-13.(37):\",variance)"
   ]
  },
  {
   "cell_type": "code",
   "execution_count": 44,
   "metadata": {},
   "outputs": [],
   "source": [
    "std = np.std(cytokines.loc[:,\"IL-13.(37)\"])"
   ]
  },
  {
   "cell_type": "code",
   "execution_count": 45,
   "metadata": {
    "scrolled": true
   },
   "outputs": [
    {
     "name": "stdout",
     "output_type": "stream",
     "text": [
      "Standard deviation of IL-13.(37): 129.94491463119445\n"
     ]
    }
   ],
   "source": [
    "print(\"Standard deviation of IL-13.(37):\",std)"
   ]
  },
  {
   "cell_type": "markdown",
   "metadata": {},
   "source": [
    "Very randomly, `mad` median of absolute deviation is not in Numpy and Stats! We can call the method directly from pandas.Series"
   ]
  },
  {
   "cell_type": "code",
   "execution_count": 46,
   "metadata": {},
   "outputs": [],
   "source": [
    "# Absolute deviation to the median/mean: \n",
    "# the median of absolute deviation to the mean/median: variance is too large -> useful\n"
   ]
  },
  {
   "cell_type": "code",
   "execution_count": 47,
   "metadata": {},
   "outputs": [
    {
     "data": {
      "text/plain": [
       "79.68840728047292"
      ]
     },
     "execution_count": 47,
     "metadata": {},
     "output_type": "execute_result"
    }
   ],
   "source": [
    "cytokines.loc[:,\"IL-13.(37)\"].mad()"
   ]
  },
  {
   "cell_type": "code",
   "execution_count": 48,
   "metadata": {},
   "outputs": [],
   "source": [
    "###Shape:\n",
    "#Skewness"
   ]
  },
  {
   "cell_type": "code",
   "execution_count": 49,
   "metadata": {},
   "outputs": [
    {
     "data": {
      "text/plain": [
       "2.3767846406695594"
      ]
     },
     "execution_count": 49,
     "metadata": {},
     "output_type": "execute_result"
    }
   ],
   "source": [
    "stats.skew(cytokines.loc[:,\"IL-13.(37)\"])"
   ]
  },
  {
   "cell_type": "code",
   "execution_count": 50,
   "metadata": {},
   "outputs": [],
   "source": [
    "# Coeficience of variation, remove unit, detect marker that are more variable compare to their mean"
   ]
  },
  {
   "cell_type": "code",
   "execution_count": 51,
   "metadata": {},
   "outputs": [
    {
     "data": {
      "text/plain": [
       "0.7115865686154557"
      ]
     },
     "execution_count": 51,
     "metadata": {},
     "output_type": "execute_result"
    }
   ],
   "source": [
    "std / mean"
   ]
  },
  {
   "cell_type": "code",
   "execution_count": 52,
   "metadata": {},
   "outputs": [
    {
     "data": {
      "text/plain": [
       "Text(0,0.5,'Abundance levels')"
      ]
     },
     "execution_count": 52,
     "metadata": {},
     "output_type": "execute_result"
    },
    {
     "data": {
      "image/png": "[encoded data removed]",
      "text/plain": [
       "<Figure size 432x288 with 1 Axes>"
      ]
     },
     "metadata": {},
     "output_type": "display_data"
    }
   ],
   "source": [
    "# Plot cytokines and virulence\n",
    "\n",
    "import matplotlib.pyplot as plt\n",
    "\n",
    "%matplotlib inline\n",
    "plt.boxplot(cytokines.loc[:,\"IL-13.(37)\"]);\n",
    "plt.xlabel(\"Cytokine IL-13.(37)\")\n",
    "plt.ylabel(\"Abundance levels\")"
   ]
  },
  {
   "cell_type": "code",
   "execution_count": 53,
   "metadata": {},
   "outputs": [
    {
     "data": {
      "text/plain": [
       "Text(0.5,1,'Proportion of of presence/absence of \"Toxin\" biomarkers in 1222 bacterial strains.')"
      ]
     },
     "execution_count": 53,
     "metadata": {},
     "output_type": "execute_result"
    },
    {
     "data": {
      "image/png": "[encoded data removed]",
      "text/plain": [
       "<Figure size 432x288 with 1 Axes>"
      ]
     },
     "metadata": {},
     "output_type": "display_data"
    }
   ],
   "source": [
    "%matplotlib inline\n",
    "xname = [\"presence\",\"absence\"]\n",
    "plt.bar(xname, virulence.Toxin.value_counts()/len(virulence.Toxin));\n",
    "plt.ylabel(\"Proportion\")\n",
    "plt.title(\"Proportion of of presence/absence of \\\"Toxin\\\" biomarkers in 1222 bacterial strains.\")"
   ]
  },
  {
   "cell_type": "markdown",
   "metadata": {},
   "source": [
    "Small note: to use matplotlib without printing axes coordinates and save the plots in the notebook: put `%matplotlib inline` at the beginning and `;` at the end!"
   ]
  },
  {
   "cell_type": "markdown",
   "metadata": {},
   "source": [
    "# Confidence intervals\n",
    "\n",
    "The aim of this section is to implement confidence intervals for the mean and for proportion using the tools presented in the slides:\n",
    "\n",
    "* Confidence interval of the mean using Student quantiles\n",
    "* Confidence interval of the mean using bootstrap\n",
    "* Confidence interval of a proportion using Gaussian quantiles\n",
    "\n",
    "1. `cytokines` dataset: compute a confidence interval of the average abundance of cytokin `IL-13.(37)` in WT group"
   ]
  },
  {
   "cell_type": "markdown",
   "metadata": {},
   "source": [
    "1. `cytokines` dataset: compute a confidence interval of the average abundance of cytokin `IL-13.(37)` in KO group\n",
    "\n",
    "\n",
    "2. `virulence` dataset: compute a confidence interval of the proportion of strains having the `Toxin` of interest.\n",
    "\n",
    "Homework:\n",
    "1. Load the `red_cells.csv` dataset and compute a confidence interval of the average number of red cells in treated condition.\n",
    "\n",
    "2. Load the `infected_cells.csv` dataset and compute a confidence interval of the proportion of infected cells in WT mice."
   ]
  },
  {
   "cell_type": "code",
   "execution_count": 54,
   "metadata": {},
   "outputs": [
    {
     "data": {
      "text/plain": [
       "(array([2., 0., 1., 1., 1., 0., 2., 2., 1., 5., 0., 2., 2., 2., 1., 0., 0.,\n",
       "        0., 0., 0., 0., 1., 0., 0., 0., 0., 0., 0., 0., 0., 0., 1., 0., 0.,\n",
       "        0., 0., 0., 0., 0., 0., 0., 0., 0., 0., 0., 0., 0., 0., 0., 1.]),\n",
       " array([ 34.49541284,  47.33998106,  60.18454927,  73.02911748,\n",
       "         85.8736857 ,  98.71825391, 111.56282213, 124.40739034,\n",
       "        137.25195855, 150.09652677, 162.94109498, 175.78566319,\n",
       "        188.63023141, 201.47479962, 214.31936783, 227.16393605,\n",
       "        240.00850426, 252.85307248, 265.69764069, 278.5422089 ,\n",
       "        291.38677712, 304.23134533, 317.07591354, 329.92048176,\n",
       "        342.76504997, 355.60961818, 368.4541864 , 381.29875461,\n",
       "        394.14332283, 406.98789104, 419.83245925, 432.67702747,\n",
       "        445.52159568, 458.36616389, 471.21073211, 484.05530032,\n",
       "        496.89986853, 509.74443675, 522.58900496, 535.43357318,\n",
       "        548.27814139, 561.1227096 , 573.96727782, 586.81184603,\n",
       "        599.65641424, 612.50098246, 625.34555067, 638.19011888,\n",
       "        651.0346871 , 663.87925531, 676.72382353]),\n",
       " <a list of 50 Patch objects>)"
      ]
     },
     "execution_count": 54,
     "metadata": {},
     "output_type": "execute_result"
    },
    {
     "data": {
      "image/png": "[encoded data removed]",
      "text/plain": [
       "<Figure size 432x288 with 1 Axes>"
      ]
     },
     "metadata": {},
     "output_type": "display_data"
    }
   ],
   "source": [
    "# Check skewness of the data, Gaussian or not\n",
    "# Hint: using histogram\n",
    "plt.hist(cytokines.loc[:,\"IL-13.(37)\"],bins=50)"
   ]
  },
  {
   "cell_type": "code",
   "execution_count": 65,
   "metadata": {},
   "outputs": [],
   "source": [
    "# Subsample the Cytokines group with only WT:\n",
    "y = cytokines.loc[cytokines.group == \"KO\",\"IL-13.(37)\"]"
   ]
  },
  {
   "cell_type": "code",
   "execution_count": 66,
   "metadata": {},
   "outputs": [],
   "source": [
    "#Transform data to log(1+cytokine level) -> Gaussian or we can use Bootrap\n",
    "logcyto = np.log(1+y)"
   ]
  },
  {
   "cell_type": "code",
   "execution_count": 67,
   "metadata": {},
   "outputs": [
    {
     "data": {
      "text/plain": [
       "(array([1., 0., 0., 0., 1., 1., 4., 1., 0., 1.]),\n",
       " array([3.56940347, 3.82245777, 4.07551208, 4.32856638, 4.58162068,\n",
       "        4.83467498, 5.08772928, 5.34078359, 5.59383789, 5.84689219,\n",
       "        6.09994649]),\n",
       " <a list of 10 Patch objects>)"
      ]
     },
     "execution_count": 67,
     "metadata": {},
     "output_type": "execute_result"
    },
    {
     "data": {
      "image/png": "[encoded data removed]",
      "text/plain": [
       "<Figure size 432x288 with 1 Axes>"
      ]
     },
     "metadata": {},
     "output_type": "display_data"
    }
   ],
   "source": [
    "plt.hist(logcyto)"
   ]
  },
  {
   "cell_type": "markdown",
   "metadata": {},
   "source": [
    "Now calculate CI using t-distribution (in `stats.t`, using function `ppf()`)"
   ]
  },
  {
   "cell_type": "code",
   "execution_count": 68,
   "metadata": {},
   "outputs": [
    {
     "name": "stdout",
     "output_type": "stream",
     "text": [
      "a CI of the log-mean is [ 4.586182731610204 ; 5.572455890815883 ]\n",
      "\n",
      "a CI of the mean is [ 97.11916718255253 ; 262.0794008051317 ]\n",
      "\n"
     ]
    }
   ],
   "source": [
    "n = len(y)\n",
    "alpha = 0.05\n",
    "ic_inf = np.mean(logcyto) - stats.t.ppf(1-alpha/2,n-1)*np.std(logcyto)/np.sqrt(n)\n",
    "ic_sup = np.mean(logcyto) + stats.t.ppf(1-alpha/2,n-1)*np.std(logcyto)/np.sqrt(n)\n",
    "print('a CI of the log-mean is [',ic_inf,';',ic_sup,']\\n')\n",
    "ic_inf_2 = np.exp(ic_inf) - 1\n",
    "ic_sup_2 = np.exp(ic_sup) - 1\n",
    "print('a CI of the mean is [',ic_inf_2,';',ic_sup_2,']\\n')\n"
   ]
  },
  {
   "cell_type": "markdown",
   "metadata": {},
   "source": [
    "Here is the Boottrap function that is written for you, let's spend sometimes analyzing it!"
   ]
  },
  {
   "cell_type": "code",
   "execution_count": 69,
   "metadata": {},
   "outputs": [],
   "source": [
    "###Bootrap:\n",
    "def bootIC(x,B):\n",
    "  \"\"\"\n",
    "  x is the vector of observation\n",
    "  B is no. of bootrap replicates \n",
    "  \"\"\"\n",
    "  bootmean = []\n",
    "  for b in range(B-1):\n",
    "    newobs = np.random.choice(y, len(y), replace=True,p=None)\n",
    "    bootmean.append(np.mean(newobs))\n",
    "  ic_inf = np.quantile(bootmean, alpha/2)\n",
    "  ic_sup = np.quantile(bootmean, 1-alpha/2)\n",
    "  return(list([bootmean,ic_inf,ic_sup]))\n"
   ]
  },
  {
   "cell_type": "code",
   "execution_count": 70,
   "metadata": {},
   "outputs": [
    {
     "name": "stdout",
     "output_type": "stream",
     "text": [
      "a CI of the mean using bootrap is [ 128.24185910956348 ; 264.7909920738937 ]\n",
      "\n"
     ]
    },
    {
     "data": {
      "image/png": "[encoded data removed]",
      "text/plain": [
       "<Figure size 432x288 with 1 Axes>"
      ]
     },
     "metadata": {},
     "output_type": "display_data"
    }
   ],
   "source": [
    "B=50000\n",
    "bootmean = bootIC(y, B)[0]\n",
    "plt.hist(bootmean)\n",
    "len(bootmean)\n",
    "ic_inf = np.quantile(bootmean,alpha/2)\n",
    "ic_sup = np.quantile(bootmean,1-alpha/2)\n",
    "print('a CI of the mean using bootrap is [',ic_inf,';',ic_sup,']\\n')"
   ]
  },
  {
   "cell_type": "code",
   "execution_count": null,
   "metadata": {},
   "outputs": [],
   "source": []
  },
  {
   "cell_type": "code",
   "execution_count": null,
   "metadata": {},
   "outputs": [],
   "source": []
  },
  {
   "cell_type": "code",
   "execution_count": 72,
   "metadata": {},
   "outputs": [
    {
     "name": "stderr",
     "output_type": "stream",
     "text": [
      "/Users/caotranbichngoc/miniconda3/lib/python3.6/site-packages/scipy/stats/stats.py:1394: UserWarning: kurtosistest only valid for n>=20 ... continuing anyway, n=9\n",
      "  \"anyway, n=%i\" % int(n))\n"
     ]
    },
    {
     "data": {
      "text/plain": [
       "NormaltestResult(statistic=6.51092987271088, pvalue=0.03856288720650598)"
      ]
     },
     "execution_count": 72,
     "metadata": {},
     "output_type": "execute_result"
    }
   ],
   "source": [
    "import scipy.stats as stats\n",
    "stats.normaltest(logcyto)"
   ]
  },
  {
   "cell_type": "markdown",
   "metadata": {},
   "source": [
    "What do you see from Bootstrapping result compare to student t-distribution?"
   ]
  },
  {
   "cell_type": "markdown",
   "metadata": {},
   "source": [
    "# Hypothesis testing\n",
    "\n"
   ]
  },
  {
   "cell_type": "markdown",
   "metadata": {},
   "source": [
    "I found blog posts are very efficient to grasp some basics of anything. [Towardsdatasciece](https://towardsdatascience.com/inferential-statistics-series-t-test-using-numpy-2718f8f9bf2f) is a good one, here is a reference for **t-test** for example. Let's revise!"
   ]
  },
  {
   "cell_type": "markdown",
   "metadata": {},
   "source": [
    "The aim of this section is to practice hypothesis testing using t-test for mean comparison (as seen on the slides) but also to discover 2 other tests:\n",
    "\n",
    "* `stats.fisher_exact()` for association/independence testing in contingency tables\n",
    "* (`stats.ttest_ind()` for mean comparison for large samples and/or Gaussian biomarkers)\n",
    "* `stats.wilcoxon()` for \"mean\" comparison for small samples and/or non Gaussian biomarkers\n",
    "\n",
    "Fisher exact test you have encountered in \"Lady tasting tea\", t-test you might have seen in you biostat course (or you might want to look at a simple explaination [here](), and wilcoxin test is a non-parametric test.\n",
    "\n"
   ]
  },
  {
   "cell_type": "markdown",
   "metadata": {},
   "source": []
  },
  {
   "cell_type": "markdown",
   "metadata": {},
   "source": [
    "1. `cytokines` dataset: compare the average abundance of cytokin `IL.13..37.` across the 2 experimental groups.\n",
    "\n",
    "Hint: comparing results with t-test and wilcoxon test for this question, which test is better?"
   ]
  },
  {
   "cell_type": "markdown",
   "metadata": {},
   "source": [
    "- Make sure you read this official document about ttest for 2 independent samples: [readthedocs](https://docs.scipy.org/doc/scipy/reference/generated/scipy.stats.ttest_ind.html)"
   ]
  },
  {
   "cell_type": "code",
   "execution_count": 73,
   "metadata": {},
   "outputs": [],
   "source": [
    "df = cytokines.loc[:,[\"group\",\"IL-13.(37)\"]]"
   ]
  },
  {
   "cell_type": "code",
   "execution_count": 79,
   "metadata": {},
   "outputs": [],
   "source": [
    "df[\"logcyto\"] = np.log(1+ df.loc[:,\"IL-13.(37)\"])"
   ]
  },
  {
   "cell_type": "code",
   "execution_count": 81,
   "metadata": {},
   "outputs": [],
   "source": [
    "from scipy.stats import ttest_ind"
   ]
  },
  {
   "cell_type": "code",
   "execution_count": 84,
   "metadata": {},
   "outputs": [
    {
     "data": {
      "text/plain": [
       "Ttest_indResult(statistic=-0.33178901263153415, pvalue=0.7430530520831482)"
      ]
     },
     "execution_count": 84,
     "metadata": {},
     "output_type": "execute_result"
    }
   ],
   "source": [
    "ttest_ind(df.loc[df.group == \"WT\", \"logcyto\"],df.loc[df.group == \"KO\", \"logcyto\"])"
   ]
  },
  {
   "cell_type": "code",
   "execution_count": 91,
   "metadata": {},
   "outputs": [
    {
     "data": {
      "text/plain": [
       "MannwhitneyuResult(statistic=54.0, pvalue=0.16090568959907525)"
      ]
     },
     "execution_count": 91,
     "metadata": {},
     "output_type": "execute_result"
    }
   ],
   "source": [
    "stats.mannwhitneyu(df.loc[df.group == \"WT\", \"IL-13.(37)\"] , df.loc[df.group == \"KO\", \"IL-13.(37)\"])"
   ]
  },
  {
   "cell_type": "markdown",
   "metadata": {},
   "source": [
    "2.  `virulence` dataset: Test for independence between the two markers `hlyA` and `Toxin`.\n",
    "\n"
   ]
  },
  {
   "cell_type": "code",
   "execution_count": 115,
   "metadata": {},
   "outputs": [
    {
     "data": {
      "text/plain": [
       "1    723\n",
       "0    499\n",
       "Name: Toxin, dtype: int64"
      ]
     },
     "execution_count": 115,
     "metadata": {},
     "output_type": "execute_result"
    }
   ],
   "source": [
    "virulence.Toxin.value_counts()"
   ]
  },
  {
   "cell_type": "code",
   "execution_count": 101,
   "metadata": {},
   "outputs": [],
   "source": [
    "toxin = np.array(virulence.Toxin.value_counts())"
   ]
  },
  {
   "cell_type": "code",
   "execution_count": 103,
   "metadata": {},
   "outputs": [],
   "source": [
    "hlyA = np.array(virulence.hlyA.value_counts())"
   ]
  },
  {
   "cell_type": "code",
   "execution_count": 134,
   "metadata": {},
   "outputs": [
    {
     "data": {
      "text/html": [
       "<div>\n",
       "<style scoped>\n",
       "    .dataframe tbody tr th:only-of-type {\n",
       "        vertical-align: middle;\n",
       "    }\n",
       "\n",
       "    .dataframe tbody tr th {\n",
       "        vertical-align: top;\n",
       "    }\n",
       "\n",
       "    .dataframe thead th {\n",
       "        text-align: right;\n",
       "    }\n",
       "</style>\n",
       "<table border=\"1\" class=\"dataframe\">\n",
       "  <thead>\n",
       "    <tr style=\"text-align: right;\">\n",
       "      <th></th>\n",
       "      <th>hlyA</th>\n",
       "      <th>Toxin</th>\n",
       "    </tr>\n",
       "  </thead>\n",
       "  <tbody>\n",
       "    <tr>\n",
       "      <th>1</th>\n",
       "      <td>724</td>\n",
       "      <td>723</td>\n",
       "    </tr>\n",
       "    <tr>\n",
       "      <th>0</th>\n",
       "      <td>498</td>\n",
       "      <td>499</td>\n",
       "    </tr>\n",
       "  </tbody>\n",
       "</table>\n",
       "</div>"
      ],
      "text/plain": [
       "   hlyA  Toxin\n",
       "1   724    723\n",
       "0   498    499"
      ]
     },
     "execution_count": 134,
     "metadata": {},
     "output_type": "execute_result"
    }
   ],
   "source": [
    "contigency = list(zip(hlyA,toxin))\n",
    "contigency =  pd.DataFrame(contigency,columns=[\"hlyA\",\"Toxin\"],index=[1,0])\n",
    "contigency"
   ]
  },
  {
   "cell_type": "code",
   "execution_count": 135,
   "metadata": {},
   "outputs": [
    {
     "name": "stdout",
     "output_type": "stream",
     "text": [
      "(1.0033939353541412, 1.0)\n"
     ]
    }
   ],
   "source": [
    "fisher = stats.fisher_exact(contigency,alternative=\"two-sided\")\n",
    "print(fisher)"
   ]
  },
  {
   "cell_type": "code",
   "execution_count": 136,
   "metadata": {},
   "outputs": [
    {
     "name": "stdout",
     "output_type": "stream",
     "text": [
      "No significant difference in 2 markers found\n"
     ]
    }
   ],
   "source": [
    "# Is the result significant?\n",
    "alpha = 0.05\n",
    "if  fisher[1] < alpha:\n",
    "    print(\"2 markers differ significantly\")\n",
    "else:\n",
    "    print(\"No significant difference in 2 markers found\")"
   ]
  },
  {
   "cell_type": "markdown",
   "metadata": {},
   "source": [
    "3. `weight` dataset: compare the mean weight of mice between the 2 timepoints. Be careful: measurements are performed on the same mice, meaning that the measures are not independent, they are paired. \n",
    "\n"
   ]
  },
  {
   "cell_type": "code",
   "execution_count": 137,
   "metadata": {
    "scrolled": true
   },
   "outputs": [
    {
     "data": {
      "text/html": [
       "<div>\n",
       "<style scoped>\n",
       "    .dataframe tbody tr th:only-of-type {\n",
       "        vertical-align: middle;\n",
       "    }\n",
       "\n",
       "    .dataframe tbody tr th {\n",
       "        vertical-align: top;\n",
       "    }\n",
       "\n",
       "    .dataframe thead th {\n",
       "        text-align: right;\n",
       "    }\n",
       "</style>\n",
       "<table border=\"1\" class=\"dataframe\">\n",
       "  <thead>\n",
       "    <tr style=\"text-align: right;\">\n",
       "      <th></th>\n",
       "      <th>MouseID</th>\n",
       "      <th>GroupID</th>\n",
       "      <th>Weight</th>\n",
       "    </tr>\n",
       "  </thead>\n",
       "  <tbody>\n",
       "    <tr>\n",
       "      <th>0</th>\n",
       "      <td>1</td>\n",
       "      <td>W01</td>\n",
       "      <td>14.9</td>\n",
       "    </tr>\n",
       "    <tr>\n",
       "      <th>1</th>\n",
       "      <td>2</td>\n",
       "      <td>W01</td>\n",
       "      <td>16.3</td>\n",
       "    </tr>\n",
       "    <tr>\n",
       "      <th>2</th>\n",
       "      <td>3</td>\n",
       "      <td>W01</td>\n",
       "      <td>16.9</td>\n",
       "    </tr>\n",
       "    <tr>\n",
       "      <th>3</th>\n",
       "      <td>4</td>\n",
       "      <td>W01</td>\n",
       "      <td>15.4</td>\n",
       "    </tr>\n",
       "    <tr>\n",
       "      <th>4</th>\n",
       "      <td>5</td>\n",
       "      <td>W01</td>\n",
       "      <td>15.1</td>\n",
       "    </tr>\n",
       "  </tbody>\n",
       "</table>\n",
       "</div>"
      ],
      "text/plain": [
       "   MouseID GroupID  Weight\n",
       "0        1     W01    14.9\n",
       "1        2     W01    16.3\n",
       "2        3     W01    16.9\n",
       "3        4     W01    15.4\n",
       "4        5     W01    15.1"
      ]
     },
     "execution_count": 137,
     "metadata": {},
     "output_type": "execute_result"
    }
   ],
   "source": [
    "weight.head()"
   ]
  },
  {
   "cell_type": "code",
   "execution_count": 145,
   "metadata": {},
   "outputs": [
    {
     "name": "stdout",
     "output_type": "stream",
     "text": [
      "Ttest_relResult(statistic=-8.367739487148453, pvalue=6.833595507287468e-05)\n"
     ]
    }
   ],
   "source": [
    "ttest_pair = stats.ttest_rel(weight.Weight[weight.GroupID == 'W01'],weight.Weight[weight.GroupID == 'W02'])\n",
    "print(ttest_pair)"
   ]
  },
  {
   "cell_type": "code",
   "execution_count": 147,
   "metadata": {},
   "outputs": [
    {
     "name": "stdout",
     "output_type": "stream",
     "text": [
      "2 mice have mean weights differ significantly between timepoint 1 and 2\n"
     ]
    }
   ],
   "source": [
    "# Is the result significant?\n",
    "alpha = 0.05\n",
    "if  ttest_pair[1] < alpha:\n",
    "    print(\"2 mice have mean weights differ significantly between timepoint 1 and 2\")\n",
    "else:\n",
    "    print(\"No significant difference in mean weights of 2 mice between timepoint 1 and 2 found\")"
   ]
  },
  {
   "cell_type": "markdown",
   "metadata": {},
   "source": [
    "# Introduction to multiple testing\n",
    "\n"
   ]
  },
  {
   "cell_type": "markdown",
   "metadata": {},
   "source": [
    "Load the `MFI_controller.csv` dataset. The goal of this exercise is to scan the 89 markers (measured through MFI) and find the ones with mean MFI significantly different between the two types of patients. \n",
    "\n",
    "1. Perform a t-test for each marker, comparing controller and healthy patients. \n",
    "\n",
    "2. Retrieve the p-values of each test and using `p.adjust()` function, adjust the p-values to multiple comparisons with Benjamini-Hochberg and Bonferroni methods. \n",
    "\n",
    "\n"
   ]
  },
  {
   "cell_type": "code",
   "execution_count": 148,
   "metadata": {},
   "outputs": [
    {
     "data": {
      "text/html": [
       "<div>\n",
       "<style scoped>\n",
       "    .dataframe tbody tr th:only-of-type {\n",
       "        vertical-align: middle;\n",
       "    }\n",
       "\n",
       "    .dataframe tbody tr th {\n",
       "        vertical-align: top;\n",
       "    }\n",
       "\n",
       "    .dataframe thead th {\n",
       "        text-align: right;\n",
       "    }\n",
       "</style>\n",
       "<table border=\"1\" class=\"dataframe\">\n",
       "  <thead>\n",
       "    <tr style=\"text-align: right;\">\n",
       "      <th></th>\n",
       "      <th>MFI_1</th>\n",
       "      <th>MFI_2</th>\n",
       "      <th>MFI_3</th>\n",
       "      <th>MFI_4</th>\n",
       "      <th>MFI_5</th>\n",
       "      <th>MFI_6</th>\n",
       "      <th>MFI_7</th>\n",
       "      <th>MFI_8</th>\n",
       "      <th>MFI_9</th>\n",
       "      <th>MFI_10</th>\n",
       "      <th>...</th>\n",
       "      <th>MFI_80</th>\n",
       "      <th>MFI_81</th>\n",
       "      <th>MFI_82</th>\n",
       "      <th>MFI_83</th>\n",
       "      <th>MFI_84</th>\n",
       "      <th>MFI_85</th>\n",
       "      <th>MFI_86</th>\n",
       "      <th>MFI_87</th>\n",
       "      <th>MFI_88</th>\n",
       "      <th>Group</th>\n",
       "    </tr>\n",
       "  </thead>\n",
       "  <tbody>\n",
       "    <tr>\n",
       "      <th>2922</th>\n",
       "      <td>11427.938291</td>\n",
       "      <td>1258.869647</td>\n",
       "      <td>124.329243</td>\n",
       "      <td>719.621598</td>\n",
       "      <td>5275.64751</td>\n",
       "      <td>3394.039524</td>\n",
       "      <td>1507.009929</td>\n",
       "      <td>945.622501</td>\n",
       "      <td>1942.428797</td>\n",
       "      <td>3201.850659</td>\n",
       "      <td>...</td>\n",
       "      <td>1965.090943</td>\n",
       "      <td>327.805889</td>\n",
       "      <td>920.322109</td>\n",
       "      <td>4933.554846</td>\n",
       "      <td>19419.381231</td>\n",
       "      <td>6838.702587</td>\n",
       "      <td>1582.056786</td>\n",
       "      <td>2745.801343</td>\n",
       "      <td>641.201273</td>\n",
       "      <td>Healthy</td>\n",
       "    </tr>\n",
       "    <tr>\n",
       "      <th>2926</th>\n",
       "      <td>11907.000000</td>\n",
       "      <td>821.000000</td>\n",
       "      <td>440.000000</td>\n",
       "      <td>455.000000</td>\n",
       "      <td>5118.00000</td>\n",
       "      <td>3168.000000</td>\n",
       "      <td>995.000000</td>\n",
       "      <td>718.000000</td>\n",
       "      <td>1670.000000</td>\n",
       "      <td>3507.000000</td>\n",
       "      <td>...</td>\n",
       "      <td>1875.000000</td>\n",
       "      <td>580.000000</td>\n",
       "      <td>993.000000</td>\n",
       "      <td>5459.000000</td>\n",
       "      <td>19638.000000</td>\n",
       "      <td>7586.000000</td>\n",
       "      <td>1273.000000</td>\n",
       "      <td>3160.000000</td>\n",
       "      <td>413.000000</td>\n",
       "      <td>Controller</td>\n",
       "    </tr>\n",
       "    <tr>\n",
       "      <th>2969</th>\n",
       "      <td>25702.000000</td>\n",
       "      <td>1436.000000</td>\n",
       "      <td>531.000000</td>\n",
       "      <td>1399.000000</td>\n",
       "      <td>1708.00000</td>\n",
       "      <td>827.000000</td>\n",
       "      <td>153.000000</td>\n",
       "      <td>190.000000</td>\n",
       "      <td>3144.000000</td>\n",
       "      <td>3748.000000</td>\n",
       "      <td>...</td>\n",
       "      <td>2135.000000</td>\n",
       "      <td>755.000000</td>\n",
       "      <td>543.000000</td>\n",
       "      <td>5012.000000</td>\n",
       "      <td>19157.000000</td>\n",
       "      <td>4677.000000</td>\n",
       "      <td>1008.000000</td>\n",
       "      <td>2955.000000</td>\n",
       "      <td>533.000000</td>\n",
       "      <td>Controller</td>\n",
       "    </tr>\n",
       "    <tr>\n",
       "      <th>2972</th>\n",
       "      <td>25222.938291</td>\n",
       "      <td>1873.869647</td>\n",
       "      <td>33.329243</td>\n",
       "      <td>1663.621598</td>\n",
       "      <td>1865.64751</td>\n",
       "      <td>1053.039524</td>\n",
       "      <td>665.009929</td>\n",
       "      <td>417.622501</td>\n",
       "      <td>3416.428797</td>\n",
       "      <td>3442.850659</td>\n",
       "      <td>...</td>\n",
       "      <td>2225.090943</td>\n",
       "      <td>502.805889</td>\n",
       "      <td>470.322109</td>\n",
       "      <td>4486.554846</td>\n",
       "      <td>18938.381231</td>\n",
       "      <td>3929.702587</td>\n",
       "      <td>1317.056786</td>\n",
       "      <td>2540.801343</td>\n",
       "      <td>761.201273</td>\n",
       "      <td>Healthy</td>\n",
       "    </tr>\n",
       "    <tr>\n",
       "      <th>3866</th>\n",
       "      <td>29617.000000</td>\n",
       "      <td>3057.000000</td>\n",
       "      <td>679.000000</td>\n",
       "      <td>786.000000</td>\n",
       "      <td>5279.00000</td>\n",
       "      <td>2388.000000</td>\n",
       "      <td>383.000000</td>\n",
       "      <td>69.500000</td>\n",
       "      <td>2794.000000</td>\n",
       "      <td>3674.000000</td>\n",
       "      <td>...</td>\n",
       "      <td>2674.000000</td>\n",
       "      <td>1077.000000</td>\n",
       "      <td>775.000000</td>\n",
       "      <td>3633.000000</td>\n",
       "      <td>20941.000000</td>\n",
       "      <td>2607.000000</td>\n",
       "      <td>1134.000000</td>\n",
       "      <td>905.000000</td>\n",
       "      <td>207.000000</td>\n",
       "      <td>Controller</td>\n",
       "    </tr>\n",
       "  </tbody>\n",
       "</table>\n",
       "<p>5 rows × 89 columns</p>\n",
       "</div>"
      ],
      "text/plain": [
       "             MFI_1        MFI_2       MFI_3        MFI_4       MFI_5  \\\n",
       "2922  11427.938291  1258.869647  124.329243   719.621598  5275.64751   \n",
       "2926  11907.000000   821.000000  440.000000   455.000000  5118.00000   \n",
       "2969  25702.000000  1436.000000  531.000000  1399.000000  1708.00000   \n",
       "2972  25222.938291  1873.869647   33.329243  1663.621598  1865.64751   \n",
       "3866  29617.000000  3057.000000  679.000000   786.000000  5279.00000   \n",
       "\n",
       "            MFI_6        MFI_7       MFI_8        MFI_9       MFI_10  ...  \\\n",
       "2922  3394.039524  1507.009929  945.622501  1942.428797  3201.850659  ...   \n",
       "2926  3168.000000   995.000000  718.000000  1670.000000  3507.000000  ...   \n",
       "2969   827.000000   153.000000  190.000000  3144.000000  3748.000000  ...   \n",
       "2972  1053.039524   665.009929  417.622501  3416.428797  3442.850659  ...   \n",
       "3866  2388.000000   383.000000   69.500000  2794.000000  3674.000000  ...   \n",
       "\n",
       "           MFI_80       MFI_81      MFI_82       MFI_83        MFI_84  \\\n",
       "2922  1965.090943   327.805889  920.322109  4933.554846  19419.381231   \n",
       "2926  1875.000000   580.000000  993.000000  5459.000000  19638.000000   \n",
       "2969  2135.000000   755.000000  543.000000  5012.000000  19157.000000   \n",
       "2972  2225.090943   502.805889  470.322109  4486.554846  18938.381231   \n",
       "3866  2674.000000  1077.000000  775.000000  3633.000000  20941.000000   \n",
       "\n",
       "           MFI_85       MFI_86       MFI_87      MFI_88       Group  \n",
       "2922  6838.702587  1582.056786  2745.801343  641.201273     Healthy  \n",
       "2926  7586.000000  1273.000000  3160.000000  413.000000  Controller  \n",
       "2969  4677.000000  1008.000000  2955.000000  533.000000  Controller  \n",
       "2972  3929.702587  1317.056786  2540.801343  761.201273     Healthy  \n",
       "3866  2607.000000  1134.000000   905.000000  207.000000  Controller  \n",
       "\n",
       "[5 rows x 89 columns]"
      ]
     },
     "execution_count": 148,
     "metadata": {},
     "output_type": "execute_result"
    }
   ],
   "source": [
    "MFI_controller.head()"
   ]
  },
  {
   "cell_type": "code",
   "execution_count": 166,
   "metadata": {
    "scrolled": true
   },
   "outputs": [
    {
     "data": {
      "text/plain": [
       "2922    11427.938291\n",
       "2972    25222.938291\n",
       "3870    29137.938291\n",
       "3876    28269.938291\n",
       "3880    19684.938291\n",
       "            ...     \n",
       "4395    16152.938291\n",
       "4401     1740.938291\n",
       "4404    21209.938291\n",
       "4412    16298.938291\n",
       "4424    13487.938291\n",
       "Name: MFI_1, Length: 82, dtype: float64"
      ]
     },
     "execution_count": 166,
     "metadata": {},
     "output_type": "execute_result"
    }
   ],
   "source": [
    "group1, group2 = [g[1].MFI_1 for g in MFI_controller.groupby('Group')]\n",
    "\n",
    "group2"
   ]
  },
  {
   "cell_type": "code",
   "execution_count": 171,
   "metadata": {},
   "outputs": [
    {
     "data": {
      "text/plain": [
       "Controller    82\n",
       "Healthy       82\n",
       "Name: Group, dtype: int64"
      ]
     },
     "execution_count": 171,
     "metadata": {},
     "output_type": "execute_result"
    }
   ],
   "source": [
    "MFI_controller.Group.value_counts()"
   ]
  },
  {
   "cell_type": "code",
   "execution_count": null,
   "metadata": {},
   "outputs": [],
   "source": [
    "# Checking!"
   ]
  },
  {
   "cell_type": "code",
   "execution_count": 173,
   "metadata": {},
   "outputs": [
    {
     "data": {
      "text/plain": [
       "2922    11427.938291\n",
       "2972    25222.938291\n",
       "3870    29137.938291\n",
       "3876    28269.938291\n",
       "3880    19684.938291\n",
       "            ...     \n",
       "4395    16152.938291\n",
       "4401     1740.938291\n",
       "4404    21209.938291\n",
       "4412    16298.938291\n",
       "4424    13487.938291\n",
       "Name: MFI_1, Length: 82, dtype: float64"
      ]
     },
     "execution_count": 173,
     "metadata": {},
     "output_type": "execute_result"
    }
   ],
   "source": [
    "MFI_controller.loc[MFI_controller.Group == \"Healthy\",\"MFI_1\"]"
   ]
  },
  {
   "cell_type": "code",
   "execution_count": 183,
   "metadata": {},
   "outputs": [
    {
     "name": "stdout",
     "output_type": "stream",
     "text": [
      "[0.6548068900335808, 0.0023932277328664086, 2.3323392952586793e-17, 2.4128387985724555e-05, 0.6692755137681297, 0.08434940014323464, 1.2356490315097114e-12, 6.909939937482145e-06, 0.09418678199391012, 0.09211783263288117, 0.8834370486545756, 0.0066098688021459795, 1.2057576740488417e-07, 0.002885939933010691, 0.7473302588977602, 0.9844196297833256, 0.796793824428137, 0.46461134813021876, 0.41291222940313044, 0.019863092436761546, 0.6483774217781524, 2.168219242771713e-06, 0.10808379477523532, 0.7999022095289661, 0.8804982783694006, 5.737945291509975e-176, 0.23444031358282777, 0.35633625239192923, 5.043252636300529e-109, 0.21324495846501837, 0.8319499027236916, 0.5168388377733948, 3.863341487920865e-10, 0.42005089375786964, 1.9118595713774348e-17, 0.9655588500354837, 0.36053107850142196, 0.9973978714936079, 0.6666682961570773, 9.637243590589999e-05, 0.02010961697310624, 0.0002994366182271938, 0.6433996740330832, 0.11819930263876106, 0.4485525354510488, 0.004989528745087481, 1.4661150738062202e-05, 1.1889215750198087e-06, 0.01647990925647608, 0.30396789943473324, 0.005686341057681436, 0.012483974024352243, 0.021128969882122664, 1.432074864518102e-14, 6.106286312227377e-11, 0.0003186626069460183, 0.027536076778400188, 3.5377262927248987e-43, 1.7807694987212633e-47, 1.4199095992993795e-90, 0.6372863687065923, 0.5344881763785152, 0.3153247692137606, 1.3863034730358622e-05, 0.22844035335177543, 2.4393094175568743e-05, 0.0008314925685927212, 0.0029703573375115303, 0.1110641538504532, 0.5462436987342366, 0.25051188724200274, 0.5314894557187233, 0.6069984402175248, 9.08534637989265e-07, 8.242352189045522e-84, 0.3914096392486309, 0.003545026131775038, 0.568498337923039, 0.7459092555076072, 0.4135274243978747, 4.791718933229807e-11, 0.3689870101606002, 0.019752791732617493, 0.4335837643678908, 0.3889848331177289, 6.050802785186076e-12, 0.00013119287821001285]\n"
     ]
    }
   ],
   "source": [
    "pval_list = []\n",
    "for i in range(MFI_controller.shape[1] - 2):\n",
    "    group1, group2 = [g[1].iloc[:,i] for g in MFI_controller.groupby('Group')]\n",
    "    pval_list.append(stats.ttest_ind(group1,group2)[1])\n",
    "print(pval_list)"
   ]
  },
  {
   "cell_type": "code",
   "execution_count": 184,
   "metadata": {
    "scrolled": false
   },
   "outputs": [
    {
     "data": {
      "text/plain": [
       "(array([45.,  3.,  4.,  7.,  6.,  5.,  7.,  3.,  4.,  3.]),\n",
       " array([5.73794529e-176, 9.97397871e-002, 1.99479574e-001, 2.99219361e-001,\n",
       "        3.98959149e-001, 4.98698936e-001, 5.98438723e-001, 6.98178510e-001,\n",
       "        7.97918297e-001, 8.97658084e-001, 9.97397871e-001]),\n",
       " <a list of 10 Patch objects>)"
      ]
     },
     "execution_count": 184,
     "metadata": {},
     "output_type": "execute_result"
    },
    {
     "data": {
      "image/png": "[encoded data removed]",
      "text/plain": [
       "<Figure size 432x288 with 1 Axes>"
      ]
     },
     "metadata": {},
     "output_type": "display_data"
    }
   ],
   "source": [
    "plt.hist(pval_list)"
   ]
  },
  {
   "cell_type": "markdown",
   "metadata": {},
   "source": [
    "Using multitest.multipletest() in statsmodels.stats to correct p-values with Bonferroni method\n",
    "\n",
    "Read the docs: [multipletests](https://www.statsmodels.org/dev/generated/statsmodels.stats.multitest.multipletests.html)"
   ]
  },
  {
   "cell_type": "code",
   "execution_count": 204,
   "metadata": {},
   "outputs": [],
   "source": [
    "from statsmodels.stats import multitest\n",
    "p_adj = multitest.multipletests(pval_list, method= \"bonferroni\")\n",
    "p_adj = [ a  for a in p_adj[1] if a <= 0.05]"
   ]
  },
  {
   "cell_type": "code",
   "execution_count": 205,
   "metadata": {},
   "outputs": [
    {
     "name": "stdout",
     "output_type": "stream",
     "text": [
      "[2.029135186875051e-15, 0.002099169754758036, 1.075014657413449e-10, 0.0006011647745609466, 1.0490091764224923e-05, 0.00018863507412113904, 4.992012403613678e-174, 4.38762979358146e-107, 3.3611070944911527e-08, 1.6633178270983682e-15, 0.0083844019238133, 0.02605098578576586, 0.0012755201142114116, 0.00010343617702672336, 1.2459051321307487e-12, 5.312469091637818e-09, 0.02772364680430359, 3.0778218746706617e-41, 1.549269463887499e-45, 1.2353213513904603e-88, 0.0012060840215412, 0.0021221991932744806, 7.904251350506606e-05, 7.170846404469604e-82, 4.1687954719099325e-09, 5.264198423111886e-10, 0.011413780404271118]\n"
     ]
    }
   ],
   "source": [
    "print(p_adj)"
   ]
  },
  {
   "cell_type": "markdown",
   "metadata": {},
   "source": [
    "# Problem set 2: "
   ]
  },
  {
   "cell_type": "markdown",
   "metadata": {},
   "source": [
    "Thank you for going this far, we assume you will come back to this project once you finish Pack 2: Scikit-learn.\n",
    "In this problem set, we expect you to perform a real analysis on real data. Please send us your answer before 15th of September. We will send you the correct answer as soon as you provide us your submission. It is a real challenge! Bonne chance! :)"
   ]
  },
  {
   "cell_type": "markdown",
   "metadata": {},
   "source": [
    " <img src=\"fig/study_outline.png\" width=400>"
   ]
  },
  {
   "cell_type": "markdown",
   "metadata": {},
   "source": [
    "The objective of this project is to establish the boundaries of a \"healthy\" immune response, assess how this variation is genetically, epigenetically or environmentally controlled, and understand how this variation may account for differences in susceptibility to infection, therapeutic treatment or vaccine response.\n",
    "\n",
    "To assay inter-individual variability of immune responses, TruCulture whole-blood assay devices have been developed to test the effects of various immune stimulation conditions (Escherichia coli, BCG, Staphylococcus aureus, SEB, Candida albicans and Influenza virus) on individal immune responses. Transcriptome data quantifying expression of 560 genes under these stimulation conditions were produced through hybridization arrays (Nanostring) for the individuals of the cohort (Piasecka et al., 2018).\n",
    "\n",
    "Immune responses are triggered through the activation of specialised immune cell populations and immune cell composition varies with age and sex. This may for example explain the observed reduced vaccination efficacy in the elderly. Major immune cell populations in the circulation of healthy donors have been quantified with median fluorescent intensity (MFI) assessed by flow cytometry for the donors of the cohort (Piasecka et al., 2018).\n",
    "One of the main objectives of this project is to relate the table of genes expression to phenotypic markers such as age, gender, life habits and the immune response phenotypes.\n"
   ]
  },
  {
   "cell_type": "markdown",
   "metadata": {},
   "source": [
    "Reference:\n",
    "\n",
    "Piasecka, E. et al. Natural variation in the parameters of innate immune cells is preferentially driven by genetic factors resource. Nat. Immunol. 19, 302-314 (2018).\n",
    "\n",
    "Piasecka, B. et al. Distinctive roles of age, sex, and genetics in shaping transcriptional variation of human immune responses to microbial challenges. Proc. Natl. Acad. Sci. 115, E488-E497 (2018)"
   ]
  },
  {
   "cell_type": "markdown",
   "metadata": {},
   "source": [
    "Two txt files have been provided to you for this project. The first one, `eCRF.txt` should have `eCRF.shape[0]` rows, `eCRF.shape[1]` columns and contains phenotypic information about `eCRF.shape[0]` healthy patients such as their age, gender, smoking habits, BMI... All subjects are identified by an unique identifier in column `SUBJID`.\n",
    "The second dataset in file `nanostring.txt` contains measures of genes expression for all individuals and 7 bacterial stimuli. Stimulus information is available in column `Stimulus.Name` and patient identifier in column `SUBJID` to allow the match between phenotypic information and gene expression. Note that gene expression has already been normalized, meaning that gene variables do not require any extra transformation. \n",
    "\n"
   ]
  },
  {
   "cell_type": "markdown",
   "metadata": {},
   "source": [
    "### Question 0: Before applying advanced statistical tools, take time to describe, summarize and visualize the data. For example, make barplots, boxplots, compute summaries of the data (mean, variance, proportion) in order to get familiar with the format of the dataset. More generally, all along the project, when a new marker or a new variable is studied, take time to shortly describe it."
   ]
  },
  {
   "cell_type": "code",
   "execution_count": 207,
   "metadata": {},
   "outputs": [],
   "source": [
    "import pandas as pd  "
   ]
  },
  {
   "cell_type": "code",
   "execution_count": 208,
   "metadata": {},
   "outputs": [],
   "source": [
    "eCRF = pd.read_csv(\"data/set2/eCRF.txt\",delimiter=\"\\t\") "
   ]
  },
  {
   "cell_type": "code",
   "execution_count": 209,
   "metadata": {},
   "outputs": [
    {
     "data": {
      "text/plain": [
       "816"
      ]
     },
     "execution_count": 209,
     "metadata": {},
     "output_type": "execute_result"
    }
   ],
   "source": [
    "eCRF.shape[0]"
   ]
  },
  {
   "cell_type": "code",
   "execution_count": 210,
   "metadata": {},
   "outputs": [
    {
     "data": {
      "text/html": [
       "<div>\n",
       "<style scoped>\n",
       "    .dataframe tbody tr th:only-of-type {\n",
       "        vertical-align: middle;\n",
       "    }\n",
       "\n",
       "    .dataframe tbody tr th {\n",
       "        vertical-align: top;\n",
       "    }\n",
       "\n",
       "    .dataframe thead th {\n",
       "        text-align: right;\n",
       "    }\n",
       "</style>\n",
       "<table border=\"1\" class=\"dataframe\">\n",
       "  <thead>\n",
       "    <tr style=\"text-align: right;\">\n",
       "      <th></th>\n",
       "      <th>Age</th>\n",
       "      <th>OwnsHouse</th>\n",
       "      <th>PhysicalActivity</th>\n",
       "      <th>Sex</th>\n",
       "      <th>LivesWithPartner</th>\n",
       "      <th>LivesWithKids</th>\n",
       "      <th>BornInCity</th>\n",
       "      <th>BMI</th>\n",
       "      <th>CMVPositiveSerology</th>\n",
       "      <th>MetabolicScore</th>\n",
       "      <th>...</th>\n",
       "      <th>VaccineWhoopingCough</th>\n",
       "      <th>VaccineYellowFever</th>\n",
       "      <th>VaccineHepB</th>\n",
       "      <th>VaccineFlu</th>\n",
       "      <th>SUBJID</th>\n",
       "      <th>DepressionScore</th>\n",
       "      <th>HeartRate</th>\n",
       "      <th>Temperature</th>\n",
       "      <th>HourOfSampling</th>\n",
       "      <th>DayOfSampling</th>\n",
       "    </tr>\n",
       "  </thead>\n",
       "  <tbody>\n",
       "    <tr>\n",
       "      <th>0</th>\n",
       "      <td>22.33</td>\n",
       "      <td>Yes</td>\n",
       "      <td>3.0</td>\n",
       "      <td>Female</td>\n",
       "      <td>No</td>\n",
       "      <td>No</td>\n",
       "      <td>Yes</td>\n",
       "      <td>20.13</td>\n",
       "      <td>No</td>\n",
       "      <td>0</td>\n",
       "      <td>...</td>\n",
       "      <td>Yes</td>\n",
       "      <td>No</td>\n",
       "      <td>Yes</td>\n",
       "      <td>No</td>\n",
       "      <td>2</td>\n",
       "      <td>0.0</td>\n",
       "      <td>66</td>\n",
       "      <td>36.8</td>\n",
       "      <td>8.883</td>\n",
       "      <td>40</td>\n",
       "    </tr>\n",
       "    <tr>\n",
       "      <th>1</th>\n",
       "      <td>28.83</td>\n",
       "      <td>Yes</td>\n",
       "      <td>0.0</td>\n",
       "      <td>Female</td>\n",
       "      <td>Yes</td>\n",
       "      <td>No</td>\n",
       "      <td>Yes</td>\n",
       "      <td>21.33</td>\n",
       "      <td>Yes</td>\n",
       "      <td>1</td>\n",
       "      <td>...</td>\n",
       "      <td>Yes</td>\n",
       "      <td>No</td>\n",
       "      <td>Yes</td>\n",
       "      <td>No</td>\n",
       "      <td>3</td>\n",
       "      <td>0.0</td>\n",
       "      <td>66</td>\n",
       "      <td>37.4</td>\n",
       "      <td>9.350</td>\n",
       "      <td>40</td>\n",
       "    </tr>\n",
       "    <tr>\n",
       "      <th>2</th>\n",
       "      <td>23.67</td>\n",
       "      <td>Yes</td>\n",
       "      <td>0.0</td>\n",
       "      <td>Female</td>\n",
       "      <td>Yes</td>\n",
       "      <td>No</td>\n",
       "      <td>Yes</td>\n",
       "      <td>22.18</td>\n",
       "      <td>No</td>\n",
       "      <td>2</td>\n",
       "      <td>...</td>\n",
       "      <td>No</td>\n",
       "      <td>No</td>\n",
       "      <td>Yes</td>\n",
       "      <td>No</td>\n",
       "      <td>4</td>\n",
       "      <td>0.0</td>\n",
       "      <td>62</td>\n",
       "      <td>36.9</td>\n",
       "      <td>8.667</td>\n",
       "      <td>40</td>\n",
       "    </tr>\n",
       "    <tr>\n",
       "      <th>3</th>\n",
       "      <td>21.17</td>\n",
       "      <td>No</td>\n",
       "      <td>0.5</td>\n",
       "      <td>Female</td>\n",
       "      <td>No</td>\n",
       "      <td>No</td>\n",
       "      <td>No</td>\n",
       "      <td>18.68</td>\n",
       "      <td>No</td>\n",
       "      <td>0</td>\n",
       "      <td>...</td>\n",
       "      <td>No</td>\n",
       "      <td>No</td>\n",
       "      <td>Yes</td>\n",
       "      <td>No</td>\n",
       "      <td>5</td>\n",
       "      <td>1.0</td>\n",
       "      <td>64</td>\n",
       "      <td>36.0</td>\n",
       "      <td>9.883</td>\n",
       "      <td>40</td>\n",
       "    </tr>\n",
       "    <tr>\n",
       "      <th>4</th>\n",
       "      <td>26.17</td>\n",
       "      <td>Yes</td>\n",
       "      <td>1.5</td>\n",
       "      <td>Female</td>\n",
       "      <td>No</td>\n",
       "      <td>No</td>\n",
       "      <td>Yes</td>\n",
       "      <td>29.01</td>\n",
       "      <td>No</td>\n",
       "      <td>1</td>\n",
       "      <td>...</td>\n",
       "      <td>Yes</td>\n",
       "      <td>No</td>\n",
       "      <td>Yes</td>\n",
       "      <td>No</td>\n",
       "      <td>8</td>\n",
       "      <td>0.0</td>\n",
       "      <td>67</td>\n",
       "      <td>36.7</td>\n",
       "      <td>8.550</td>\n",
       "      <td>81</td>\n",
       "    </tr>\n",
       "  </tbody>\n",
       "</table>\n",
       "<p>5 rows × 40 columns</p>\n",
       "</div>"
      ],
      "text/plain": [
       "     Age OwnsHouse  PhysicalActivity     Sex LivesWithPartner LivesWithKids  \\\n",
       "0  22.33       Yes               3.0  Female               No            No   \n",
       "1  28.83       Yes               0.0  Female              Yes            No   \n",
       "2  23.67       Yes               0.0  Female              Yes            No   \n",
       "3  21.17        No               0.5  Female               No            No   \n",
       "4  26.17       Yes               1.5  Female               No            No   \n",
       "\n",
       "  BornInCity    BMI CMVPositiveSerology  MetabolicScore  ...  \\\n",
       "0        Yes  20.13                  No               0  ...   \n",
       "1        Yes  21.33                 Yes               1  ...   \n",
       "2        Yes  22.18                  No               2  ...   \n",
       "3         No  18.68                  No               0  ...   \n",
       "4        Yes  29.01                  No               1  ...   \n",
       "\n",
       "   VaccineWhoopingCough  VaccineYellowFever  VaccineHepB  VaccineFlu SUBJID  \\\n",
       "0                   Yes                  No          Yes          No      2   \n",
       "1                   Yes                  No          Yes          No      3   \n",
       "2                    No                  No          Yes          No      4   \n",
       "3                    No                  No          Yes          No      5   \n",
       "4                   Yes                  No          Yes          No      8   \n",
       "\n",
       "  DepressionScore HeartRate Temperature HourOfSampling DayOfSampling  \n",
       "0             0.0        66        36.8          8.883            40  \n",
       "1             0.0        66        37.4          9.350            40  \n",
       "2             0.0        62        36.9          8.667            40  \n",
       "3             1.0        64        36.0          9.883            40  \n",
       "4             0.0        67        36.7          8.550            81  \n",
       "\n",
       "[5 rows x 40 columns]"
      ]
     },
     "execution_count": 210,
     "metadata": {},
     "output_type": "execute_result"
    }
   ],
   "source": [
    "eCRF.head()"
   ]
  },
  {
   "cell_type": "code",
   "execution_count": 211,
   "metadata": {},
   "outputs": [],
   "source": [
    "nanostring = pd.read_csv(\"data/set2/nanostring.txt\",delimiter=\"\\t\") "
   ]
  },
  {
   "cell_type": "code",
   "execution_count": 240,
   "metadata": {},
   "outputs": [
    {
     "data": {
      "text/html": [
       "<div>\n",
       "<style scoped>\n",
       "    .dataframe tbody tr th:only-of-type {\n",
       "        vertical-align: middle;\n",
       "    }\n",
       "\n",
       "    .dataframe tbody tr th {\n",
       "        vertical-align: top;\n",
       "    }\n",
       "\n",
       "    .dataframe thead th {\n",
       "        text-align: right;\n",
       "    }\n",
       "</style>\n",
       "<table border=\"1\" class=\"dataframe\">\n",
       "  <thead>\n",
       "    <tr style=\"text-align: right;\">\n",
       "      <th></th>\n",
       "      <th>SUBJID</th>\n",
       "      <th>Stimulus.Name</th>\n",
       "      <th>ABCB1</th>\n",
       "      <th>ABCF1</th>\n",
       "      <th>ABL1</th>\n",
       "      <th>ADA</th>\n",
       "      <th>AHR</th>\n",
       "      <th>AICDA</th>\n",
       "      <th>AIRE</th>\n",
       "      <th>ALAS1</th>\n",
       "      <th>...</th>\n",
       "      <th>TRAF6</th>\n",
       "      <th>TYK2</th>\n",
       "      <th>UBE2L3</th>\n",
       "      <th>VTN</th>\n",
       "      <th>XBP1</th>\n",
       "      <th>XCL1</th>\n",
       "      <th>XCR1</th>\n",
       "      <th>ZAP70</th>\n",
       "      <th>ZBTB16</th>\n",
       "      <th>ZEB1</th>\n",
       "    </tr>\n",
       "  </thead>\n",
       "  <tbody>\n",
       "    <tr>\n",
       "      <th>0</th>\n",
       "      <td>2</td>\n",
       "      <td>BCG</td>\n",
       "      <td>7.554459</td>\n",
       "      <td>9.219946</td>\n",
       "      <td>7.514606</td>\n",
       "      <td>8.353650</td>\n",
       "      <td>8.850751</td>\n",
       "      <td>4.345700</td>\n",
       "      <td>4.325194</td>\n",
       "      <td>8.247999</td>\n",
       "      <td>...</td>\n",
       "      <td>7.717017</td>\n",
       "      <td>8.286764</td>\n",
       "      <td>7.502632</td>\n",
       "      <td>4.231431</td>\n",
       "      <td>10.357064</td>\n",
       "      <td>4.874329</td>\n",
       "      <td>4.422277</td>\n",
       "      <td>9.212120</td>\n",
       "      <td>7.631819</td>\n",
       "      <td>9.283739</td>\n",
       "    </tr>\n",
       "    <tr>\n",
       "      <th>1</th>\n",
       "      <td>2</td>\n",
       "      <td>C.albicans</td>\n",
       "      <td>7.150648</td>\n",
       "      <td>8.621474</td>\n",
       "      <td>7.039367</td>\n",
       "      <td>6.137992</td>\n",
       "      <td>9.083866</td>\n",
       "      <td>5.516857</td>\n",
       "      <td>3.916763</td>\n",
       "      <td>7.996525</td>\n",
       "      <td>...</td>\n",
       "      <td>7.540214</td>\n",
       "      <td>7.413515</td>\n",
       "      <td>7.265183</td>\n",
       "      <td>4.118751</td>\n",
       "      <td>9.591399</td>\n",
       "      <td>4.661937</td>\n",
       "      <td>3.641928</td>\n",
       "      <td>8.658329</td>\n",
       "      <td>7.102924</td>\n",
       "      <td>8.880914</td>\n",
       "    </tr>\n",
       "    <tr>\n",
       "      <th>2</th>\n",
       "      <td>2</td>\n",
       "      <td>E.coli</td>\n",
       "      <td>7.735487</td>\n",
       "      <td>8.958082</td>\n",
       "      <td>7.505286</td>\n",
       "      <td>7.478745</td>\n",
       "      <td>9.038046</td>\n",
       "      <td>4.106642</td>\n",
       "      <td>4.445018</td>\n",
       "      <td>8.045067</td>\n",
       "      <td>...</td>\n",
       "      <td>8.183378</td>\n",
       "      <td>7.865317</td>\n",
       "      <td>7.617842</td>\n",
       "      <td>3.439714</td>\n",
       "      <td>10.408763</td>\n",
       "      <td>4.839841</td>\n",
       "      <td>5.751282</td>\n",
       "      <td>8.987657</td>\n",
       "      <td>7.332786</td>\n",
       "      <td>9.042492</td>\n",
       "    </tr>\n",
       "    <tr>\n",
       "      <th>3</th>\n",
       "      <td>2</td>\n",
       "      <td>Influenza</td>\n",
       "      <td>7.661653</td>\n",
       "      <td>8.287930</td>\n",
       "      <td>6.281927</td>\n",
       "      <td>6.019046</td>\n",
       "      <td>9.089454</td>\n",
       "      <td>2.403826</td>\n",
       "      <td>4.984143</td>\n",
       "      <td>8.069580</td>\n",
       "      <td>...</td>\n",
       "      <td>7.836040</td>\n",
       "      <td>7.422128</td>\n",
       "      <td>7.049543</td>\n",
       "      <td>4.354611</td>\n",
       "      <td>8.948858</td>\n",
       "      <td>5.905329</td>\n",
       "      <td>4.293494</td>\n",
       "      <td>8.485333</td>\n",
       "      <td>7.248792</td>\n",
       "      <td>8.014676</td>\n",
       "    </tr>\n",
       "    <tr>\n",
       "      <th>4</th>\n",
       "      <td>2</td>\n",
       "      <td>Null</td>\n",
       "      <td>7.646707</td>\n",
       "      <td>7.614003</td>\n",
       "      <td>6.960148</td>\n",
       "      <td>5.661178</td>\n",
       "      <td>8.943238</td>\n",
       "      <td>3.957709</td>\n",
       "      <td>3.405641</td>\n",
       "      <td>7.557269</td>\n",
       "      <td>...</td>\n",
       "      <td>7.835371</td>\n",
       "      <td>8.330710</td>\n",
       "      <td>7.092763</td>\n",
       "      <td>4.829530</td>\n",
       "      <td>8.351957</td>\n",
       "      <td>4.290509</td>\n",
       "      <td>4.452900</td>\n",
       "      <td>9.139734</td>\n",
       "      <td>7.618323</td>\n",
       "      <td>8.366321</td>\n",
       "    </tr>\n",
       "  </tbody>\n",
       "</table>\n",
       "<p>5 rows × 562 columns</p>\n",
       "</div>"
      ],
      "text/plain": [
       "   SUBJID Stimulus.Name     ABCB1     ABCF1      ABL1       ADA       AHR  \\\n",
       "0       2           BCG  7.554459  9.219946  7.514606  8.353650  8.850751   \n",
       "1       2    C.albicans  7.150648  8.621474  7.039367  6.137992  9.083866   \n",
       "2       2        E.coli  7.735487  8.958082  7.505286  7.478745  9.038046   \n",
       "3       2     Influenza  7.661653  8.287930  6.281927  6.019046  9.089454   \n",
       "4       2          Null  7.646707  7.614003  6.960148  5.661178  8.943238   \n",
       "\n",
       "      AICDA      AIRE     ALAS1  ...     TRAF6      TYK2    UBE2L3       VTN  \\\n",
       "0  4.345700  4.325194  8.247999  ...  7.717017  8.286764  7.502632  4.231431   \n",
       "1  5.516857  3.916763  7.996525  ...  7.540214  7.413515  7.265183  4.118751   \n",
       "2  4.106642  4.445018  8.045067  ...  8.183378  7.865317  7.617842  3.439714   \n",
       "3  2.403826  4.984143  8.069580  ...  7.836040  7.422128  7.049543  4.354611   \n",
       "4  3.957709  3.405641  7.557269  ...  7.835371  8.330710  7.092763  4.829530   \n",
       "\n",
       "        XBP1      XCL1      XCR1     ZAP70    ZBTB16      ZEB1  \n",
       "0  10.357064  4.874329  4.422277  9.212120  7.631819  9.283739  \n",
       "1   9.591399  4.661937  3.641928  8.658329  7.102924  8.880914  \n",
       "2  10.408763  4.839841  5.751282  8.987657  7.332786  9.042492  \n",
       "3   8.948858  5.905329  4.293494  8.485333  7.248792  8.014676  \n",
       "4   8.351957  4.290509  4.452900  9.139734  7.618323  8.366321  \n",
       "\n",
       "[5 rows x 562 columns]"
      ]
     },
     "execution_count": 240,
     "metadata": {},
     "output_type": "execute_result"
    }
   ],
   "source": [
    "nanostring.head()"
   ]
  },
  {
   "cell_type": "code",
   "execution_count": 246,
   "metadata": {},
   "outputs": [
    {
     "name": "stdout",
     "output_type": "stream",
     "text": [
      "Index(['Age', 'OwnsHouse', 'PhysicalActivity', 'Sex', 'LivesWithPartner',\n",
      "       'LivesWithKids', 'BornInCity', 'BMI', 'CMVPositiveSerology',\n",
      "       'MetabolicScore', 'LowAppetite', 'TroubleConcentrating', 'HoursOfSleep',\n",
      "       'Listless', 'UsesCannabis', 'RecentPersonalCrisis', 'Smoking',\n",
      "       'Employed', 'Education', 'DustExposure', 'Income', 'HadMeasles',\n",
      "       'HadRubella', 'HadChickenPox', 'HadMumps', 'HadTonsillectomy',\n",
      "       'HadAppendicectomy', 'VaccineHepA', 'VaccineMMR', 'VaccineTyphoid',\n",
      "       'VaccineWhoopingCough', 'VaccineYellowFever', 'VaccineHepB',\n",
      "       'VaccineFlu', 'SUBJID', 'DepressionScore', 'HeartRate', 'Temperature',\n",
      "       'HourOfSampling', 'DayOfSampling'],\n",
      "      dtype='object')\n",
      "Female    417\n",
      "Male      399\n",
      "Name: Sex, dtype: int64\n"
     ]
    },
    {
     "data": {
      "text/plain": [
       "Text(0,0.5,'Expression of patient 2')"
      ]
     },
     "execution_count": 246,
     "metadata": {},
     "output_type": "execute_result"
    },
    {
     "data": {
      "image/png": "[encoded data removed]",
      "text/plain": [
       "<Figure size 432x288 with 1 Axes>"
      ]
     },
     "metadata": {},
     "output_type": "display_data"
    }
   ],
   "source": [
    "#Factors consider phenotype of patients:\n",
    "print(eCRF.columns)\n",
    "\n",
    "#Description of the phenotype: Age of patients is from 20 to 70, even distributed sex: female 417, male 399\n",
    "\n",
    "eCRF.describe()\n",
    "print(eCRF.Sex.value_counts())\n",
    "### Visualization\n",
    "\n",
    "#Box plot for Patient 2 expression level responding to different stimulus\n",
    "sub2 = nanostring.loc[nanostring.SUBJID == 2,]\n",
    "sub2.index = sub2.iloc[:,1]\n",
    "sub2 = sub2.iloc[:,2:]\n",
    "%matplotlib inline\n",
    "plt.boxplot(sub2,labels=sub2.index);\n",
    "plt.xlabel(\"Stimulus\")\n",
    "plt.ylabel(\"Expression of patient 2\")"
   ]
  },
  {
   "cell_type": "markdown",
   "metadata": {},
   "source": [
    "## Exploratory analysis of the stimulus effect\n",
    "In this section, we are going to explore the structure of the dataset across genes and stimulations.\n",
    "\n"
   ]
  },
  {
   "cell_type": "markdown",
   "metadata": {},
   "source": [
    "### Question 1: Perform a Principal Components Analysis on the whole dataset using the genes as variables, compute at least 30 principal components. Color the dots by stimulus in the spaces spanned by the first four dimensions. Interpret."
   ]
  },
  {
   "cell_type": "code",
   "execution_count": null,
   "metadata": {},
   "outputs": [],
   "source": []
  },
  {
   "cell_type": "code",
   "execution_count": null,
   "metadata": {},
   "outputs": [],
   "source": []
  },
  {
   "cell_type": "markdown",
   "metadata": {},
   "source": [
    "### Question 2: Extract the three genes that are the most associated with PC1 and PC2. Interpret."
   ]
  },
  {
   "cell_type": "code",
   "execution_count": null,
   "metadata": {},
   "outputs": [],
   "source": []
  },
  {
   "cell_type": "code",
   "execution_count": null,
   "metadata": {},
   "outputs": [],
   "source": []
  },
  {
   "cell_type": "code",
   "execution_count": null,
   "metadata": {},
   "outputs": [],
   "source": []
  },
  {
   "cell_type": "markdown",
   "metadata": {},
   "source": [
    "### Question 3: Perform a UMAP analysis on the whole dataset, indicate the number of nearest neighbors that was used. Plot the first two UMAP dimensions and color the dots by stimulus. Interpret."
   ]
  },
  {
   "cell_type": "code",
   "execution_count": null,
   "metadata": {},
   "outputs": [],
   "source": []
  },
  {
   "cell_type": "code",
   "execution_count": null,
   "metadata": {},
   "outputs": [],
   "source": []
  },
  {
   "cell_type": "code",
   "execution_count": null,
   "metadata": {},
   "outputs": [],
   "source": []
  },
  {
   "cell_type": "code",
   "execution_count": null,
   "metadata": {},
   "outputs": [],
   "source": []
  },
  {
   "cell_type": "markdown",
   "metadata": {},
   "source": [
    "### Question 4: Perform a k-means clustering of the samples using seven clusters."
   ]
  },
  {
   "cell_type": "code",
   "execution_count": null,
   "metadata": {},
   "outputs": [],
   "source": []
  },
  {
   "cell_type": "code",
   "execution_count": null,
   "metadata": {},
   "outputs": [],
   "source": []
  },
  {
   "cell_type": "code",
   "execution_count": null,
   "metadata": {},
   "outputs": [],
   "source": []
  },
  {
   "cell_type": "code",
   "execution_count": null,
   "metadata": {},
   "outputs": [],
   "source": []
  },
  {
   "cell_type": "markdown",
   "metadata": {},
   "source": [
    "### Question 5: Perform a k-means clustering of the samples using seven clusters, in the space spanned by the principal components carrying at least 80% of the total variance."
   ]
  },
  {
   "cell_type": "code",
   "execution_count": null,
   "metadata": {},
   "outputs": [],
   "source": []
  },
  {
   "cell_type": "code",
   "execution_count": null,
   "metadata": {},
   "outputs": [],
   "source": []
  },
  {
   "cell_type": "code",
   "execution_count": null,
   "metadata": {},
   "outputs": [],
   "source": []
  },
  {
   "cell_type": "code",
   "execution_count": null,
   "metadata": {},
   "outputs": [],
   "source": []
  },
  {
   "cell_type": "code",
   "execution_count": null,
   "metadata": {},
   "outputs": [],
   "source": []
  },
  {
   "cell_type": "code",
   "execution_count": null,
   "metadata": {},
   "outputs": [],
   "source": []
  },
  {
   "cell_type": "markdown",
   "metadata": {},
   "source": [
    "### Question 6: Perform the same clustering in the space defined spanned by the first two UMAP dimensions."
   ]
  },
  {
   "cell_type": "code",
   "execution_count": null,
   "metadata": {},
   "outputs": [],
   "source": []
  },
  {
   "cell_type": "code",
   "execution_count": null,
   "metadata": {},
   "outputs": [],
   "source": []
  },
  {
   "cell_type": "code",
   "execution_count": null,
   "metadata": {},
   "outputs": [],
   "source": []
  },
  {
   "cell_type": "code",
   "execution_count": null,
   "metadata": {},
   "outputs": [],
   "source": []
  },
  {
   "cell_type": "markdown",
   "metadata": {},
   "source": [
    "### Question 7: Analyze the clustering results. Which method would you recommend to cluster samples in order to recover the stimulus annotation?\n"
   ]
  },
  {
   "cell_type": "code",
   "execution_count": null,
   "metadata": {},
   "outputs": [],
   "source": []
  },
  {
   "cell_type": "markdown",
   "metadata": {},
   "source": [
    "Exploratory analysis within non stimulated samples\n",
    "We are going to perform an exploratory analysis of the non stimulated samples. This can be useful to better understand which variables (e.g. batches, ethnicity, sex, age, serology, …) are associated with gene expression variations and should likely be investigated and controlled for in subsequent analyses."
   ]
  },
  {
   "cell_type": "markdown",
   "metadata": {},
   "source": [
    "### Question 8: Compute a PCA of the non stimulated samples. Investigate/plot the distribution of the samples on the first six PCs with respect to phenotypes. Suggest a set of phenotypes that might be influencing the gene expression."
   ]
  },
  {
   "cell_type": "code",
   "execution_count": null,
   "metadata": {},
   "outputs": [],
   "source": []
  },
  {
   "cell_type": "code",
   "execution_count": null,
   "metadata": {},
   "outputs": [],
   "source": []
  },
  {
   "cell_type": "code",
   "execution_count": null,
   "metadata": {},
   "outputs": [],
   "source": []
  },
  {
   "cell_type": "markdown",
   "metadata": {},
   "source": [
    "### Question 9: Using all genes, cluster the non stimulated samples using the method of your choice. "
   ]
  },
  {
   "cell_type": "code",
   "execution_count": null,
   "metadata": {},
   "outputs": [],
   "source": []
  },
  {
   "cell_type": "markdown",
   "metadata": {},
   "source": [
    "# Homework"
   ]
  },
  {
   "cell_type": "markdown",
   "metadata": {},
   "source": [
    "Differential analysis\n",
    "The objective of this section is to perform a differential analysis to detect genes that are differentially expressed between the classes of BMI."
   ]
  },
  {
   "cell_type": "markdown",
   "metadata": {},
   "source": [
    "\n",
    "\n",
    "### Question 10: Check that each patient has the same number of stimulus in the expression data."
   ]
  },
  {
   "cell_type": "code",
   "execution_count": null,
   "metadata": {},
   "outputs": [],
   "source": []
  },
  {
   "cell_type": "code",
   "execution_count": null,
   "metadata": {},
   "outputs": [],
   "source": []
  },
  {
   "cell_type": "markdown",
   "metadata": {},
   "source": [
    "### Question 11: Select rows from the expression data corresponding to the “E.coli” stimulus and create a new data.frame containing patients present in both expression and clinical data. Make sure patients are similarly ordered in the two tables newly created."
   ]
  },
  {
   "cell_type": "code",
   "execution_count": null,
   "metadata": {},
   "outputs": [],
   "source": []
  },
  {
   "cell_type": "code",
   "execution_count": null,
   "metadata": {},
   "outputs": [],
   "source": []
  },
  {
   "cell_type": "markdown",
   "metadata": {},
   "source": [
    "### Question 12: Create a new variable in the clinical data.frame to categorize the BMI into three classes: low (<21), medium (>21 and <25) and high (>25). How many patients are there in each class?"
   ]
  },
  {
   "cell_type": "code",
   "execution_count": null,
   "metadata": {},
   "outputs": [],
   "source": []
  },
  {
   "cell_type": "code",
   "execution_count": null,
   "metadata": {},
   "outputs": [],
   "source": []
  },
  {
   "cell_type": "code",
   "execution_count": null,
   "metadata": {},
   "outputs": [],
   "source": []
  },
  {
   "cell_type": "markdown",
   "metadata": {},
   "source": [
    "### Question 13: Test for every gene of the expression dataset and save the p-value of each gene in a numeric vector as long as the number of genes tested. Draw a histogram of these p-values. How many genes have a p-value lower than 5%?"
   ]
  },
  {
   "cell_type": "code",
   "execution_count": null,
   "metadata": {},
   "outputs": [],
   "source": []
  },
  {
   "cell_type": "code",
   "execution_count": null,
   "metadata": {},
   "outputs": [],
   "source": []
  },
  {
   "cell_type": "markdown",
   "metadata": {},
   "source": [
    "### Question 14: Adjust these p-values using the Benjamini-Hochberg method and draw their histogram. How many genes are differentially expressed between the BMI classes (at a 5% threshold)?\n"
   ]
  },
  {
   "cell_type": "code",
   "execution_count": null,
   "metadata": {},
   "outputs": [],
   "source": []
  },
  {
   "cell_type": "code",
   "execution_count": null,
   "metadata": {},
   "outputs": [],
   "source": []
  },
  {
   "cell_type": "markdown",
   "metadata": {},
   "source": [
    "### Question 15: Which are the 6 most significant genes? Illustrate the gene expression differences with boxplots and scatter plots "
   ]
  },
  {
   "cell_type": "code",
   "execution_count": null,
   "metadata": {},
   "outputs": [],
   "source": []
  },
  {
   "cell_type": "code",
   "execution_count": null,
   "metadata": {},
   "outputs": [],
   "source": []
  },
  {
   "cell_type": "code",
   "execution_count": null,
   "metadata": {},
   "outputs": [],
   "source": []
  }
 ],
 "metadata": {
  "kernelspec": {
   "display_name": "Python 3",
   "language": "python",
   "name": "python3"
  },
  "language_info": {
   "codemirror_mode": {
    "name": "ipython",
    "version": 3
   },
   "file_extension": ".py",
   "mimetype": "text/x-python",
   "name": "python",
   "nbconvert_exporter": "python",
   "pygments_lexer": "ipython3",
   "version": "3.6.7"
  }
 },
 "nbformat": 4,
 "nbformat_minor": 2
}
