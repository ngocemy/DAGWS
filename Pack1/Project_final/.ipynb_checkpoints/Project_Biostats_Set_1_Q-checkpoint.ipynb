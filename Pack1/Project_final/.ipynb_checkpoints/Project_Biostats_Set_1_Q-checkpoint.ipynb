{
 "cells": [
  {
   "cell_type": "markdown",
   "metadata": {},
   "source": [
    "This notebook is made for \"Data Analysis for Genomics Workshop\" (DAGWS). \n",
    "Tran Bich Ngoc CAO, ENS Paris, August 2020.\n",
    "<a rel=\"license\" href=\"https://creativecommons.org/licenses/by/2.0/\"><img alt=\"Licence Creative Commons\" style=\"border-width:0\" src=\"https://i.creativecommons.org/l/by-nc-sa/4.0/88x31.png\" /></a><br /> This work is protected by the term of <a rel=\"license\" href=\"https://creativecommons.org/licenses/by/2.0/\"> Attribution 2.0 Generic (CC BY 2.0) </a>. Please cite the source in case of re-distribution."
   ]
  },
  {
   "cell_type": "markdown",
   "metadata": {},
   "source": [
    "# Problem set 1"
   ]
  },
  {
   "cell_type": "markdown",
   "metadata": {},
   "source": [
    "__Introduction__\n",
    "\n",
    "In this session, we are going to work on several independent datasets.\n",
    "\n",
    "`cytokines` contains the abundance levels of 23 cytokines for 25 mices (9 K0 and 16 WT).\n",
    "\n",
    "`virulence` contains binary measurements of presence/absence of 5 virulence biomarkers in 1222 bacterial strains.\n",
    "\n",
    "`red_cells` contains the number of cells marked by a red color within 2 conditions (treated or not treated cells).\n",
    "\n",
    "`weight` contains the weight measurements of 8 mice at 2 different timepoints.\n",
    "\n",
    "`infected_cells` contains the number of infected cells as well as the total number of cells for each biological replicates. The goal is to study the proportion of infected cells between 2 mouse strains.\n",
    "\n",
    "`MFI_controller` contains measures of 89 markers (measured through Mean Fluorescent Intensity) for two types of patients.\n",
    "\n",
    "All datasets used in this session are real data generated during biological experiments."
   ]
  },
  {
   "cell_type": "code",
   "execution_count": 13,
   "metadata": {},
   "outputs": [],
   "source": [
    "# Import Pandas as pd"
   ]
  },
  {
   "cell_type": "code",
   "execution_count": null,
   "metadata": {},
   "outputs": [],
   "source": [
    "# Read table datasets (be careful which data using comma separated format, or using space, or semicolon...)"
   ]
  },
  {
   "cell_type": "code",
   "execution_count": null,
   "metadata": {},
   "outputs": [],
   "source": [
    "# Use pandas.DataFrame.head() to look at the first lines of each dataframe"
   ]
  },
  {
   "cell_type": "markdown",
   "metadata": {},
   "source": [
    "### Estimation"
   ]
  },
  {
   "cell_type": "markdown",
   "metadata": {},
   "source": [
    "The goal of this section is to play with basic estimators by describing and summarizing: \n",
    " \n",
    " 1. the abundance level of cytokine `IL-13.(37)` in `cytokines` dataset\n",
    " 2. the status of the `Toxin` marker in `virulence` dataset\n",
    "\n",
    "1. Make a simple representation of the 2 variables of interest.\n",
    "\n",
    "(Homework) 2. Pick estimators that are adequate to each marker within the following list and associate the correct word to its maths definition, Python function/script and data. Specify for each estimator if it is a **position**, **scale** or **shape** parameter."
   ]
  },
  {
   "cell_type": "markdown",
   "metadata": {},
   "source": [
    "**1. Non exhaustive list of basic estimators**\n",
    "\n",
    "* Mean\n",
    "* Median\n",
    "* Mode\n",
    "* Maximum and minimum\n",
    "* Quantile (of order q)\n",
    "* Variance\n",
    "* Standard deviation\n",
    "* Standard Error to the Mean (SEM)\n",
    "* Absolute deviation to the mean or median\n",
    "* Skewness\n",
    "* Coefficient of variation \n",
    "* Frequency or proportion"
   ]
  },
  {
   "cell_type": "markdown",
   "metadata": {},
   "source": [
    "**2. Python functions:**\n",
    "Using numpy as np and scipy.stats as stats:\n",
    "    np.mean()\n",
    "    np.median()\n",
    "    np.max()\n",
    "    np.min()\n",
    "    stats.mode()\n",
    "    np.quantile()\n",
    "    stats.sem()\n",
    "    \n",
    "    \n",
    "    \n",
    "    "
   ]
  },
  {
   "cell_type": "markdown",
   "metadata": {},
   "source": [
    "**3. Math definition, if $x=(x_1,\\ldots,x_n)$ describes a serie of $n$ observations**\n",
    "\n",
    "Homework: These definitions are not in the order of section 1, could you classify which math definition corresponds to which estimator? \n",
    "\n",
    "* $m = \\frac{1}{n}\\sum_{i=1}^n x_i$\n",
    "* $s^2 = \\frac{1}{n - 1}\\sum_{i=1}^n (x_i - m)^2$\n",
    "* $f_i = \\frac{n_i}{n}$ for each level $i$ of a factor\n",
    "* $x_{(\\frac{n+1}{2})}$ if $n$ is odd, $\\frac{1}{2}(x_{(\\frac{n}{2})}+x_{(\\frac{n}{2}+1)})$ if $n$ is even\n",
    "* $x_{(1)}$ and $x_{(n)}$\n",
    "* Most frequent value in the serie\n",
    "* $s = \\sqrt{s^2}$\n",
    "* $C = \\frac{s}{m}$\n",
    "* $\\nu = \\frac{s}{\\sqrt{n}}$\n",
    "* $Q$ such that $q\\%$ of the observed values are lower than $Q$ and $(1 - q)\\%$ are greater than $Q$\n",
    "* $\\text{max}(x)$ and $\\text{min}(x)$\n",
    "* $\\text{MAD} =\\text{median} (| x_1 - m|,\\ldots, | x_n - m|)$\n",
    "\n",
    "\n",
    "</div>\n",
    "</div>"
   ]
  },
  {
   "cell_type": "markdown",
   "metadata": {},
   "source": [
    "We first investigate the `cytokines` dataset. Let's see its column names: (this is the example of a very good biologist but bad bioinformatician ^^ given column names so complicated and confused!)"
   ]
  },
  {
   "cell_type": "code",
   "execution_count": 1,
   "metadata": {},
   "outputs": [],
   "source": [
    "# using Pandas.DataFrame.columns to see the column names"
   ]
  },
  {
   "cell_type": "markdown",
   "metadata": {},
   "source": [
    "1. the abundance level of cytokine `IL-13.(37)` in `cytokines` dataset\n",
    "##### Mean, mode, median is estimator for position"
   ]
  },
  {
   "cell_type": "code",
   "execution_count": 83,
   "metadata": {},
   "outputs": [],
   "source": [
    "# To select one column, use the .loc method of the Pandas Dataframe"
   ]
  },
  {
   "cell_type": "code",
   "execution_count": 102,
   "metadata": {},
   "outputs": [],
   "source": [
    "# Import Numpy to calculate mean, median"
   ]
  },
  {
   "cell_type": "code",
   "execution_count": 92,
   "metadata": {},
   "outputs": [],
   "source": [
    "# Mode is not in Numpy! It is in Scipy package actually ! https://kite.com/python/docs/scipy.stats.mode "
   ]
  },
  {
   "cell_type": "code",
   "execution_count": 118,
   "metadata": {},
   "outputs": [],
   "source": [
    "# We know that virulence contains binary data (0 and 1):"
   ]
  },
  {
   "cell_type": "code",
   "execution_count": 3,
   "metadata": {},
   "outputs": [],
   "source": [
    "# Proportion of presence/absence for Toxin in Virulence dataset:\n"
   ]
  },
  {
   "cell_type": "code",
   "execution_count": 4,
   "metadata": {},
   "outputs": [],
   "source": [
    "#Mode for toxin is ?\n",
    "#For virulence data don't need to compute max, min cause it's binary!"
   ]
  },
  {
   "cell_type": "code",
   "execution_count": 112,
   "metadata": {},
   "outputs": [],
   "source": [
    "# Quantile"
   ]
  },
  {
   "cell_type": "code",
   "execution_count": 5,
   "metadata": {},
   "outputs": [],
   "source": [
    "# Standard error to the mean: Precision of the mean estimation SEM\n"
   ]
  },
  {
   "cell_type": "code",
   "execution_count": 6,
   "metadata": {},
   "outputs": [],
   "source": [
    "### Describe dispersion of the data\n"
   ]
  },
  {
   "cell_type": "markdown",
   "metadata": {},
   "source": [
    "Very randomly, `mad` median of absolute deviation is not in Numpy and Stats! We can call the method directly from pandas.Series"
   ]
  },
  {
   "cell_type": "code",
   "execution_count": 129,
   "metadata": {},
   "outputs": [],
   "source": [
    "# Absolute deviation to the median/mean: \n",
    "# the median of absolute deviation to the mean/median: variance is too large -> useful\n"
   ]
  },
  {
   "cell_type": "code",
   "execution_count": null,
   "metadata": {},
   "outputs": [],
   "source": [
    "###Shape:\n",
    "#Skewness"
   ]
  },
  {
   "cell_type": "code",
   "execution_count": null,
   "metadata": {},
   "outputs": [],
   "source": [
    "# Coeficience of variation, remove unit, detect marker that are more variable compare to their mean"
   ]
  },
  {
   "cell_type": "code",
   "execution_count": 7,
   "metadata": {},
   "outputs": [],
   "source": [
    "# Plot cytokines and virulence\n"
   ]
  },
  {
   "cell_type": "markdown",
   "metadata": {},
   "source": [
    "Small note: to use matplotlib without printing axes coordinates and save the plots in the notebook: put `%matplotlib inline` at the beginning and `;` at the end!"
   ]
  },
  {
   "cell_type": "markdown",
   "metadata": {},
   "source": [
    "# Confidence intervals\n",
    "\n",
    "The aim of this section is to implement confidence intervals for the mean and for proportion using the tools presented in the slides:\n",
    "\n",
    "* Confidence interval of the mean using Student quantiles\n",
    "* Confidence interval of the mean using bootstrap\n",
    "* Confidence interval of a proportion using Gaussian quantiles\n",
    "\n",
    "1. `cytokines` dataset: compute a confidence interval of the average abundance of cytokin `IL-13.(37)` in KO group"
   ]
  },
  {
   "cell_type": "markdown",
   "metadata": {},
   "source": [
    "1. `cytokines` dataset: compute a confidence interval of the average abundance of cytokin `IL-13.(37)` in KO group\n",
    "\n",
    "\n",
    "2. `virulence` dataset: compute a confidence interval of the proportion of strains having the `Toxin` of interest.\n",
    "\n",
    "Homework:\n",
    "1. Load the `red_cells.csv` dataset and compute a confidence interval of the average number of red cells in treated condition.\n",
    "\n",
    "2. Load the `infected_cells.csv` dataset and compute a confidence interval of the proportion of infected cells in WT mice."
   ]
  },
  {
   "cell_type": "code",
   "execution_count": 8,
   "metadata": {
    "scrolled": true
   },
   "outputs": [],
   "source": [
    "# Check skewness of the data, Gaussian or not\n",
    "# Hint: using histogram\n"
   ]
  },
  {
   "cell_type": "code",
   "execution_count": 14,
   "metadata": {},
   "outputs": [],
   "source": [
    "# Subsample the Cytokines group with only KO:\n"
   ]
  },
  {
   "cell_type": "code",
   "execution_count": 10,
   "metadata": {},
   "outputs": [],
   "source": [
    "#Transform data to log(1+cytokine level) -> Gaussian or we can use Bootrap\n"
   ]
  },
  {
   "cell_type": "code",
   "execution_count": 11,
   "metadata": {},
   "outputs": [],
   "source": [
    "# plot histogram of bootmean"
   ]
  },
  {
   "cell_type": "markdown",
   "metadata": {},
   "source": [
    "Now calculate CI using t-distribution (in `stats.t`, using function `ppf()`)"
   ]
  },
  {
   "cell_type": "markdown",
   "metadata": {},
   "source": [
    "Here is the Boottrap function that is written for you, let's spend sometimes analyzing it!"
   ]
  },
  {
   "cell_type": "code",
   "execution_count": 212,
   "metadata": {},
   "outputs": [],
   "source": [
    "###Bootrap:\n",
    "def bootIC(x,B):\n",
    "  \"\"\"\n",
    "  x is the vector of observation\n",
    "  B is no. of bootrap replicates \n",
    "  \"\"\"\n",
    "  bootmean = []\n",
    "  for b in range(B-1):\n",
    "    newobs = np.random.choice(y, len(y), replace=True,p=None)\n",
    "    bootmean.append(np.mean(newobs))\n",
    "  ic_inf = np.quantile(bootmean, alpha/2)\n",
    "  ic_sup = np.quantile(bootmean, 1-alpha/2)\n",
    "  return(list([bootmean,ic_inf,ic_sup]))\n"
   ]
  },
  {
   "cell_type": "markdown",
   "metadata": {},
   "source": [
    "What do you see from Bootstrapping result compare to student t-distribution?"
   ]
  },
  {
   "cell_type": "markdown",
   "metadata": {},
   "source": [
    "# Hypothesis testing\n",
    "\n"
   ]
  },
  {
   "cell_type": "markdown",
   "metadata": {},
   "source": [
    "I found blog posts are very efficient to grasp some basics of anything. [Towardsdatasciece](https://towardsdatascience.com/inferential-statistics-series-t-test-using-numpy-2718f8f9bf2f) is a good one, here is a reference for **t-test** for example. Let's revise!"
   ]
  },
  {
   "cell_type": "markdown",
   "metadata": {},
   "source": [
    "The aim of this section is to practice hypothesis testing using t-test for mean comparison (as seen on the slides) but also to discover 2 other tests:\n",
    "\n",
    "* `stats.fisher_exact()` for association/independence testing in contingency tables\n",
    "* (`stats.ttest_ind()` for mean comparison for large samples and/or Gaussian biomarkers)\n",
    "* `stats.wilcoxon()` for \"mean\" comparison for small samples and/or non Gaussian biomarkers\n",
    "\n",
    "Fisher exact test you have encountered in \"Lady tasting tea\", t-test you might have seen in you biostat course (or you might want to look at a simple explaination [here](), and wilcoxin test is a non-parametric test.\n",
    "\n"
   ]
  },
  {
   "cell_type": "markdown",
   "metadata": {},
   "source": [
    "1. `cytokines` dataset: compare the average abundance of cytokin `IL.13..37.` across the 2 experimental groups.\n",
    "\n",
    "Hint: comparing results with t-test and wilcoxon test for this question, which test is better?"
   ]
  },
  {
   "cell_type": "code",
   "execution_count": null,
   "metadata": {},
   "outputs": [],
   "source": []
  },
  {
   "cell_type": "markdown",
   "metadata": {},
   "source": [
    "2.  `virulence` dataset: Test for independence between the two markers `hlyA` and `Toxin`.\n",
    "\n"
   ]
  },
  {
   "cell_type": "code",
   "execution_count": null,
   "metadata": {},
   "outputs": [],
   "source": []
  },
  {
   "cell_type": "markdown",
   "metadata": {},
   "source": [
    "3. `weight` dataset: compare the mean weight of mice between the 2 timepoints. Be careful: measurements are performed on the same mice, meaning that the measures are not independent, they are paired. \n",
    "\n"
   ]
  },
  {
   "cell_type": "code",
   "execution_count": null,
   "metadata": {},
   "outputs": [],
   "source": []
  },
  {
   "cell_type": "markdown",
   "metadata": {},
   "source": [
    "# Introduction to multiple testing\n",
    "\n"
   ]
  },
  {
   "cell_type": "markdown",
   "metadata": {},
   "source": [
    "Load the `MFI_controller.csv` dataset. The goal of this exercise is to scan the 89 markers (measured through MFI) and find the ones with mean MFI significantly different between the two types of patients. \n",
    "\n",
    "1. Perform a t-test for each marker, comparing controller and healthy patients. \n",
    "\n",
    "2. Retrieve the p-values of each test and using `p.adjust()` function, adjust the p-values to multiple comparisons with Benjamini-Hochberg and Bonferroni methods. \n",
    "\n",
    "\n"
   ]
  },
  {
   "cell_type": "code",
   "execution_count": null,
   "metadata": {},
   "outputs": [],
   "source": []
  },
  {
   "cell_type": "markdown",
   "metadata": {},
   "source": [
    "# Problem set 2: "
   ]
  },
  {
   "cell_type": "markdown",
   "metadata": {},
   "source": [
    "Thank you for going this far, we assume you will come back to this project once you finish Pack 2: Scikit-learn.\n",
    "In this problem set, we expect you to perform a real analysis on real data. Please send us your answer before 15th of September. We will send you the correct answer as soon as you provide us your submission. It is a real challenge! Bonne chance! :)"
   ]
  },
  {
   "cell_type": "markdown",
   "metadata": {},
   "source": [
    " <img src=\"fig/study_outline.png\" width=400>"
   ]
  },
  {
   "cell_type": "markdown",
   "metadata": {},
   "source": [
    "The objective of this project is to establish the boundaries of a \"healthy\" immune response, assess how this variation is genetically, epigenetically or environmentally controlled, and understand how this variation may account for differences in susceptibility to infection, therapeutic treatment or vaccine response.\n",
    "\n",
    "To assay inter-individual variability of immune responses, TruCulture whole-blood assay devices have been developed to test the effects of various immune stimulation conditions (Escherichia coli, BCG, Staphylococcus aureus, SEB, Candida albicans and Influenza virus) on individal immune responses. Transcriptome data quantifying expression of 560 genes under these stimulation conditions were produced through hybridization arrays (Nanostring) for the individuals of the cohort (Piasecka et al., 2018).\n",
    "\n",
    "Immune responses are triggered through the activation of specialised immune cell populations and immune cell composition varies with age and sex. This may for example explain the observed reduced vaccination efficacy in the elderly. Major immune cell populations in the circulation of healthy donors have been quantified with median fluorescent intensity (MFI) assessed by flow cytometry for the donors of the cohort (Piasecka et al., 2018).\n",
    "One of the main objectives of this project is to relate the table of genes expression to phenotypic markers such as age, gender, life habits and the immune response phenotypes.\n"
   ]
  },
  {
   "cell_type": "markdown",
   "metadata": {},
   "source": [
    "Reference:\n",
    "\n",
    "Piasecka, E. et al. Natural variation in the parameters of innate immune cells is preferentially driven by genetic factors resource. Nat. Immunol. 19, 302-314 (2018).\n",
    "\n",
    "Piasecka, B. et al. Distinctive roles of age, sex, and genetics in shaping transcriptional variation of human immune responses to microbial challenges. Proc. Natl. Acad. Sci. 115, E488-E497 (2018)"
   ]
  },
  {
   "cell_type": "markdown",
   "metadata": {},
   "source": [
    "Two txt files have been provided to you for this project. The first one, `eCRF.txt` should have `eCRF.shape[0]` rows, `eCRF.shape[1]` columns and contains phenotypic information about `eCRF.shape[0]` healthy patients such as their age, gender, smoking habits, BMI... All subjects are identified by an unique identifier in column `SUBJID`.\n",
    "The second dataset in file `nanostring.txt` contains measures of genes expression for all individuals and 7 bacterial stimuli. Stimulus information is available in column `Stimulus.Name` and patient identifier in column `SUBJID` to allow the match between phenotypic information and gene expression. Note that gene expression has already been normalized, meaning that gene variables do not require any extra transformation. \n",
    "\n"
   ]
  },
  {
   "cell_type": "markdown",
   "metadata": {},
   "source": [
    "### Question 0: Before applying advanced statistical tools, take time to describe, summarize and visualize the data. For example, make barplots, boxplots, compute summaries of the data (mean, variance, proportion) in order to get familiar with the format of the dataset. More generally, all along the project, when a new marker or a new variable is studied, take time to shortly describe it."
   ]
  },
  {
   "cell_type": "code",
   "execution_count": 1,
   "metadata": {},
   "outputs": [],
   "source": [
    "import pandas as pd  "
   ]
  },
  {
   "cell_type": "code",
   "execution_count": 5,
   "metadata": {},
   "outputs": [],
   "source": [
    "eCRF = pd.read_csv(\"data/set2/eCRF.txt\",delimiter=\"\\t\") "
   ]
  },
  {
   "cell_type": "code",
   "execution_count": 6,
   "metadata": {},
   "outputs": [
    {
     "data": {
      "text/plain": [
       "816"
      ]
     },
     "execution_count": 6,
     "metadata": {},
     "output_type": "execute_result"
    }
   ],
   "source": [
    "eCRF.shape[0]"
   ]
  },
  {
   "cell_type": "code",
   "execution_count": 7,
   "metadata": {},
   "outputs": [
    {
     "data": {
      "text/html": [
       "<div>\n",
       "<style scoped>\n",
       "    .dataframe tbody tr th:only-of-type {\n",
       "        vertical-align: middle;\n",
       "    }\n",
       "\n",
       "    .dataframe tbody tr th {\n",
       "        vertical-align: top;\n",
       "    }\n",
       "\n",
       "    .dataframe thead th {\n",
       "        text-align: right;\n",
       "    }\n",
       "</style>\n",
       "<table border=\"1\" class=\"dataframe\">\n",
       "  <thead>\n",
       "    <tr style=\"text-align: right;\">\n",
       "      <th></th>\n",
       "      <th>Age</th>\n",
       "      <th>OwnsHouse</th>\n",
       "      <th>PhysicalActivity</th>\n",
       "      <th>Sex</th>\n",
       "      <th>LivesWithPartner</th>\n",
       "      <th>LivesWithKids</th>\n",
       "      <th>BornInCity</th>\n",
       "      <th>BMI</th>\n",
       "      <th>CMVPositiveSerology</th>\n",
       "      <th>MetabolicScore</th>\n",
       "      <th>...</th>\n",
       "      <th>VaccineWhoopingCough</th>\n",
       "      <th>VaccineYellowFever</th>\n",
       "      <th>VaccineHepB</th>\n",
       "      <th>VaccineFlu</th>\n",
       "      <th>SUBJID</th>\n",
       "      <th>DepressionScore</th>\n",
       "      <th>HeartRate</th>\n",
       "      <th>Temperature</th>\n",
       "      <th>HourOfSampling</th>\n",
       "      <th>DayOfSampling</th>\n",
       "    </tr>\n",
       "  </thead>\n",
       "  <tbody>\n",
       "    <tr>\n",
       "      <th>0</th>\n",
       "      <td>22.33</td>\n",
       "      <td>Yes</td>\n",
       "      <td>3.0</td>\n",
       "      <td>Female</td>\n",
       "      <td>No</td>\n",
       "      <td>No</td>\n",
       "      <td>Yes</td>\n",
       "      <td>20.13</td>\n",
       "      <td>No</td>\n",
       "      <td>0</td>\n",
       "      <td>...</td>\n",
       "      <td>Yes</td>\n",
       "      <td>No</td>\n",
       "      <td>Yes</td>\n",
       "      <td>No</td>\n",
       "      <td>2</td>\n",
       "      <td>0.0</td>\n",
       "      <td>66</td>\n",
       "      <td>36.8</td>\n",
       "      <td>8.883</td>\n",
       "      <td>40</td>\n",
       "    </tr>\n",
       "    <tr>\n",
       "      <th>1</th>\n",
       "      <td>28.83</td>\n",
       "      <td>Yes</td>\n",
       "      <td>0.0</td>\n",
       "      <td>Female</td>\n",
       "      <td>Yes</td>\n",
       "      <td>No</td>\n",
       "      <td>Yes</td>\n",
       "      <td>21.33</td>\n",
       "      <td>Yes</td>\n",
       "      <td>1</td>\n",
       "      <td>...</td>\n",
       "      <td>Yes</td>\n",
       "      <td>No</td>\n",
       "      <td>Yes</td>\n",
       "      <td>No</td>\n",
       "      <td>3</td>\n",
       "      <td>0.0</td>\n",
       "      <td>66</td>\n",
       "      <td>37.4</td>\n",
       "      <td>9.350</td>\n",
       "      <td>40</td>\n",
       "    </tr>\n",
       "    <tr>\n",
       "      <th>2</th>\n",
       "      <td>23.67</td>\n",
       "      <td>Yes</td>\n",
       "      <td>0.0</td>\n",
       "      <td>Female</td>\n",
       "      <td>Yes</td>\n",
       "      <td>No</td>\n",
       "      <td>Yes</td>\n",
       "      <td>22.18</td>\n",
       "      <td>No</td>\n",
       "      <td>2</td>\n",
       "      <td>...</td>\n",
       "      <td>No</td>\n",
       "      <td>No</td>\n",
       "      <td>Yes</td>\n",
       "      <td>No</td>\n",
       "      <td>4</td>\n",
       "      <td>0.0</td>\n",
       "      <td>62</td>\n",
       "      <td>36.9</td>\n",
       "      <td>8.667</td>\n",
       "      <td>40</td>\n",
       "    </tr>\n",
       "    <tr>\n",
       "      <th>3</th>\n",
       "      <td>21.17</td>\n",
       "      <td>No</td>\n",
       "      <td>0.5</td>\n",
       "      <td>Female</td>\n",
       "      <td>No</td>\n",
       "      <td>No</td>\n",
       "      <td>No</td>\n",
       "      <td>18.68</td>\n",
       "      <td>No</td>\n",
       "      <td>0</td>\n",
       "      <td>...</td>\n",
       "      <td>No</td>\n",
       "      <td>No</td>\n",
       "      <td>Yes</td>\n",
       "      <td>No</td>\n",
       "      <td>5</td>\n",
       "      <td>1.0</td>\n",
       "      <td>64</td>\n",
       "      <td>36.0</td>\n",
       "      <td>9.883</td>\n",
       "      <td>40</td>\n",
       "    </tr>\n",
       "    <tr>\n",
       "      <th>4</th>\n",
       "      <td>26.17</td>\n",
       "      <td>Yes</td>\n",
       "      <td>1.5</td>\n",
       "      <td>Female</td>\n",
       "      <td>No</td>\n",
       "      <td>No</td>\n",
       "      <td>Yes</td>\n",
       "      <td>29.01</td>\n",
       "      <td>No</td>\n",
       "      <td>1</td>\n",
       "      <td>...</td>\n",
       "      <td>Yes</td>\n",
       "      <td>No</td>\n",
       "      <td>Yes</td>\n",
       "      <td>No</td>\n",
       "      <td>8</td>\n",
       "      <td>0.0</td>\n",
       "      <td>67</td>\n",
       "      <td>36.7</td>\n",
       "      <td>8.550</td>\n",
       "      <td>81</td>\n",
       "    </tr>\n",
       "  </tbody>\n",
       "</table>\n",
       "<p>5 rows × 40 columns</p>\n",
       "</div>"
      ],
      "text/plain": [
       "     Age OwnsHouse  PhysicalActivity     Sex LivesWithPartner LivesWithKids  \\\n",
       "0  22.33       Yes               3.0  Female               No            No   \n",
       "1  28.83       Yes               0.0  Female              Yes            No   \n",
       "2  23.67       Yes               0.0  Female              Yes            No   \n",
       "3  21.17        No               0.5  Female               No            No   \n",
       "4  26.17       Yes               1.5  Female               No            No   \n",
       "\n",
       "  BornInCity    BMI CMVPositiveSerology  MetabolicScore  ...  \\\n",
       "0        Yes  20.13                  No               0  ...   \n",
       "1        Yes  21.33                 Yes               1  ...   \n",
       "2        Yes  22.18                  No               2  ...   \n",
       "3         No  18.68                  No               0  ...   \n",
       "4        Yes  29.01                  No               1  ...   \n",
       "\n",
       "   VaccineWhoopingCough  VaccineYellowFever  VaccineHepB  VaccineFlu SUBJID  \\\n",
       "0                   Yes                  No          Yes          No      2   \n",
       "1                   Yes                  No          Yes          No      3   \n",
       "2                    No                  No          Yes          No      4   \n",
       "3                    No                  No          Yes          No      5   \n",
       "4                   Yes                  No          Yes          No      8   \n",
       "\n",
       "  DepressionScore HeartRate Temperature HourOfSampling DayOfSampling  \n",
       "0             0.0        66        36.8          8.883            40  \n",
       "1             0.0        66        37.4          9.350            40  \n",
       "2             0.0        62        36.9          8.667            40  \n",
       "3             1.0        64        36.0          9.883            40  \n",
       "4             0.0        67        36.7          8.550            81  \n",
       "\n",
       "[5 rows x 40 columns]"
      ]
     },
     "execution_count": 7,
     "metadata": {},
     "output_type": "execute_result"
    }
   ],
   "source": [
    "eCRF.head()"
   ]
  },
  {
   "cell_type": "code",
   "execution_count": 9,
   "metadata": {},
   "outputs": [],
   "source": [
    "nanostring = pd.read_csv(\"data/set2/nanostring.txt\",delimiter=\"\\t\") "
   ]
  },
  {
   "cell_type": "code",
   "execution_count": 11,
   "metadata": {},
   "outputs": [
    {
     "data": {
      "text/html": [
       "<div>\n",
       "<style scoped>\n",
       "    .dataframe tbody tr th:only-of-type {\n",
       "        vertical-align: middle;\n",
       "    }\n",
       "\n",
       "    .dataframe tbody tr th {\n",
       "        vertical-align: top;\n",
       "    }\n",
       "\n",
       "    .dataframe thead th {\n",
       "        text-align: right;\n",
       "    }\n",
       "</style>\n",
       "<table border=\"1\" class=\"dataframe\">\n",
       "  <thead>\n",
       "    <tr style=\"text-align: right;\">\n",
       "      <th></th>\n",
       "      <th>SUBJID</th>\n",
       "      <th>Stimulus.Name</th>\n",
       "      <th>ABCB1</th>\n",
       "      <th>ABCF1</th>\n",
       "      <th>ABL1</th>\n",
       "      <th>ADA</th>\n",
       "      <th>AHR</th>\n",
       "      <th>AICDA</th>\n",
       "      <th>AIRE</th>\n",
       "      <th>ALAS1</th>\n",
       "      <th>...</th>\n",
       "      <th>TRAF6</th>\n",
       "      <th>TYK2</th>\n",
       "      <th>UBE2L3</th>\n",
       "      <th>VTN</th>\n",
       "      <th>XBP1</th>\n",
       "      <th>XCL1</th>\n",
       "      <th>XCR1</th>\n",
       "      <th>ZAP70</th>\n",
       "      <th>ZBTB16</th>\n",
       "      <th>ZEB1</th>\n",
       "    </tr>\n",
       "  </thead>\n",
       "  <tbody>\n",
       "    <tr>\n",
       "      <th>0</th>\n",
       "      <td>2</td>\n",
       "      <td>BCG</td>\n",
       "      <td>7.554459</td>\n",
       "      <td>9.219946</td>\n",
       "      <td>7.514606</td>\n",
       "      <td>8.353650</td>\n",
       "      <td>8.850751</td>\n",
       "      <td>4.345700</td>\n",
       "      <td>4.325194</td>\n",
       "      <td>8.247999</td>\n",
       "      <td>...</td>\n",
       "      <td>7.717017</td>\n",
       "      <td>8.286764</td>\n",
       "      <td>7.502632</td>\n",
       "      <td>4.231431</td>\n",
       "      <td>10.357064</td>\n",
       "      <td>4.874329</td>\n",
       "      <td>4.422277</td>\n",
       "      <td>9.212120</td>\n",
       "      <td>7.631819</td>\n",
       "      <td>9.283739</td>\n",
       "    </tr>\n",
       "    <tr>\n",
       "      <th>1</th>\n",
       "      <td>2</td>\n",
       "      <td>C.albicans</td>\n",
       "      <td>7.150648</td>\n",
       "      <td>8.621474</td>\n",
       "      <td>7.039367</td>\n",
       "      <td>6.137992</td>\n",
       "      <td>9.083866</td>\n",
       "      <td>5.516857</td>\n",
       "      <td>3.916763</td>\n",
       "      <td>7.996525</td>\n",
       "      <td>...</td>\n",
       "      <td>7.540214</td>\n",
       "      <td>7.413515</td>\n",
       "      <td>7.265183</td>\n",
       "      <td>4.118751</td>\n",
       "      <td>9.591399</td>\n",
       "      <td>4.661937</td>\n",
       "      <td>3.641928</td>\n",
       "      <td>8.658329</td>\n",
       "      <td>7.102924</td>\n",
       "      <td>8.880914</td>\n",
       "    </tr>\n",
       "    <tr>\n",
       "      <th>2</th>\n",
       "      <td>2</td>\n",
       "      <td>E.coli</td>\n",
       "      <td>7.735487</td>\n",
       "      <td>8.958082</td>\n",
       "      <td>7.505286</td>\n",
       "      <td>7.478745</td>\n",
       "      <td>9.038046</td>\n",
       "      <td>4.106642</td>\n",
       "      <td>4.445018</td>\n",
       "      <td>8.045067</td>\n",
       "      <td>...</td>\n",
       "      <td>8.183378</td>\n",
       "      <td>7.865317</td>\n",
       "      <td>7.617842</td>\n",
       "      <td>3.439714</td>\n",
       "      <td>10.408763</td>\n",
       "      <td>4.839841</td>\n",
       "      <td>5.751282</td>\n",
       "      <td>8.987657</td>\n",
       "      <td>7.332786</td>\n",
       "      <td>9.042492</td>\n",
       "    </tr>\n",
       "    <tr>\n",
       "      <th>3</th>\n",
       "      <td>2</td>\n",
       "      <td>Influenza</td>\n",
       "      <td>7.661653</td>\n",
       "      <td>8.287930</td>\n",
       "      <td>6.281927</td>\n",
       "      <td>6.019046</td>\n",
       "      <td>9.089454</td>\n",
       "      <td>2.403826</td>\n",
       "      <td>4.984143</td>\n",
       "      <td>8.069580</td>\n",
       "      <td>...</td>\n",
       "      <td>7.836040</td>\n",
       "      <td>7.422128</td>\n",
       "      <td>7.049543</td>\n",
       "      <td>4.354611</td>\n",
       "      <td>8.948858</td>\n",
       "      <td>5.905329</td>\n",
       "      <td>4.293494</td>\n",
       "      <td>8.485333</td>\n",
       "      <td>7.248792</td>\n",
       "      <td>8.014676</td>\n",
       "    </tr>\n",
       "    <tr>\n",
       "      <th>4</th>\n",
       "      <td>2</td>\n",
       "      <td>Null</td>\n",
       "      <td>7.646707</td>\n",
       "      <td>7.614003</td>\n",
       "      <td>6.960148</td>\n",
       "      <td>5.661178</td>\n",
       "      <td>8.943238</td>\n",
       "      <td>3.957709</td>\n",
       "      <td>3.405641</td>\n",
       "      <td>7.557269</td>\n",
       "      <td>...</td>\n",
       "      <td>7.835371</td>\n",
       "      <td>8.330710</td>\n",
       "      <td>7.092763</td>\n",
       "      <td>4.829530</td>\n",
       "      <td>8.351957</td>\n",
       "      <td>4.290509</td>\n",
       "      <td>4.452900</td>\n",
       "      <td>9.139734</td>\n",
       "      <td>7.618323</td>\n",
       "      <td>8.366321</td>\n",
       "    </tr>\n",
       "  </tbody>\n",
       "</table>\n",
       "<p>5 rows × 562 columns</p>\n",
       "</div>"
      ],
      "text/plain": [
       "   SUBJID Stimulus.Name     ABCB1     ABCF1      ABL1       ADA       AHR  \\\n",
       "0       2           BCG  7.554459  9.219946  7.514606  8.353650  8.850751   \n",
       "1       2    C.albicans  7.150648  8.621474  7.039367  6.137992  9.083866   \n",
       "2       2        E.coli  7.735487  8.958082  7.505286  7.478745  9.038046   \n",
       "3       2     Influenza  7.661653  8.287930  6.281927  6.019046  9.089454   \n",
       "4       2          Null  7.646707  7.614003  6.960148  5.661178  8.943238   \n",
       "\n",
       "      AICDA      AIRE     ALAS1  ...     TRAF6      TYK2    UBE2L3       VTN  \\\n",
       "0  4.345700  4.325194  8.247999  ...  7.717017  8.286764  7.502632  4.231431   \n",
       "1  5.516857  3.916763  7.996525  ...  7.540214  7.413515  7.265183  4.118751   \n",
       "2  4.106642  4.445018  8.045067  ...  8.183378  7.865317  7.617842  3.439714   \n",
       "3  2.403826  4.984143  8.069580  ...  7.836040  7.422128  7.049543  4.354611   \n",
       "4  3.957709  3.405641  7.557269  ...  7.835371  8.330710  7.092763  4.829530   \n",
       "\n",
       "        XBP1      XCL1      XCR1     ZAP70    ZBTB16      ZEB1  \n",
       "0  10.357064  4.874329  4.422277  9.212120  7.631819  9.283739  \n",
       "1   9.591399  4.661937  3.641928  8.658329  7.102924  8.880914  \n",
       "2  10.408763  4.839841  5.751282  8.987657  7.332786  9.042492  \n",
       "3   8.948858  5.905329  4.293494  8.485333  7.248792  8.014676  \n",
       "4   8.351957  4.290509  4.452900  9.139734  7.618323  8.366321  \n",
       "\n",
       "[5 rows x 562 columns]"
      ]
     },
     "execution_count": 11,
     "metadata": {},
     "output_type": "execute_result"
    }
   ],
   "source": [
    "nanostring.head()"
   ]
  },
  {
   "cell_type": "code",
   "execution_count": 12,
   "metadata": {},
   "outputs": [],
   "source": [
    "#Factors consider phenotype of patients:\n",
    "#Description of the phenotype: Age of patients is from 20 to 70, even distributed sex: female 417, male 399\n",
    "### Visualization\n",
    "#Box plot for Patient 2 expression level responding to different stimulus\n",
    "#\"Patient 2's expression ~ different stimuli\""
   ]
  },
  {
   "cell_type": "markdown",
   "metadata": {},
   "source": [
    "## Exploratory analysis of the stimulus effect\n",
    "In this section, we are going to explore the structure of the dataset across genes and stimulations.\n",
    "\n"
   ]
  },
  {
   "cell_type": "markdown",
   "metadata": {},
   "source": [
    "### Question 1: Perform a Principal Components Analysis on the whole dataset using the genes as variables, compute at least 30 principal components. Color the dots by stimulus in the spaces spanned by the first four dimensions. Interpret."
   ]
  },
  {
   "cell_type": "code",
   "execution_count": null,
   "metadata": {},
   "outputs": [],
   "source": []
  },
  {
   "cell_type": "code",
   "execution_count": null,
   "metadata": {},
   "outputs": [],
   "source": []
  },
  {
   "cell_type": "markdown",
   "metadata": {},
   "source": [
    "### Question 2: Extract the three genes that are the most associated with PC1 and PC2. Interpret."
   ]
  },
  {
   "cell_type": "code",
   "execution_count": null,
   "metadata": {},
   "outputs": [],
   "source": []
  },
  {
   "cell_type": "code",
   "execution_count": null,
   "metadata": {},
   "outputs": [],
   "source": []
  },
  {
   "cell_type": "code",
   "execution_count": null,
   "metadata": {},
   "outputs": [],
   "source": []
  },
  {
   "cell_type": "markdown",
   "metadata": {},
   "source": [
    "### Question 3: Perform a UMAP analysis on the whole dataset, indicate the number of nearest neighbors that was used. Plot the first two UMAP dimensions and color the dots by stimulus. Interpret."
   ]
  },
  {
   "cell_type": "code",
   "execution_count": null,
   "metadata": {},
   "outputs": [],
   "source": []
  },
  {
   "cell_type": "code",
   "execution_count": null,
   "metadata": {},
   "outputs": [],
   "source": []
  },
  {
   "cell_type": "code",
   "execution_count": null,
   "metadata": {},
   "outputs": [],
   "source": []
  },
  {
   "cell_type": "code",
   "execution_count": null,
   "metadata": {},
   "outputs": [],
   "source": []
  },
  {
   "cell_type": "markdown",
   "metadata": {},
   "source": [
    "### Question 4: Perform a k-means clustering of the samples using seven clusters."
   ]
  },
  {
   "cell_type": "code",
   "execution_count": null,
   "metadata": {},
   "outputs": [],
   "source": []
  },
  {
   "cell_type": "code",
   "execution_count": null,
   "metadata": {},
   "outputs": [],
   "source": []
  },
  {
   "cell_type": "code",
   "execution_count": null,
   "metadata": {},
   "outputs": [],
   "source": []
  },
  {
   "cell_type": "code",
   "execution_count": null,
   "metadata": {},
   "outputs": [],
   "source": []
  },
  {
   "cell_type": "markdown",
   "metadata": {},
   "source": [
    "### Question 5: Perform a k-means clustering of the samples using seven clusters, in the space spanned by the principal components carrying at least 80% of the total variance."
   ]
  },
  {
   "cell_type": "code",
   "execution_count": null,
   "metadata": {},
   "outputs": [],
   "source": []
  },
  {
   "cell_type": "code",
   "execution_count": null,
   "metadata": {},
   "outputs": [],
   "source": []
  },
  {
   "cell_type": "code",
   "execution_count": null,
   "metadata": {},
   "outputs": [],
   "source": []
  },
  {
   "cell_type": "code",
   "execution_count": null,
   "metadata": {},
   "outputs": [],
   "source": []
  },
  {
   "cell_type": "code",
   "execution_count": null,
   "metadata": {},
   "outputs": [],
   "source": []
  },
  {
   "cell_type": "code",
   "execution_count": null,
   "metadata": {},
   "outputs": [],
   "source": []
  },
  {
   "cell_type": "markdown",
   "metadata": {},
   "source": [
    "### Question 6: Perform the same clustering in the space defined spanned by the first two UMAP dimensions."
   ]
  },
  {
   "cell_type": "code",
   "execution_count": null,
   "metadata": {},
   "outputs": [],
   "source": []
  },
  {
   "cell_type": "code",
   "execution_count": null,
   "metadata": {},
   "outputs": [],
   "source": []
  },
  {
   "cell_type": "code",
   "execution_count": null,
   "metadata": {},
   "outputs": [],
   "source": []
  },
  {
   "cell_type": "code",
   "execution_count": null,
   "metadata": {},
   "outputs": [],
   "source": []
  },
  {
   "cell_type": "markdown",
   "metadata": {},
   "source": [
    "### Question 7: Analyze the clustering results. Which method would you recommend to cluster samples in order to recover the stimulus annotation?\n"
   ]
  },
  {
   "cell_type": "code",
   "execution_count": null,
   "metadata": {},
   "outputs": [],
   "source": []
  },
  {
   "cell_type": "markdown",
   "metadata": {},
   "source": [
    "Exploratory analysis within non stimulated samples\n",
    "We are going to perform an exploratory analysis of the non stimulated samples. This can be useful to better understand which variables (e.g. batches, ethnicity, sex, age, serology, …) are associated with gene expression variations and should likely be investigated and controlled for in subsequent analyses."
   ]
  },
  {
   "cell_type": "markdown",
   "metadata": {},
   "source": [
    "### Question 8: Compute a PCA of the non stimulated samples. Investigate/plot the distribution of the samples on the first six PCs with respect to phenotypes. Suggest a set of phenotypes that might be influencing the gene expression."
   ]
  },
  {
   "cell_type": "code",
   "execution_count": null,
   "metadata": {},
   "outputs": [],
   "source": []
  },
  {
   "cell_type": "code",
   "execution_count": null,
   "metadata": {},
   "outputs": [],
   "source": []
  },
  {
   "cell_type": "code",
   "execution_count": null,
   "metadata": {},
   "outputs": [],
   "source": []
  },
  {
   "cell_type": "markdown",
   "metadata": {},
   "source": [
    "### Question 9: Using all genes, cluster the non stimulated samples using the method of your choice. "
   ]
  },
  {
   "cell_type": "code",
   "execution_count": null,
   "metadata": {},
   "outputs": [],
   "source": []
  },
  {
   "cell_type": "markdown",
   "metadata": {},
   "source": [
    "Differential analysis\n",
    "The objective of this section is to perform a differential analysis to detect genes that are differentially expressed between the classes of BMI."
   ]
  },
  {
   "cell_type": "markdown",
   "metadata": {},
   "source": [
    "# Homework"
   ]
  },
  {
   "cell_type": "markdown",
   "metadata": {},
   "source": [
    "\n",
    "\n",
    "### Question 10: Check that each patient has the same number of stimulus in the expression data."
   ]
  },
  {
   "cell_type": "code",
   "execution_count": null,
   "metadata": {},
   "outputs": [],
   "source": []
  },
  {
   "cell_type": "code",
   "execution_count": null,
   "metadata": {},
   "outputs": [],
   "source": []
  },
  {
   "cell_type": "markdown",
   "metadata": {},
   "source": [
    "### Question 11: Select rows from the expression data corresponding to the “E.coli” stimulus and create a new data.frame containing patients present in both expression and clinical data. Make sure patients are similarly ordered in the two tables newly created."
   ]
  },
  {
   "cell_type": "code",
   "execution_count": null,
   "metadata": {},
   "outputs": [],
   "source": []
  },
  {
   "cell_type": "code",
   "execution_count": null,
   "metadata": {},
   "outputs": [],
   "source": []
  },
  {
   "cell_type": "markdown",
   "metadata": {},
   "source": [
    "### Question 12: Create a new variable in the clinical data.frame to categorize the BMI into three classes: low (<21), medium (>21 and <25) and high (>25). How many patients are there in each class?"
   ]
  },
  {
   "cell_type": "code",
   "execution_count": null,
   "metadata": {},
   "outputs": [],
   "source": []
  },
  {
   "cell_type": "code",
   "execution_count": null,
   "metadata": {},
   "outputs": [],
   "source": []
  },
  {
   "cell_type": "markdown",
   "metadata": {},
   "source": [
    "### Question 13: Test for the gene ABCB1 expression differences between patients of each BMI class. Using One-way ANOVA"
   ]
  },
  {
   "cell_type": "markdown",
   "metadata": {},
   "source": [
    "** If you have no idea what is one-way ANOVA, skip this question!**"
   ]
  },
  {
   "cell_type": "code",
   "execution_count": null,
   "metadata": {},
   "outputs": [],
   "source": []
  },
  {
   "cell_type": "markdown",
   "metadata": {},
   "source": [
    "### Question 14: Test for every gene of the expression dataset and save the p-value of each gene in a numeric vector as long as the number of genes tested. Draw a histogram of these p-values. How many genes have a p-value lower than 5%?"
   ]
  },
  {
   "cell_type": "code",
   "execution_count": null,
   "metadata": {},
   "outputs": [],
   "source": []
  },
  {
   "cell_type": "code",
   "execution_count": null,
   "metadata": {},
   "outputs": [],
   "source": []
  },
  {
   "cell_type": "markdown",
   "metadata": {},
   "source": [
    "### Question 15: Adjust these p-values using the Benjamini-Hochberg method and draw their histogram. How many genes are differentially expressed between the BMI classes (at a 5% threshold)?\n"
   ]
  },
  {
   "cell_type": "code",
   "execution_count": null,
   "metadata": {},
   "outputs": [],
   "source": []
  },
  {
   "cell_type": "code",
   "execution_count": null,
   "metadata": {},
   "outputs": [],
   "source": []
  },
  {
   "cell_type": "markdown",
   "metadata": {},
   "source": [
    "### Question 16: Which are the 6 most significant genes? Illustrate the gene expression differences with boxplots and scatter plots "
   ]
  },
  {
   "cell_type": "code",
   "execution_count": null,
   "metadata": {},
   "outputs": [],
   "source": []
  }
 ],
 "metadata": {
  "kernelspec": {
   "display_name": "Python 3",
   "language": "python",
   "name": "python3"
  },
  "language_info": {
   "codemirror_mode": {
    "name": "ipython",
    "version": 3
   },
   "file_extension": ".py",
   "mimetype": "text/x-python",
   "name": "python",
   "nbconvert_exporter": "python",
   "pygments_lexer": "ipython3",
   "version": "3.6.7"
  }
 },
 "nbformat": 4,
 "nbformat_minor": 2
}
