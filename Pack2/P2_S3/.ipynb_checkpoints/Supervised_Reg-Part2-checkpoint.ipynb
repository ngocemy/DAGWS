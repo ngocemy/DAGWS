{
 "cells": [
  {
   "cell_type": "markdown",
   "metadata": {},
   "source": [
    "This notebook is made for \"Data Analysis for Genomics Workshop\" (DAGWS). \n",
    "Tran Bich Ngoc CAO, ENS Paris, August 2020.\n",
    "<a rel=\"license\" href=\"https://creativecommons.org/licenses/by/2.0/\"><img alt=\"Licence Creative Commons\" style=\"border-width:0\" src=\"https://i.creativecommons.org/l/by-nc-sa/4.0/88x31.png\" /></a><br /> This work is protected by the term of <a rel=\"license\" href=\"https://creativecommons.org/licenses/by/2.0/\"> Attribution 2.0 Generic (CC BY 2.0) </a>. Please cite the source in case of re-distribution."
   ]
  },
  {
   "cell_type": "markdown",
   "metadata": {},
   "source": [
    "# Supervised Learning: Regression"
   ]
  },
  {
   "cell_type": "markdown",
   "metadata": {},
   "source": [
    "  <img src=\"fig/regression-vs-classification-in-machine-learning.png\" width=300 >"
   ]
  },
  {
   "cell_type": "markdown",
   "metadata": {},
   "source": [
    "- In your opinion, when to use Regression instead of Classification? "
   ]
  },
  {
   "cell_type": "markdown",
   "metadata": {},
   "source": [
    "In this excercise, you will build a Regressor - a statistical model, again, to predict the values of new __continuous__ data from some selected features of the dataset and its target. You will also find the features that influence most significantly to the target, in other words, having the highest variance. Unlike classification, your target is no longer categorical, but continuous.\n",
    "We will first start with Linear regression model of a very simple example.  Let's dive in!"
   ]
  },
  {
   "cell_type": "markdown",
   "metadata": {},
   "source": [
    "[*Source image: Datacamp*] \n",
    "<img src=\"fig/regress_mechan.png\" width=400>"
   ]
  },
  {
   "cell_type": "markdown",
   "metadata": {},
   "source": [
    "<img src=\"fig/lossf.png\" width=400>"
   ]
  },
  {
   "cell_type": "markdown",
   "metadata": {},
   "source": [
    "<img src=\"fig/regress_highD.png\" width=400>"
   ]
  },
  {
   "cell_type": "markdown",
   "metadata": {},
   "source": [
    "### Excercise 1: BirthWeight\n"
   ]
  },
  {
   "cell_type": "markdown",
   "metadata": {},
   "source": [
    "- I bet some of you may have seen this dataset. This is the BirthWeight dataset accompanying measurement of newborns biparietal and abdomial diameter. I was lazy to change the format of one column, which including a newline \"\\n\", thus you might not be able to read in the dataset normally. Do you know a way to skip the wrong lines?"
   ]
  },
  {
   "cell_type": "code",
   "execution_count": 35,
   "metadata": {},
   "outputs": [],
   "source": [
    "import pandas as pd \n",
    "import matplotlib.pyplot as plt\n",
    "import numpy as np"
   ]
  },
  {
   "cell_type": "code",
   "execution_count": 36,
   "metadata": {},
   "outputs": [],
   "source": [
    "# read the data\n",
    "\n",
    "# bw: birth weight - bpd: biparietal diameter - abdominal diameter - idr: ID number"
   ]
  },
  {
   "cell_type": "code",
   "execution_count": 37,
   "metadata": {},
   "outputs": [
    {
     "name": "stderr",
     "output_type": "stream",
     "text": [
      "b'Skipping line 34: expected 4 fields, saw 5\\n'\n"
     ]
    }
   ],
   "source": [
    "bw_dt = pd.read_csv(\"data/BirthWeight.csv\",header=0,delimiter=\";\",error_bad_lines=False)"
   ]
  },
  {
   "cell_type": "code",
   "execution_count": 38,
   "metadata": {},
   "outputs": [
    {
     "data": {
      "text/plain": [
       "(106, 4)"
      ]
     },
     "execution_count": 38,
     "metadata": {},
     "output_type": "execute_result"
    }
   ],
   "source": [
    "bw_dt.shape"
   ]
  },
  {
   "cell_type": "code",
   "execution_count": 39,
   "metadata": {},
   "outputs": [
    {
     "data": {
      "text/html": [
       "<div>\n",
       "<style scoped>\n",
       "    .dataframe tbody tr th:only-of-type {\n",
       "        vertical-align: middle;\n",
       "    }\n",
       "\n",
       "    .dataframe tbody tr th {\n",
       "        vertical-align: top;\n",
       "    }\n",
       "\n",
       "    .dataframe thead th {\n",
       "        text-align: right;\n",
       "    }\n",
       "</style>\n",
       "<table border=\"1\" class=\"dataframe\">\n",
       "  <thead>\n",
       "    <tr style=\"text-align: right;\">\n",
       "      <th></th>\n",
       "      <th>bw</th>\n",
       "      <th>bpd</th>\n",
       "      <th>ad</th>\n",
       "      <th>idnr</th>\n",
       "    </tr>\n",
       "  </thead>\n",
       "  <tbody>\n",
       "    <tr>\n",
       "      <th>0</th>\n",
       "      <td>2350</td>\n",
       "      <td>88</td>\n",
       "      <td>92</td>\n",
       "      <td>1</td>\n",
       "    </tr>\n",
       "    <tr>\n",
       "      <th>1</th>\n",
       "      <td>2450</td>\n",
       "      <td>91</td>\n",
       "      <td>98</td>\n",
       "      <td>2</td>\n",
       "    </tr>\n",
       "    <tr>\n",
       "      <th>2</th>\n",
       "      <td>3300</td>\n",
       "      <td>94</td>\n",
       "      <td>110</td>\n",
       "      <td>3</td>\n",
       "    </tr>\n",
       "    <tr>\n",
       "      <th>3</th>\n",
       "      <td>1800</td>\n",
       "      <td>84</td>\n",
       "      <td>89</td>\n",
       "      <td>4</td>\n",
       "    </tr>\n",
       "    <tr>\n",
       "      <th>4</th>\n",
       "      <td>2900</td>\n",
       "      <td>89</td>\n",
       "      <td>97</td>\n",
       "      <td>5</td>\n",
       "    </tr>\n",
       "  </tbody>\n",
       "</table>\n",
       "</div>"
      ],
      "text/plain": [
       "     bw  bpd   ad  idnr\n",
       "0  2350   88   92     1\n",
       "1  2450   91   98     2\n",
       "2  3300   94  110     3\n",
       "3  1800   84   89     4\n",
       "4  2900   89   97     5"
      ]
     },
     "execution_count": 39,
     "metadata": {},
     "output_type": "execute_result"
    }
   ],
   "source": [
    "bw_dt.head()"
   ]
  },
  {
   "cell_type": "markdown",
   "metadata": {},
   "source": [
    "- Next we plot the variable birth weight as a function of the abdominal diameter, compute the correlation coefficient and test its significance:"
   ]
  },
  {
   "cell_type": "code",
   "execution_count": 40,
   "metadata": {
    "scrolled": true
   },
   "outputs": [
    {
     "data": {
      "text/plain": [
       "Text(0.5,1,'Birth weight as a function of the abdominal diameter')"
      ]
     },
     "execution_count": 40,
     "metadata": {},
     "output_type": "execute_result"
    },
    {
     "data": {
      "image/png": "[encoded data removed]",
      "text/plain": [
       "<Figure size 432x288 with 1 Axes>"
      ]
     },
     "metadata": {},
     "output_type": "display_data"
    }
   ],
   "source": [
    "%matplotlib inline\n",
    "plt.scatter(bw_dt.ad,bw_dt.bw)\n",
    "plt.xlabel(\"Abdominal diameter\")\n",
    "plt.ylabel(\"Birth weight\")\n",
    "plt.title(\"Birth weight as a function of the abdominal diameter\")\n",
    "# correlation coefficient \n",
    "\n",
    "# test the significance of the correlation coefficient "
   ]
  },
  {
   "cell_type": "markdown",
   "metadata": {},
   "source": [
    "You can assess all features by pairplot from seaborn!"
   ]
  },
  {
   "cell_type": "markdown",
   "metadata": {},
   "source": [
    "- A multipanel display of pairwise scatterplot may be obtained\n",
    "\n"
   ]
  },
  {
   "cell_type": "code",
   "execution_count": 41,
   "metadata": {},
   "outputs": [],
   "source": [
    "# pairwise plot\n"
   ]
  },
  {
   "cell_type": "code",
   "execution_count": 42,
   "metadata": {},
   "outputs": [
    {
     "data": {
      "text/plain": [
       "<seaborn.axisgrid.PairGrid at 0x12a7feeb8>"
      ]
     },
     "execution_count": 42,
     "metadata": {},
     "output_type": "execute_result"
    },
    {
     "data": {
      "image/png": "[encoded data removed]",
      "text/plain": [
       "<Figure size 540x540 with 12 Axes>"
      ]
     },
     "metadata": {},
     "output_type": "display_data"
    }
   ],
   "source": [
    "import seaborn as sns\n",
    "sns.pairplot(bw_dt.iloc[:,0:3])"
   ]
  },
  {
   "cell_type": "markdown",
   "metadata": {},
   "source": [
    "    Seem like `bw` and `ad` is the most correlated pair!"
   ]
  },
  {
   "cell_type": "markdown",
   "metadata": {},
   "source": [
    "- Build a correlation matrix "
   ]
  },
  {
   "cell_type": "code",
   "execution_count": 43,
   "metadata": {},
   "outputs": [
    {
     "data": {
      "text/html": [
       "<div>\n",
       "<style scoped>\n",
       "    .dataframe tbody tr th:only-of-type {\n",
       "        vertical-align: middle;\n",
       "    }\n",
       "\n",
       "    .dataframe tbody tr th {\n",
       "        vertical-align: top;\n",
       "    }\n",
       "\n",
       "    .dataframe thead th {\n",
       "        text-align: right;\n",
       "    }\n",
       "</style>\n",
       "<table border=\"1\" class=\"dataframe\">\n",
       "  <thead>\n",
       "    <tr style=\"text-align: right;\">\n",
       "      <th></th>\n",
       "      <th>bw</th>\n",
       "      <th>bpd</th>\n",
       "      <th>ad</th>\n",
       "      <th>idnr</th>\n",
       "    </tr>\n",
       "  </thead>\n",
       "  <tbody>\n",
       "    <tr>\n",
       "      <th>bw</th>\n",
       "      <td>1.000000</td>\n",
       "      <td>0.797616</td>\n",
       "      <td>0.873200</td>\n",
       "      <td>-0.188255</td>\n",
       "    </tr>\n",
       "    <tr>\n",
       "      <th>bpd</th>\n",
       "      <td>0.797616</td>\n",
       "      <td>1.000000</td>\n",
       "      <td>0.756499</td>\n",
       "      <td>-0.240256</td>\n",
       "    </tr>\n",
       "    <tr>\n",
       "      <th>ad</th>\n",
       "      <td>0.873200</td>\n",
       "      <td>0.756499</td>\n",
       "      <td>1.000000</td>\n",
       "      <td>-0.115490</td>\n",
       "    </tr>\n",
       "    <tr>\n",
       "      <th>idnr</th>\n",
       "      <td>-0.188255</td>\n",
       "      <td>-0.240256</td>\n",
       "      <td>-0.115490</td>\n",
       "      <td>1.000000</td>\n",
       "    </tr>\n",
       "  </tbody>\n",
       "</table>\n",
       "</div>"
      ],
      "text/plain": [
       "            bw       bpd        ad      idnr\n",
       "bw    1.000000  0.797616  0.873200 -0.188255\n",
       "bpd   0.797616  1.000000  0.756499 -0.240256\n",
       "ad    0.873200  0.756499  1.000000 -0.115490\n",
       "idnr -0.188255 -0.240256 -0.115490  1.000000"
      ]
     },
     "execution_count": 43,
     "metadata": {},
     "output_type": "execute_result"
    }
   ],
   "source": [
    "# correlation matrix\n",
    "cof = bw_dt.iloc[:,0:4].corr(method='pearson')\n",
    "cof\n"
   ]
  },
  {
   "cell_type": "markdown",
   "metadata": {},
   "source": [
    "_- Here we use implicitly method \"Pearson\" with pandas dataframe method corr(). Try yourself another methods (Kendall, Spearman...)_ \n",
    "Which method performs the best?"
   ]
  },
  {
   "cell_type": "code",
   "execution_count": null,
   "metadata": {},
   "outputs": [],
   "source": []
  },
  {
   "cell_type": "markdown",
   "metadata": {},
   "source": [
    "- Plot correlation matrix\n"
   ]
  },
  {
   "cell_type": "code",
   "execution_count": 44,
   "metadata": {},
   "outputs": [
    {
     "data": {
      "image/png": "[encoded data removed]",
      "text/plain": [
       "<Figure size 288x288 with 2 Axes>"
      ]
     },
     "metadata": {},
     "output_type": "display_data"
    }
   ],
   "source": [
    "plt.matshow(cof)\n",
    "plt.xticks(range(len(bw_dt.columns)), bw_dt.columns)\n",
    "plt.yticks(range(len(bw_dt.columns)), bw_dt.columns)\n",
    "plt.colorbar()\n",
    "plt.show()"
   ]
  },
  {
   "cell_type": "markdown",
   "metadata": {},
   "source": [
    "- We then perform a linear regression on these variables:\n",
    "\n"
   ]
  },
  {
   "cell_type": "code",
   "execution_count": 45,
   "metadata": {},
   "outputs": [],
   "source": [
    "# linear model Y ~ X\n",
    "\n",
    "\n",
    "# summary of the regression\n",
    "\n",
    "\n",
    "# extract the adjusted-R2"
   ]
  },
  {
   "cell_type": "markdown",
   "metadata": {},
   "source": [
    "- Import LinearRegression from sklearn.linear_model\n",
    "- Instantiate the regressor named `reg`\n",
    "- Create the prediction space with Numpy np.linspace() method with a range from the maximum and minimum of `brcc_df.`\n",
    "NOTE: try to reshape the array, reshape the arrays by using the .reshape() method and passing in -1 and 1."
   ]
  },
  {
   "cell_type": "markdown",
   "metadata": {},
   "source": [
    "When you call fit() on a linear regression model in sklearn, it actually calculate OLS under the hood! In short, we are trying to specify a(i) and b parameters in our model by minimizing the lost (cost) function.\n"
   ]
  },
  {
   "cell_type": "code",
   "execution_count": 46,
   "metadata": {},
   "outputs": [],
   "source": [
    "# Import LinearRegression\n",
    "from sklearn.linear_model import LinearRegression"
   ]
  },
  {
   "cell_type": "code",
   "execution_count": 47,
   "metadata": {},
   "outputs": [],
   "source": [
    "# Create the regressor: reg\n",
    "reg = LinearRegression()"
   ]
  },
  {
   "cell_type": "code",
   "execution_count": 48,
   "metadata": {},
   "outputs": [],
   "source": [
    "# Reshape your data\n",
    "bw = bw_dt.bw.values\n",
    "\n",
    "bw = bw.reshape(-1,1)\n",
    "ad = bw_dt.ad.values\n",
    "ad = ad.reshape(-1,1)"
   ]
  },
  {
   "cell_type": "code",
   "execution_count": 49,
   "metadata": {},
   "outputs": [],
   "source": [
    "# It is the same as:\n",
    "ad = bw_dt[['ad']]\n",
    "bw = bw_dt[[\"bw\"]]"
   ]
  },
  {
   "cell_type": "code",
   "execution_count": 50,
   "metadata": {},
   "outputs": [
    {
     "data": {
      "text/plain": [
       "(106, 1)"
      ]
     },
     "execution_count": 50,
     "metadata": {},
     "output_type": "execute_result"
    }
   ],
   "source": [
    "ad.shape"
   ]
  },
  {
   "cell_type": "code",
   "execution_count": 51,
   "metadata": {},
   "outputs": [
    {
     "name": "stderr",
     "output_type": "stream",
     "text": [
      "/Users/caotranbichngoc/miniconda3/lib/python3.6/site-packages/sklearn/linear_model/_base.py:547: RuntimeWarning: internal gelsd driver lwork query error, required iwork dimension not returned. This is likely the result of LAPACK bug 0038, fixed in LAPACK 3.2.2 (released July 21, 2010). Falling back to 'gelss' driver.\n",
      "  linalg.lstsq(X, y)\n"
     ]
    },
    {
     "data": {
      "text/plain": [
       "LinearRegression()"
      ]
     },
     "execution_count": 51,
     "metadata": {},
     "output_type": "execute_result"
    }
   ],
   "source": [
    "# Fit the model to the data\n",
    "reg.fit(ad, bw)"
   ]
  },
  {
   "cell_type": "code",
   "execution_count": 52,
   "metadata": {},
   "outputs": [],
   "source": [
    "# Compute predictions over the prediction space: y_pred\n",
    "pred = reg.predict(ad)"
   ]
  },
  {
   "cell_type": "code",
   "execution_count": 53,
   "metadata": {
    "scrolled": true
   },
   "outputs": [
    {
     "name": "stdout",
     "output_type": "stream",
     "text": [
      "R squared score: 0.7624787348832314\n"
     ]
    }
   ],
   "source": [
    "# Print R^2 \n",
    "print(\"R squared score: {}\" .format(reg.score(ad,bw)))\n"
   ]
  },
  {
   "cell_type": "code",
   "execution_count": 54,
   "metadata": {
    "scrolled": true
   },
   "outputs": [
    {
     "data": {
      "image/png": "[encoded data removed]",
      "text/plain": [
       "<Figure size 432x288 with 1 Axes>"
      ]
     },
     "metadata": {},
     "output_type": "display_data"
    }
   ],
   "source": [
    "%matplotlib inline\n",
    "plt.scatter(ad,bw)\n",
    "# Create the prediction space to draw the line as matplotlib requires the limits for the line\n",
    "eq_space_X = np.linspace(min(ad.values), max(ad.values), 106).flatten()\n",
    "eq_space_y = reg.predict(eq_space_X[:, None])\n",
    "plt.plot(eq_space_X, eq_space_y, color='black', linewidth=3)\n",
    "plt.xlabel(\"Abdominal diameter in cm\")\n",
    "plt.ylabel(\"Birth weight in gram\")\n",
    "plt.show()"
   ]
  },
  {
   "cell_type": "markdown",
   "metadata": {},
   "source": [
    "#### What is R-squared?"
   ]
  },
  {
   "cell_type": "markdown",
   "metadata": {},
   "source": [
    "- so called **coefficient of determination**"
   ]
  },
  {
   "cell_type": "markdown",
   "metadata": {},
   "source": [
    "[Revision from Khan Academy](https://www.khanacademy.org/math/ap-statistics/bivariate-data-ap/assessing-fit-least-squares-regression/v/r-squared-or-coefficient-of-determination)"
   ]
  },
  {
   "cell_type": "markdown",
   "metadata": {},
   "source": [
    "`the proportion of the variance in the dependent variable that is predictable from the independent variable`"
   ]
  },
  {
   "cell_type": "markdown",
   "metadata": {},
   "source": [
    "<img src=\"fig/r2_2.png\" width=200>"
   ]
  },
  {
   "cell_type": "markdown",
   "metadata": {},
   "source": [
    "<img src=\"fig/r2_1.png\" width=200>"
   ]
  },
  {
   "cell_type": "markdown",
   "metadata": {},
   "source": [
    "<img src=\"fig/r2.png\" width=200>"
   ]
  },
  {
   "cell_type": "markdown",
   "metadata": {},
   "source": [
    "- R-squared tells us what percent of the prediction error in the y variable is eliminated when we use least-squares regression on the x variable."
   ]
  },
  {
   "cell_type": "markdown",
   "metadata": {},
   "source": [
    "Another metric is RMSE: Root mean squared error\n",
    "- calculate the RMSE, we want to see how much error we get from the \"real\" y (bw - birthweight) and the predicted y. "
   ]
  },
  {
   "cell_type": "code",
   "execution_count": 55,
   "metadata": {},
   "outputs": [
    {
     "name": "stdout",
     "output_type": "stream",
     "text": [
      "Root Mean Squared Error: 0.34kg\n"
     ]
    }
   ],
   "source": [
    "from sklearn.metrics import mean_squared_error\n",
    "rmse = np.sqrt(mean_squared_error(bw,pred))\n",
    "print(f\"Root Mean Squared Error: {rmse / 1000:.2f}kg\")"
   ]
  },
  {
   "cell_type": "markdown",
   "metadata": {},
   "source": [
    "Thus we see our model predicts wrong birthweight at an error of 0.34kg. Not too bad ^^"
   ]
  },
  {
   "cell_type": "markdown",
   "metadata": {},
   "source": [
    "- You just made prediction of birthweight from addominal diameter and assess the metrics for you model. Great work!\n",
    "Now, we will try using multiple predictors :) Moreover, we will apply what we learnt yesterday, splitting data into train and test set! In the next session! :)"
   ]
  },
  {
   "cell_type": "markdown",
   "metadata": {},
   "source": [
    "### Additional Reading:\n"
   ]
  },
  {
   "cell_type": "markdown",
   "metadata": {},
   "source": [
    "- https://pandas.pydata.org/pandas-docs/stable/reference/api/pandas.DataFrame.corr.html \n",
    "- https://scikit-learn.org/stable/modules/generated/sklearn.linear_model.LinearRegression.html\n",
    "- https://www.khanacademy.org/math/ap-statistics/bivariate-data-ap/assessing-fit-least-squares-regression/a/r-squared-intuition "
   ]
  },
  {
   "cell_type": "markdown",
   "metadata": {},
   "source": [
    "# Session 3"
   ]
  },
  {
   "cell_type": "markdown",
   "metadata": {},
   "source": [
    "## Train test split"
   ]
  },
  {
   "cell_type": "markdown",
   "metadata": {},
   "source": [
    "#### Excercise 2: A microarray meta-dataset of non-small cell lung cancer"
   ]
  },
  {
   "cell_type": "markdown",
   "metadata": {},
   "source": [
    "Dataset was obtained from [EBI European Bioinformatics Institute](https://www.ebi.ac.uk/arrayexpress/experiments/E-MTAB-6043/?full=true&s_sortby=col_3&s_sortorder=ascending&s_page=19&s_pagesize=25)"
   ]
  },
  {
   "cell_type": "code",
   "execution_count": 2,
   "metadata": {},
   "outputs": [],
   "source": [
    "# Read in the dataset by Pandas"
   ]
  },
  {
   "cell_type": "code",
   "execution_count": 3,
   "metadata": {},
   "outputs": [],
   "source": [
    "import pandas as pd "
   ]
  },
  {
   "cell_type": "code",
   "execution_count": 4,
   "metadata": {},
   "outputs": [],
   "source": [
    "data = pd.read_csv(\"data/Combat_filtered_exprs.txt\",delimiter=\"\\t\")"
   ]
  },
  {
   "cell_type": "code",
   "execution_count": 7,
   "metadata": {
    "scrolled": true
   },
   "outputs": [
    {
     "data": {
      "text/html": [
       "<div>\n",
       "<style scoped>\n",
       "    .dataframe tbody tr th:only-of-type {\n",
       "        vertical-align: middle;\n",
       "    }\n",
       "\n",
       "    .dataframe tbody tr th {\n",
       "        vertical-align: top;\n",
       "    }\n",
       "\n",
       "    .dataframe thead th {\n",
       "        text-align: right;\n",
       "    }\n",
       "</style>\n",
       "<table border=\"1\" class=\"dataframe\">\n",
       "  <thead>\n",
       "    <tr style=\"text-align: right;\">\n",
       "      <th></th>\n",
       "      <th>GSM494556</th>\n",
       "      <th>GSM494557</th>\n",
       "      <th>GSM494558</th>\n",
       "      <th>GSM494559</th>\n",
       "      <th>GSM494560</th>\n",
       "      <th>GSM494561</th>\n",
       "      <th>GSM494562</th>\n",
       "      <th>GSM494563</th>\n",
       "      <th>GSM494564</th>\n",
       "      <th>GSM494565</th>\n",
       "      <th>...</th>\n",
       "      <th>GSM259424</th>\n",
       "      <th>GSM259425</th>\n",
       "      <th>GSM259427</th>\n",
       "      <th>GSM260378</th>\n",
       "      <th>GSM260379</th>\n",
       "      <th>GSM264313</th>\n",
       "      <th>GSM264314</th>\n",
       "      <th>GSM264315</th>\n",
       "      <th>GSM264316</th>\n",
       "      <th>GSM264317</th>\n",
       "    </tr>\n",
       "  </thead>\n",
       "  <tbody>\n",
       "    <tr>\n",
       "      <th>A1BG</th>\n",
       "      <td>5.234802</td>\n",
       "      <td>5.069035</td>\n",
       "      <td>5.514972</td>\n",
       "      <td>6.871695</td>\n",
       "      <td>6.761781</td>\n",
       "      <td>6.469957</td>\n",
       "      <td>5.136920</td>\n",
       "      <td>6.624224</td>\n",
       "      <td>6.448347</td>\n",
       "      <td>5.912488</td>\n",
       "      <td>...</td>\n",
       "      <td>6.071715</td>\n",
       "      <td>6.448654</td>\n",
       "      <td>5.996287</td>\n",
       "      <td>5.572166</td>\n",
       "      <td>6.361954</td>\n",
       "      <td>5.477867</td>\n",
       "      <td>5.377008</td>\n",
       "      <td>6.620990</td>\n",
       "      <td>5.286392</td>\n",
       "      <td>5.575501</td>\n",
       "    </tr>\n",
       "    <tr>\n",
       "      <th>A2M</th>\n",
       "      <td>11.922797</td>\n",
       "      <td>11.146006</td>\n",
       "      <td>12.378934</td>\n",
       "      <td>11.853862</td>\n",
       "      <td>11.200515</td>\n",
       "      <td>12.334154</td>\n",
       "      <td>10.023953</td>\n",
       "      <td>10.054993</td>\n",
       "      <td>11.761122</td>\n",
       "      <td>10.673644</td>\n",
       "      <td>...</td>\n",
       "      <td>13.057279</td>\n",
       "      <td>10.054903</td>\n",
       "      <td>12.762107</td>\n",
       "      <td>12.216075</td>\n",
       "      <td>12.628827</td>\n",
       "      <td>12.328099</td>\n",
       "      <td>12.930627</td>\n",
       "      <td>11.940680</td>\n",
       "      <td>12.125840</td>\n",
       "      <td>12.978447</td>\n",
       "    </tr>\n",
       "    <tr>\n",
       "      <th>A2M-AS1</th>\n",
       "      <td>5.031032</td>\n",
       "      <td>4.737330</td>\n",
       "      <td>6.990395</td>\n",
       "      <td>4.589314</td>\n",
       "      <td>5.001184</td>\n",
       "      <td>5.202235</td>\n",
       "      <td>4.240061</td>\n",
       "      <td>5.124648</td>\n",
       "      <td>5.904889</td>\n",
       "      <td>5.284042</td>\n",
       "      <td>...</td>\n",
       "      <td>5.068981</td>\n",
       "      <td>5.196625</td>\n",
       "      <td>6.603280</td>\n",
       "      <td>4.449814</td>\n",
       "      <td>5.033722</td>\n",
       "      <td>4.945388</td>\n",
       "      <td>5.334643</td>\n",
       "      <td>4.437407</td>\n",
       "      <td>5.216904</td>\n",
       "      <td>5.636242</td>\n",
       "    </tr>\n",
       "    <tr>\n",
       "      <th>AACS</th>\n",
       "      <td>9.141089</td>\n",
       "      <td>8.926558</td>\n",
       "      <td>7.268946</td>\n",
       "      <td>8.874169</td>\n",
       "      <td>9.027746</td>\n",
       "      <td>7.880838</td>\n",
       "      <td>8.201494</td>\n",
       "      <td>9.106410</td>\n",
       "      <td>8.296303</td>\n",
       "      <td>9.245787</td>\n",
       "      <td>...</td>\n",
       "      <td>7.687831</td>\n",
       "      <td>6.826333</td>\n",
       "      <td>7.771100</td>\n",
       "      <td>8.208830</td>\n",
       "      <td>7.486710</td>\n",
       "      <td>8.940618</td>\n",
       "      <td>8.073093</td>\n",
       "      <td>7.866122</td>\n",
       "      <td>9.331065</td>\n",
       "      <td>7.486466</td>\n",
       "    </tr>\n",
       "    <tr>\n",
       "      <th>AADAC</th>\n",
       "      <td>9.934807</td>\n",
       "      <td>4.419542</td>\n",
       "      <td>4.253987</td>\n",
       "      <td>5.911853</td>\n",
       "      <td>5.356248</td>\n",
       "      <td>7.819313</td>\n",
       "      <td>3.941931</td>\n",
       "      <td>4.928721</td>\n",
       "      <td>7.055602</td>\n",
       "      <td>3.830511</td>\n",
       "      <td>...</td>\n",
       "      <td>5.217805</td>\n",
       "      <td>4.800766</td>\n",
       "      <td>5.159710</td>\n",
       "      <td>8.001606</td>\n",
       "      <td>5.882841</td>\n",
       "      <td>6.083279</td>\n",
       "      <td>7.144566</td>\n",
       "      <td>4.590773</td>\n",
       "      <td>7.195287</td>\n",
       "      <td>5.515554</td>\n",
       "    </tr>\n",
       "  </tbody>\n",
       "</table>\n",
       "<p>5 rows × 1118 columns</p>\n",
       "</div>"
      ],
      "text/plain": [
       "         GSM494556  GSM494557  GSM494558  GSM494559  GSM494560  GSM494561  \\\n",
       "A1BG      5.234802   5.069035   5.514972   6.871695   6.761781   6.469957   \n",
       "A2M      11.922797  11.146006  12.378934  11.853862  11.200515  12.334154   \n",
       "A2M-AS1   5.031032   4.737330   6.990395   4.589314   5.001184   5.202235   \n",
       "AACS      9.141089   8.926558   7.268946   8.874169   9.027746   7.880838   \n",
       "AADAC     9.934807   4.419542   4.253987   5.911853   5.356248   7.819313   \n",
       "\n",
       "         GSM494562  GSM494563  GSM494564  GSM494565  ...  GSM259424  \\\n",
       "A1BG      5.136920   6.624224   6.448347   5.912488  ...   6.071715   \n",
       "A2M      10.023953  10.054993  11.761122  10.673644  ...  13.057279   \n",
       "A2M-AS1   4.240061   5.124648   5.904889   5.284042  ...   5.068981   \n",
       "AACS      8.201494   9.106410   8.296303   9.245787  ...   7.687831   \n",
       "AADAC     3.941931   4.928721   7.055602   3.830511  ...   5.217805   \n",
       "\n",
       "         GSM259425  GSM259427  GSM260378  GSM260379  GSM264313  GSM264314  \\\n",
       "A1BG      6.448654   5.996287   5.572166   6.361954   5.477867   5.377008   \n",
       "A2M      10.054903  12.762107  12.216075  12.628827  12.328099  12.930627   \n",
       "A2M-AS1   5.196625   6.603280   4.449814   5.033722   4.945388   5.334643   \n",
       "AACS      6.826333   7.771100   8.208830   7.486710   8.940618   8.073093   \n",
       "AADAC     4.800766   5.159710   8.001606   5.882841   6.083279   7.144566   \n",
       "\n",
       "         GSM264315  GSM264316  GSM264317  \n",
       "A1BG      6.620990   5.286392   5.575501  \n",
       "A2M      11.940680  12.125840  12.978447  \n",
       "A2M-AS1   4.437407   5.216904   5.636242  \n",
       "AACS      7.866122   9.331065   7.486466  \n",
       "AADAC     4.590773   7.195287   5.515554  \n",
       "\n",
       "[5 rows x 1118 columns]"
      ]
     },
     "execution_count": 7,
     "metadata": {},
     "output_type": "execute_result"
    }
   ],
   "source": [
    "data.head()"
   ]
  },
  {
   "cell_type": "code",
   "execution_count": 8,
   "metadata": {},
   "outputs": [
    {
     "data": {
      "text/plain": [
       "(10077, 1118)"
      ]
     },
     "execution_count": 8,
     "metadata": {},
     "output_type": "execute_result"
    }
   ],
   "source": [
    "data.shape"
   ]
  },
  {
   "cell_type": "code",
   "execution_count": 60,
   "metadata": {},
   "outputs": [],
   "source": [
    "# To have genes as columns and samples in rows, use .transpose() method"
   ]
  },
  {
   "cell_type": "code",
   "execution_count": 61,
   "metadata": {},
   "outputs": [],
   "source": [
    "data = data.transpose()"
   ]
  },
  {
   "cell_type": "code",
   "execution_count": 62,
   "metadata": {
    "scrolled": true
   },
   "outputs": [
    {
     "data": {
      "text/html": [
       "<div>\n",
       "<style scoped>\n",
       "    .dataframe tbody tr th:only-of-type {\n",
       "        vertical-align: middle;\n",
       "    }\n",
       "\n",
       "    .dataframe tbody tr th {\n",
       "        vertical-align: top;\n",
       "    }\n",
       "\n",
       "    .dataframe thead th {\n",
       "        text-align: right;\n",
       "    }\n",
       "</style>\n",
       "<table border=\"1\" class=\"dataframe\">\n",
       "  <thead>\n",
       "    <tr style=\"text-align: right;\">\n",
       "      <th></th>\n",
       "      <th>A1BG</th>\n",
       "      <th>A2M</th>\n",
       "      <th>A2M-AS1</th>\n",
       "      <th>AACS</th>\n",
       "      <th>AADAC</th>\n",
       "      <th>AADACP1</th>\n",
       "      <th>AADAT</th>\n",
       "      <th>AAED1</th>\n",
       "      <th>AAGAB</th>\n",
       "      <th>AAK1</th>\n",
       "      <th>...</th>\n",
       "      <th>ZW10</th>\n",
       "      <th>ZWILCH</th>\n",
       "      <th>ZWINT</th>\n",
       "      <th>ZXDA</th>\n",
       "      <th>ZXDB</th>\n",
       "      <th>ZYG11A</th>\n",
       "      <th>ZYG11B</th>\n",
       "      <th>ZYX</th>\n",
       "      <th>ZZEF1</th>\n",
       "      <th>ZZZ3</th>\n",
       "    </tr>\n",
       "  </thead>\n",
       "  <tbody>\n",
       "    <tr>\n",
       "      <th>GSM494556</th>\n",
       "      <td>5.234802</td>\n",
       "      <td>11.922797</td>\n",
       "      <td>5.031032</td>\n",
       "      <td>9.141089</td>\n",
       "      <td>9.934807</td>\n",
       "      <td>6.868094</td>\n",
       "      <td>5.038721</td>\n",
       "      <td>6.845863</td>\n",
       "      <td>7.877033</td>\n",
       "      <td>9.201101</td>\n",
       "      <td>...</td>\n",
       "      <td>7.149422</td>\n",
       "      <td>7.737312</td>\n",
       "      <td>8.386004</td>\n",
       "      <td>5.994052</td>\n",
       "      <td>7.685643</td>\n",
       "      <td>4.546110</td>\n",
       "      <td>8.870484</td>\n",
       "      <td>7.938569</td>\n",
       "      <td>7.596789</td>\n",
       "      <td>8.049103</td>\n",
       "    </tr>\n",
       "    <tr>\n",
       "      <th>GSM494557</th>\n",
       "      <td>5.069035</td>\n",
       "      <td>11.146006</td>\n",
       "      <td>4.737330</td>\n",
       "      <td>8.926558</td>\n",
       "      <td>4.419542</td>\n",
       "      <td>3.276470</td>\n",
       "      <td>7.517926</td>\n",
       "      <td>6.945466</td>\n",
       "      <td>7.387878</td>\n",
       "      <td>9.279903</td>\n",
       "      <td>...</td>\n",
       "      <td>7.307666</td>\n",
       "      <td>7.693829</td>\n",
       "      <td>9.986055</td>\n",
       "      <td>5.808656</td>\n",
       "      <td>5.968874</td>\n",
       "      <td>4.979624</td>\n",
       "      <td>9.177783</td>\n",
       "      <td>7.976926</td>\n",
       "      <td>7.044507</td>\n",
       "      <td>8.192161</td>\n",
       "    </tr>\n",
       "    <tr>\n",
       "      <th>GSM494558</th>\n",
       "      <td>5.514972</td>\n",
       "      <td>12.378934</td>\n",
       "      <td>6.990395</td>\n",
       "      <td>7.268946</td>\n",
       "      <td>4.253987</td>\n",
       "      <td>2.978153</td>\n",
       "      <td>6.286073</td>\n",
       "      <td>7.201963</td>\n",
       "      <td>7.125318</td>\n",
       "      <td>10.170862</td>\n",
       "      <td>...</td>\n",
       "      <td>6.886556</td>\n",
       "      <td>7.927103</td>\n",
       "      <td>8.124558</td>\n",
       "      <td>5.526909</td>\n",
       "      <td>6.000892</td>\n",
       "      <td>4.951939</td>\n",
       "      <td>8.613027</td>\n",
       "      <td>8.642108</td>\n",
       "      <td>7.747791</td>\n",
       "      <td>7.947040</td>\n",
       "    </tr>\n",
       "    <tr>\n",
       "      <th>GSM494559</th>\n",
       "      <td>6.871695</td>\n",
       "      <td>11.853862</td>\n",
       "      <td>4.589314</td>\n",
       "      <td>8.874169</td>\n",
       "      <td>5.911853</td>\n",
       "      <td>4.412516</td>\n",
       "      <td>6.304975</td>\n",
       "      <td>7.731857</td>\n",
       "      <td>7.300380</td>\n",
       "      <td>8.649045</td>\n",
       "      <td>...</td>\n",
       "      <td>7.939107</td>\n",
       "      <td>8.589020</td>\n",
       "      <td>9.673297</td>\n",
       "      <td>6.190925</td>\n",
       "      <td>6.736635</td>\n",
       "      <td>4.765782</td>\n",
       "      <td>9.643763</td>\n",
       "      <td>7.295604</td>\n",
       "      <td>7.839339</td>\n",
       "      <td>8.377581</td>\n",
       "    </tr>\n",
       "    <tr>\n",
       "      <th>GSM494560</th>\n",
       "      <td>6.761781</td>\n",
       "      <td>11.200515</td>\n",
       "      <td>5.001184</td>\n",
       "      <td>9.027746</td>\n",
       "      <td>5.356248</td>\n",
       "      <td>3.515208</td>\n",
       "      <td>5.545497</td>\n",
       "      <td>7.552539</td>\n",
       "      <td>7.309306</td>\n",
       "      <td>9.229319</td>\n",
       "      <td>...</td>\n",
       "      <td>7.833734</td>\n",
       "      <td>8.689572</td>\n",
       "      <td>10.304345</td>\n",
       "      <td>6.090843</td>\n",
       "      <td>6.703918</td>\n",
       "      <td>5.821131</td>\n",
       "      <td>9.187349</td>\n",
       "      <td>7.557380</td>\n",
       "      <td>7.320086</td>\n",
       "      <td>8.827688</td>\n",
       "    </tr>\n",
       "  </tbody>\n",
       "</table>\n",
       "<p>5 rows × 10077 columns</p>\n",
       "</div>"
      ],
      "text/plain": [
       "               A1BG        A2M   A2M-AS1      AACS     AADAC   AADACP1  \\\n",
       "GSM494556  5.234802  11.922797  5.031032  9.141089  9.934807  6.868094   \n",
       "GSM494557  5.069035  11.146006  4.737330  8.926558  4.419542  3.276470   \n",
       "GSM494558  5.514972  12.378934  6.990395  7.268946  4.253987  2.978153   \n",
       "GSM494559  6.871695  11.853862  4.589314  8.874169  5.911853  4.412516   \n",
       "GSM494560  6.761781  11.200515  5.001184  9.027746  5.356248  3.515208   \n",
       "\n",
       "              AADAT     AAED1     AAGAB       AAK1  ...      ZW10    ZWILCH  \\\n",
       "GSM494556  5.038721  6.845863  7.877033   9.201101  ...  7.149422  7.737312   \n",
       "GSM494557  7.517926  6.945466  7.387878   9.279903  ...  7.307666  7.693829   \n",
       "GSM494558  6.286073  7.201963  7.125318  10.170862  ...  6.886556  7.927103   \n",
       "GSM494559  6.304975  7.731857  7.300380   8.649045  ...  7.939107  8.589020   \n",
       "GSM494560  5.545497  7.552539  7.309306   9.229319  ...  7.833734  8.689572   \n",
       "\n",
       "               ZWINT      ZXDA      ZXDB    ZYG11A    ZYG11B       ZYX  \\\n",
       "GSM494556   8.386004  5.994052  7.685643  4.546110  8.870484  7.938569   \n",
       "GSM494557   9.986055  5.808656  5.968874  4.979624  9.177783  7.976926   \n",
       "GSM494558   8.124558  5.526909  6.000892  4.951939  8.613027  8.642108   \n",
       "GSM494559   9.673297  6.190925  6.736635  4.765782  9.643763  7.295604   \n",
       "GSM494560  10.304345  6.090843  6.703918  5.821131  9.187349  7.557380   \n",
       "\n",
       "              ZZEF1      ZZZ3  \n",
       "GSM494556  7.596789  8.049103  \n",
       "GSM494557  7.044507  8.192161  \n",
       "GSM494558  7.747791  7.947040  \n",
       "GSM494559  7.839339  8.377581  \n",
       "GSM494560  7.320086  8.827688  \n",
       "\n",
       "[5 rows x 10077 columns]"
      ]
     },
     "execution_count": 62,
     "metadata": {},
     "output_type": "execute_result"
    }
   ],
   "source": [
    "data.head()"
   ]
  },
  {
   "cell_type": "code",
   "execution_count": 63,
   "metadata": {},
   "outputs": [],
   "source": [
    "# To sort samples by their names (index), use sort_index()"
   ]
  },
  {
   "cell_type": "code",
   "execution_count": 65,
   "metadata": {
    "scrolled": true
   },
   "outputs": [
    {
     "data": {
      "text/html": [
       "<div>\n",
       "<style scoped>\n",
       "    .dataframe tbody tr th:only-of-type {\n",
       "        vertical-align: middle;\n",
       "    }\n",
       "\n",
       "    .dataframe tbody tr th {\n",
       "        vertical-align: top;\n",
       "    }\n",
       "\n",
       "    .dataframe thead th {\n",
       "        text-align: right;\n",
       "    }\n",
       "</style>\n",
       "<table border=\"1\" class=\"dataframe\">\n",
       "  <thead>\n",
       "    <tr style=\"text-align: right;\">\n",
       "      <th></th>\n",
       "      <th>A1BG</th>\n",
       "      <th>A2M</th>\n",
       "      <th>A2M-AS1</th>\n",
       "      <th>AACS</th>\n",
       "      <th>AADAC</th>\n",
       "      <th>AADACP1</th>\n",
       "      <th>AADAT</th>\n",
       "      <th>AAED1</th>\n",
       "      <th>AAGAB</th>\n",
       "      <th>AAK1</th>\n",
       "      <th>...</th>\n",
       "      <th>ZW10</th>\n",
       "      <th>ZWILCH</th>\n",
       "      <th>ZWINT</th>\n",
       "      <th>ZXDA</th>\n",
       "      <th>ZXDB</th>\n",
       "      <th>ZYG11A</th>\n",
       "      <th>ZYG11B</th>\n",
       "      <th>ZYX</th>\n",
       "      <th>ZZEF1</th>\n",
       "      <th>ZZZ3</th>\n",
       "    </tr>\n",
       "  </thead>\n",
       "  <tbody>\n",
       "    <tr>\n",
       "      <th>GSM494556</th>\n",
       "      <td>5.234802</td>\n",
       "      <td>11.922797</td>\n",
       "      <td>5.031032</td>\n",
       "      <td>9.141089</td>\n",
       "      <td>9.934807</td>\n",
       "      <td>6.868094</td>\n",
       "      <td>5.038721</td>\n",
       "      <td>6.845863</td>\n",
       "      <td>7.877033</td>\n",
       "      <td>9.201101</td>\n",
       "      <td>...</td>\n",
       "      <td>7.149422</td>\n",
       "      <td>7.737312</td>\n",
       "      <td>8.386004</td>\n",
       "      <td>5.994052</td>\n",
       "      <td>7.685643</td>\n",
       "      <td>4.546110</td>\n",
       "      <td>8.870484</td>\n",
       "      <td>7.938569</td>\n",
       "      <td>7.596789</td>\n",
       "      <td>8.049103</td>\n",
       "    </tr>\n",
       "    <tr>\n",
       "      <th>GSM494557</th>\n",
       "      <td>5.069035</td>\n",
       "      <td>11.146006</td>\n",
       "      <td>4.737330</td>\n",
       "      <td>8.926558</td>\n",
       "      <td>4.419542</td>\n",
       "      <td>3.276470</td>\n",
       "      <td>7.517926</td>\n",
       "      <td>6.945466</td>\n",
       "      <td>7.387878</td>\n",
       "      <td>9.279903</td>\n",
       "      <td>...</td>\n",
       "      <td>7.307666</td>\n",
       "      <td>7.693829</td>\n",
       "      <td>9.986055</td>\n",
       "      <td>5.808656</td>\n",
       "      <td>5.968874</td>\n",
       "      <td>4.979624</td>\n",
       "      <td>9.177783</td>\n",
       "      <td>7.976926</td>\n",
       "      <td>7.044507</td>\n",
       "      <td>8.192161</td>\n",
       "    </tr>\n",
       "    <tr>\n",
       "      <th>GSM494558</th>\n",
       "      <td>5.514972</td>\n",
       "      <td>12.378934</td>\n",
       "      <td>6.990395</td>\n",
       "      <td>7.268946</td>\n",
       "      <td>4.253987</td>\n",
       "      <td>2.978153</td>\n",
       "      <td>6.286073</td>\n",
       "      <td>7.201963</td>\n",
       "      <td>7.125318</td>\n",
       "      <td>10.170862</td>\n",
       "      <td>...</td>\n",
       "      <td>6.886556</td>\n",
       "      <td>7.927103</td>\n",
       "      <td>8.124558</td>\n",
       "      <td>5.526909</td>\n",
       "      <td>6.000892</td>\n",
       "      <td>4.951939</td>\n",
       "      <td>8.613027</td>\n",
       "      <td>8.642108</td>\n",
       "      <td>7.747791</td>\n",
       "      <td>7.947040</td>\n",
       "    </tr>\n",
       "    <tr>\n",
       "      <th>GSM494559</th>\n",
       "      <td>6.871695</td>\n",
       "      <td>11.853862</td>\n",
       "      <td>4.589314</td>\n",
       "      <td>8.874169</td>\n",
       "      <td>5.911853</td>\n",
       "      <td>4.412516</td>\n",
       "      <td>6.304975</td>\n",
       "      <td>7.731857</td>\n",
       "      <td>7.300380</td>\n",
       "      <td>8.649045</td>\n",
       "      <td>...</td>\n",
       "      <td>7.939107</td>\n",
       "      <td>8.589020</td>\n",
       "      <td>9.673297</td>\n",
       "      <td>6.190925</td>\n",
       "      <td>6.736635</td>\n",
       "      <td>4.765782</td>\n",
       "      <td>9.643763</td>\n",
       "      <td>7.295604</td>\n",
       "      <td>7.839339</td>\n",
       "      <td>8.377581</td>\n",
       "    </tr>\n",
       "    <tr>\n",
       "      <th>GSM494560</th>\n",
       "      <td>6.761781</td>\n",
       "      <td>11.200515</td>\n",
       "      <td>5.001184</td>\n",
       "      <td>9.027746</td>\n",
       "      <td>5.356248</td>\n",
       "      <td>3.515208</td>\n",
       "      <td>5.545497</td>\n",
       "      <td>7.552539</td>\n",
       "      <td>7.309306</td>\n",
       "      <td>9.229319</td>\n",
       "      <td>...</td>\n",
       "      <td>7.833734</td>\n",
       "      <td>8.689572</td>\n",
       "      <td>10.304345</td>\n",
       "      <td>6.090843</td>\n",
       "      <td>6.703918</td>\n",
       "      <td>5.821131</td>\n",
       "      <td>9.187349</td>\n",
       "      <td>7.557380</td>\n",
       "      <td>7.320086</td>\n",
       "      <td>8.827688</td>\n",
       "    </tr>\n",
       "  </tbody>\n",
       "</table>\n",
       "<p>5 rows × 10077 columns</p>\n",
       "</div>"
      ],
      "text/plain": [
       "               A1BG        A2M   A2M-AS1      AACS     AADAC   AADACP1  \\\n",
       "GSM494556  5.234802  11.922797  5.031032  9.141089  9.934807  6.868094   \n",
       "GSM494557  5.069035  11.146006  4.737330  8.926558  4.419542  3.276470   \n",
       "GSM494558  5.514972  12.378934  6.990395  7.268946  4.253987  2.978153   \n",
       "GSM494559  6.871695  11.853862  4.589314  8.874169  5.911853  4.412516   \n",
       "GSM494560  6.761781  11.200515  5.001184  9.027746  5.356248  3.515208   \n",
       "\n",
       "              AADAT     AAED1     AAGAB       AAK1  ...      ZW10    ZWILCH  \\\n",
       "GSM494556  5.038721  6.845863  7.877033   9.201101  ...  7.149422  7.737312   \n",
       "GSM494557  7.517926  6.945466  7.387878   9.279903  ...  7.307666  7.693829   \n",
       "GSM494558  6.286073  7.201963  7.125318  10.170862  ...  6.886556  7.927103   \n",
       "GSM494559  6.304975  7.731857  7.300380   8.649045  ...  7.939107  8.589020   \n",
       "GSM494560  5.545497  7.552539  7.309306   9.229319  ...  7.833734  8.689572   \n",
       "\n",
       "               ZWINT      ZXDA      ZXDB    ZYG11A    ZYG11B       ZYX  \\\n",
       "GSM494556   8.386004  5.994052  7.685643  4.546110  8.870484  7.938569   \n",
       "GSM494557   9.986055  5.808656  5.968874  4.979624  9.177783  7.976926   \n",
       "GSM494558   8.124558  5.526909  6.000892  4.951939  8.613027  8.642108   \n",
       "GSM494559   9.673297  6.190925  6.736635  4.765782  9.643763  7.295604   \n",
       "GSM494560  10.304345  6.090843  6.703918  5.821131  9.187349  7.557380   \n",
       "\n",
       "              ZZEF1      ZZZ3  \n",
       "GSM494556  7.596789  8.049103  \n",
       "GSM494557  7.044507  8.192161  \n",
       "GSM494558  7.747791  7.947040  \n",
       "GSM494559  7.839339  8.377581  \n",
       "GSM494560  7.320086  8.827688  \n",
       "\n",
       "[5 rows x 10077 columns]"
      ]
     },
     "execution_count": 65,
     "metadata": {},
     "output_type": "execute_result"
    }
   ],
   "source": [
    "data = data.sort_index()\n",
    "data = data.transpose()\n",
    "data.head()"
   ]
  },
  {
   "cell_type": "code",
   "execution_count": 66,
   "metadata": {},
   "outputs": [],
   "source": [
    "# We have a separate metadata file. Read it in as `meta` "
   ]
  },
  {
   "cell_type": "code",
   "execution_count": 42,
   "metadata": {},
   "outputs": [
    {
     "data": {
      "text/html": [
       "<div>\n",
       "<style scoped>\n",
       "    .dataframe tbody tr th:only-of-type {\n",
       "        vertical-align: middle;\n",
       "    }\n",
       "\n",
       "    .dataframe tbody tr th {\n",
       "        vertical-align: top;\n",
       "    }\n",
       "\n",
       "    .dataframe thead th {\n",
       "        text-align: right;\n",
       "    }\n",
       "</style>\n",
       "<table border=\"1\" class=\"dataframe\">\n",
       "  <thead>\n",
       "    <tr style=\"text-align: right;\">\n",
       "      <th></th>\n",
       "      <th>Source Name</th>\n",
       "      <th>Characteristics[organism]</th>\n",
       "      <th>Characteristics[GEO dataset]</th>\n",
       "      <th>Characteristics[GEO sample accession]</th>\n",
       "      <th>Characteristics[age]</th>\n",
       "      <th>Unit[time unit]</th>\n",
       "      <th>Characteristics[sex]</th>\n",
       "      <th>Characteristics[ethnic group ]</th>\n",
       "      <th>Characteristics[disease]</th>\n",
       "      <th>Characteristics[disease staging]</th>\n",
       "      <th>Characteristics[disease histology]</th>\n",
       "      <th>Characteristics[overall survival]</th>\n",
       "      <th>Unit[time unit].1</th>\n",
       "      <th>Characteristics[organism status]</th>\n",
       "      <th>Characteristics[clinical history]</th>\n",
       "      <th>Characteristics[TNM staging]</th>\n",
       "      <th>Characteristics[recurrence]</th>\n",
       "    </tr>\n",
       "  </thead>\n",
       "  <tbody>\n",
       "    <tr>\n",
       "      <th>0</th>\n",
       "      <td>Sample 194</td>\n",
       "      <td>Homo sapiens</td>\n",
       "      <td>GSE19188</td>\n",
       "      <td>GSM475729</td>\n",
       "      <td>not available</td>\n",
       "      <td></td>\n",
       "      <td>male</td>\n",
       "      <td>not available</td>\n",
       "      <td>normal</td>\n",
       "      <td>2</td>\n",
       "      <td>adenocarcinoma histology</td>\n",
       "      <td>20.9095812</td>\n",
       "      <td>month</td>\n",
       "      <td>dead at endpoint</td>\n",
       "      <td>Ever-smoker</td>\n",
       "      <td>not available</td>\n",
       "      <td>not available</td>\n",
       "    </tr>\n",
       "    <tr>\n",
       "      <th>1</th>\n",
       "      <td>Sample 188</td>\n",
       "      <td>Homo sapiens</td>\n",
       "      <td>GSE19188</td>\n",
       "      <td>GSM475723</td>\n",
       "      <td>not available</td>\n",
       "      <td></td>\n",
       "      <td>female</td>\n",
       "      <td>not available</td>\n",
       "      <td>normal</td>\n",
       "      <td>2</td>\n",
       "      <td>adenocarcinoma histology</td>\n",
       "      <td>8.5150653</td>\n",
       "      <td>month</td>\n",
       "      <td>alive at endpoint</td>\n",
       "      <td>Never-smoker</td>\n",
       "      <td>not available</td>\n",
       "      <td>not available</td>\n",
       "    </tr>\n",
       "    <tr>\n",
       "      <th>2</th>\n",
       "      <td>Sample 167</td>\n",
       "      <td>Homo sapiens</td>\n",
       "      <td>GSE19188</td>\n",
       "      <td>GSM475702</td>\n",
       "      <td>not available</td>\n",
       "      <td></td>\n",
       "      <td>male</td>\n",
       "      <td>not available</td>\n",
       "      <td>normal</td>\n",
       "      <td>2</td>\n",
       "      <td>adenocarcinoma histology</td>\n",
       "      <td>28.0438251</td>\n",
       "      <td>month</td>\n",
       "      <td>alive at endpoint</td>\n",
       "      <td>Never-smoker</td>\n",
       "      <td>not available</td>\n",
       "      <td>not available</td>\n",
       "    </tr>\n",
       "    <tr>\n",
       "      <th>3</th>\n",
       "      <td>Sample 204</td>\n",
       "      <td>Homo sapiens</td>\n",
       "      <td>GSE19188</td>\n",
       "      <td>GSM475739</td>\n",
       "      <td>not available</td>\n",
       "      <td></td>\n",
       "      <td>male</td>\n",
       "      <td>not available</td>\n",
       "      <td>non-small cell lung carcinoma</td>\n",
       "      <td>1B</td>\n",
       "      <td>adenocarcinoma histology</td>\n",
       "      <td>66.0492903</td>\n",
       "      <td>month</td>\n",
       "      <td>dead at endpoint</td>\n",
       "      <td>Ever-smoker</td>\n",
       "      <td>not available</td>\n",
       "      <td>not available</td>\n",
       "    </tr>\n",
       "    <tr>\n",
       "      <th>4</th>\n",
       "      <td>Sample 196</td>\n",
       "      <td>Homo sapiens</td>\n",
       "      <td>GSE19188</td>\n",
       "      <td>GSM475731</td>\n",
       "      <td>not available</td>\n",
       "      <td></td>\n",
       "      <td>male</td>\n",
       "      <td>not available</td>\n",
       "      <td>non-small cell lung carcinoma</td>\n",
       "      <td>2</td>\n",
       "      <td>adenocarcinoma histology</td>\n",
       "      <td>65.9177835</td>\n",
       "      <td>month</td>\n",
       "      <td>dead at endpoint</td>\n",
       "      <td>Ever-smoker</td>\n",
       "      <td>not available</td>\n",
       "      <td>not available</td>\n",
       "    </tr>\n",
       "  </tbody>\n",
       "</table>\n",
       "</div>"
      ],
      "text/plain": [
       "  Source Name Characteristics[organism] Characteristics[GEO dataset]  \\\n",
       "0  Sample 194              Homo sapiens                     GSE19188   \n",
       "1  Sample 188              Homo sapiens                     GSE19188   \n",
       "2  Sample 167              Homo sapiens                     GSE19188   \n",
       "3  Sample 204              Homo sapiens                     GSE19188   \n",
       "4  Sample 196              Homo sapiens                     GSE19188   \n",
       "\n",
       "  Characteristics[GEO sample accession] Characteristics[age] Unit[time unit]  \\\n",
       "0                             GSM475729        not available                   \n",
       "1                             GSM475723        not available                   \n",
       "2                             GSM475702        not available                   \n",
       "3                             GSM475739        not available                   \n",
       "4                             GSM475731        not available                   \n",
       "\n",
       "  Characteristics[sex] Characteristics[ethnic group ]  \\\n",
       "0                 male                  not available   \n",
       "1               female                  not available   \n",
       "2                 male                  not available   \n",
       "3                 male                  not available   \n",
       "4                 male                  not available   \n",
       "\n",
       "        Characteristics[disease] Characteristics[disease staging]  \\\n",
       "0                         normal                                2   \n",
       "1                         normal                                2   \n",
       "2                         normal                                2   \n",
       "3  non-small cell lung carcinoma                               1B   \n",
       "4  non-small cell lung carcinoma                                2   \n",
       "\n",
       "  Characteristics[disease histology] Characteristics[overall survival]  \\\n",
       "0           adenocarcinoma histology                        20.9095812   \n",
       "1           adenocarcinoma histology                         8.5150653   \n",
       "2           adenocarcinoma histology                        28.0438251   \n",
       "3           adenocarcinoma histology                        66.0492903   \n",
       "4           adenocarcinoma histology                        65.9177835   \n",
       "\n",
       "  Unit[time unit].1 Characteristics[organism status]  \\\n",
       "0             month                 dead at endpoint   \n",
       "1             month                alive at endpoint   \n",
       "2             month                alive at endpoint   \n",
       "3             month                 dead at endpoint   \n",
       "4             month                 dead at endpoint   \n",
       "\n",
       "  Characteristics[clinical history] Characteristics[TNM staging]  \\\n",
       "0                       Ever-smoker                not available   \n",
       "1                      Never-smoker                not available   \n",
       "2                      Never-smoker                not available   \n",
       "3                       Ever-smoker                not available   \n",
       "4                       Ever-smoker                not available   \n",
       "\n",
       "  Characteristics[recurrence]  \n",
       "0               not available  \n",
       "1               not available  \n",
       "2               not available  \n",
       "3               not available  \n",
       "4               not available  "
      ]
     },
     "execution_count": 42,
     "metadata": {},
     "output_type": "execute_result"
    }
   ],
   "source": [
    "meta = pd.read_csv(\"data/metadata_nsmlc.txt\",delimiter=\"\\t\").iloc[:,0:17]\n",
    "meta.head()"
   ]
  },
  {
   "cell_type": "code",
   "execution_count": 43,
   "metadata": {},
   "outputs": [
    {
     "name": "stdout",
     "output_type": "stream",
     "text": [
      "Index(['Source Name', 'Characteristics[organism]',\n",
      "       'Characteristics[GEO dataset]', 'Characteristics[GEO sample accession]',\n",
      "       'Characteristics[age]', 'Unit[time unit]', 'Characteristics[sex]',\n",
      "       'Characteristics[ethnic group ]', 'Characteristics[disease]',\n",
      "       'Characteristics[disease staging]',\n",
      "       'Characteristics[disease histology]',\n",
      "       'Characteristics[overall survival]', 'Unit[time unit].1',\n",
      "       'Characteristics[organism status]', 'Characteristics[clinical history]',\n",
      "       'Characteristics[TNM staging]', 'Characteristics[recurrence]'],\n",
      "      dtype='object')\n"
     ]
    }
   ],
   "source": [
    "print(meta.columns)"
   ]
  },
  {
   "cell_type": "code",
   "execution_count": 44,
   "metadata": {},
   "outputs": [],
   "source": [
    "# Clean the data\n",
    "meta.columns = [\"Sample\",\"organism\",\"GEO_dataset\",\"GEO_sample_accession\",\"age\",\"time_unit\",\"sex\",\"ethnic_group\",\"disease\", \"disease_staging\",\"disease_histology\",\"overall_survival\",\"time_unit_2\", \"organism_status\", \"clinical_history\",\"TNM_staging\",\"recurrence\" ]"
   ]
  },
  {
   "cell_type": "code",
   "execution_count": 45,
   "metadata": {},
   "outputs": [],
   "source": [
    "# Let's see how the first row looks like using .iloc"
   ]
  },
  {
   "cell_type": "code",
   "execution_count": 46,
   "metadata": {},
   "outputs": [
    {
     "data": {
      "text/plain": [
       "Sample                                Sample 188\n",
       "organism                            Homo sapiens\n",
       "GEO_dataset                             GSE19188\n",
       "GEO_sample_accession                   GSM475723\n",
       "age                                not available\n",
       "time_unit                                       \n",
       "sex                                       female\n",
       "ethnic_group                       not available\n",
       "disease                                   normal\n",
       "disease_staging                                2\n",
       "disease_histology       adenocarcinoma histology\n",
       "overall_survival                       8.5150653\n",
       "time_unit_2                                month\n",
       "organism_status                alive at endpoint\n",
       "clinical_history                    Never-smoker\n",
       "TNM_staging                        not available\n",
       "recurrence                         not available\n",
       "Name: 1, dtype: object"
      ]
     },
     "execution_count": 46,
     "metadata": {},
     "output_type": "execute_result"
    }
   ],
   "source": [
    "meta.iloc[1]"
   ]
  },
  {
   "cell_type": "code",
   "execution_count": 47,
   "metadata": {},
   "outputs": [],
   "source": [
    "# Notice that the two GEO_sample_accession between two tables are the same but not matching their orders! Try to get the same order"
   ]
  },
  {
   "cell_type": "code",
   "execution_count": 48,
   "metadata": {
    "scrolled": true
   },
   "outputs": [
    {
     "data": {
      "text/html": [
       "<div>\n",
       "<style scoped>\n",
       "    .dataframe tbody tr th:only-of-type {\n",
       "        vertical-align: middle;\n",
       "    }\n",
       "\n",
       "    .dataframe tbody tr th {\n",
       "        vertical-align: top;\n",
       "    }\n",
       "\n",
       "    .dataframe thead th {\n",
       "        text-align: right;\n",
       "    }\n",
       "</style>\n",
       "<table border=\"1\" class=\"dataframe\">\n",
       "  <thead>\n",
       "    <tr style=\"text-align: right;\">\n",
       "      <th></th>\n",
       "      <th>Sample</th>\n",
       "      <th>organism</th>\n",
       "      <th>GEO_dataset</th>\n",
       "      <th>age</th>\n",
       "      <th>time_unit</th>\n",
       "      <th>sex</th>\n",
       "      <th>ethnic_group</th>\n",
       "      <th>disease</th>\n",
       "      <th>disease_staging</th>\n",
       "      <th>disease_histology</th>\n",
       "      <th>overall_survival</th>\n",
       "      <th>time_unit_2</th>\n",
       "      <th>organism_status</th>\n",
       "      <th>clinical_history</th>\n",
       "      <th>TNM_staging</th>\n",
       "      <th>recurrence</th>\n",
       "    </tr>\n",
       "    <tr>\n",
       "      <th>GEO_sample_accession</th>\n",
       "      <th></th>\n",
       "      <th></th>\n",
       "      <th></th>\n",
       "      <th></th>\n",
       "      <th></th>\n",
       "      <th></th>\n",
       "      <th></th>\n",
       "      <th></th>\n",
       "      <th></th>\n",
       "      <th></th>\n",
       "      <th></th>\n",
       "      <th></th>\n",
       "      <th></th>\n",
       "      <th></th>\n",
       "      <th></th>\n",
       "      <th></th>\n",
       "    </tr>\n",
       "  </thead>\n",
       "  <tbody>\n",
       "    <tr>\n",
       "      <th>GSM1213669</th>\n",
       "      <td>Sample 529</td>\n",
       "      <td>Homo sapiens</td>\n",
       "      <td>GSE50081</td>\n",
       "      <td>63.57</td>\n",
       "      <td>year</td>\n",
       "      <td>male</td>\n",
       "      <td>not available</td>\n",
       "      <td>non-small cell lung carcinoma</td>\n",
       "      <td>not available</td>\n",
       "      <td>adenocarcinoma histology</td>\n",
       "      <td>not available</td>\n",
       "      <td></td>\n",
       "      <td>not available</td>\n",
       "      <td>not availabe</td>\n",
       "      <td>not available</td>\n",
       "      <td>not available</td>\n",
       "    </tr>\n",
       "    <tr>\n",
       "      <th>GSM1213670</th>\n",
       "      <td>Sample 530</td>\n",
       "      <td>Homo sapiens</td>\n",
       "      <td>GSE50081</td>\n",
       "      <td>68.15</td>\n",
       "      <td>year</td>\n",
       "      <td>female</td>\n",
       "      <td>not available</td>\n",
       "      <td>non-small cell lung carcinoma</td>\n",
       "      <td>not available</td>\n",
       "      <td>not available</td>\n",
       "      <td>not available</td>\n",
       "      <td></td>\n",
       "      <td>not available</td>\n",
       "      <td>not availabe</td>\n",
       "      <td>not available</td>\n",
       "      <td>not available</td>\n",
       "    </tr>\n",
       "    <tr>\n",
       "      <th>GSM1213671</th>\n",
       "      <td>Sample 531</td>\n",
       "      <td>Homo sapiens</td>\n",
       "      <td>GSE50081</td>\n",
       "      <td>69.15</td>\n",
       "      <td>year</td>\n",
       "      <td>male</td>\n",
       "      <td>not available</td>\n",
       "      <td>non-small cell lung carcinoma</td>\n",
       "      <td>not available</td>\n",
       "      <td>not available</td>\n",
       "      <td>not available</td>\n",
       "      <td></td>\n",
       "      <td>not available</td>\n",
       "      <td>not availabe</td>\n",
       "      <td>not available</td>\n",
       "      <td>not available</td>\n",
       "    </tr>\n",
       "    <tr>\n",
       "      <th>GSM1213672</th>\n",
       "      <td>Sample 532</td>\n",
       "      <td>Homo sapiens</td>\n",
       "      <td>GSE50081</td>\n",
       "      <td>82.36</td>\n",
       "      <td>year</td>\n",
       "      <td>female</td>\n",
       "      <td>not available</td>\n",
       "      <td>non-small cell lung carcinoma</td>\n",
       "      <td>not available</td>\n",
       "      <td>normal histology</td>\n",
       "      <td>not available</td>\n",
       "      <td></td>\n",
       "      <td>not available</td>\n",
       "      <td>not availabe</td>\n",
       "      <td>not available</td>\n",
       "      <td>not available</td>\n",
       "    </tr>\n",
       "    <tr>\n",
       "      <th>GSM1213673</th>\n",
       "      <td>Sample 533</td>\n",
       "      <td>Homo sapiens</td>\n",
       "      <td>GSE50081</td>\n",
       "      <td>68</td>\n",
       "      <td>year</td>\n",
       "      <td>male</td>\n",
       "      <td>not available</td>\n",
       "      <td>non-small cell lung carcinoma</td>\n",
       "      <td>not available</td>\n",
       "      <td>not available</td>\n",
       "      <td>not available</td>\n",
       "      <td></td>\n",
       "      <td>not available</td>\n",
       "      <td>not availabe</td>\n",
       "      <td>not available</td>\n",
       "      <td>not available</td>\n",
       "    </tr>\n",
       "  </tbody>\n",
       "</table>\n",
       "</div>"
      ],
      "text/plain": [
       "                          Sample      organism GEO_dataset    age time_unit  \\\n",
       "GEO_sample_accession                                                          \n",
       "GSM1213669            Sample 529  Homo sapiens    GSE50081  63.57      year   \n",
       "GSM1213670            Sample 530  Homo sapiens    GSE50081  68.15      year   \n",
       "GSM1213671            Sample 531  Homo sapiens    GSE50081  69.15      year   \n",
       "GSM1213672            Sample 532  Homo sapiens    GSE50081  82.36      year   \n",
       "GSM1213673            Sample 533  Homo sapiens    GSE50081     68      year   \n",
       "\n",
       "                         sex   ethnic_group                        disease  \\\n",
       "GEO_sample_accession                                                         \n",
       "GSM1213669              male  not available  non-small cell lung carcinoma   \n",
       "GSM1213670            female  not available  non-small cell lung carcinoma   \n",
       "GSM1213671              male  not available  non-small cell lung carcinoma   \n",
       "GSM1213672            female  not available  non-small cell lung carcinoma   \n",
       "GSM1213673              male  not available  non-small cell lung carcinoma   \n",
       "\n",
       "                     disease_staging         disease_histology  \\\n",
       "GEO_sample_accession                                             \n",
       "GSM1213669             not available  adenocarcinoma histology   \n",
       "GSM1213670             not available             not available   \n",
       "GSM1213671             not available             not available   \n",
       "GSM1213672             not available          normal histology   \n",
       "GSM1213673             not available             not available   \n",
       "\n",
       "                     overall_survival time_unit_2 organism_status  \\\n",
       "GEO_sample_accession                                                \n",
       "GSM1213669              not available               not available   \n",
       "GSM1213670              not available               not available   \n",
       "GSM1213671              not available               not available   \n",
       "GSM1213672              not available               not available   \n",
       "GSM1213673              not available               not available   \n",
       "\n",
       "                     clinical_history    TNM_staging     recurrence  \n",
       "GEO_sample_accession                                                 \n",
       "GSM1213669               not availabe  not available  not available  \n",
       "GSM1213670               not availabe  not available  not available  \n",
       "GSM1213671               not availabe  not available  not available  \n",
       "GSM1213672               not availabe  not available  not available  \n",
       "GSM1213673               not availabe  not available  not available  "
      ]
     },
     "execution_count": 48,
     "metadata": {},
     "output_type": "execute_result"
    }
   ],
   "source": [
    "meta_sorted = meta.set_index(\"GEO_sample_accession\")\n",
    "meta_sorted = meta_sorted.sort_index()\n",
    "meta_sorted.head()"
   ]
  },
  {
   "cell_type": "code",
   "execution_count": 49,
   "metadata": {},
   "outputs": [],
   "source": [
    "# Let's begin Linear regression"
   ]
  },
  {
   "cell_type": "code",
   "execution_count": 50,
   "metadata": {},
   "outputs": [
    {
     "data": {
      "text/html": [
       "<div>\n",
       "<style scoped>\n",
       "    .dataframe tbody tr th:only-of-type {\n",
       "        vertical-align: middle;\n",
       "    }\n",
       "\n",
       "    .dataframe tbody tr th {\n",
       "        vertical-align: top;\n",
       "    }\n",
       "\n",
       "    .dataframe thead th {\n",
       "        text-align: right;\n",
       "    }\n",
       "</style>\n",
       "<table border=\"1\" class=\"dataframe\">\n",
       "  <thead>\n",
       "    <tr style=\"text-align: right;\">\n",
       "      <th></th>\n",
       "      <th>overall_survival</th>\n",
       "    </tr>\n",
       "    <tr>\n",
       "      <th>GEO_sample_accession</th>\n",
       "      <th></th>\n",
       "    </tr>\n",
       "  </thead>\n",
       "  <tbody>\n",
       "    <tr>\n",
       "      <th>GSM1213669</th>\n",
       "      <td>not available</td>\n",
       "    </tr>\n",
       "    <tr>\n",
       "      <th>GSM1213670</th>\n",
       "      <td>not available</td>\n",
       "    </tr>\n",
       "    <tr>\n",
       "      <th>GSM1213671</th>\n",
       "      <td>not available</td>\n",
       "    </tr>\n",
       "    <tr>\n",
       "      <th>GSM1213672</th>\n",
       "      <td>not available</td>\n",
       "    </tr>\n",
       "    <tr>\n",
       "      <th>GSM1213673</th>\n",
       "      <td>not available</td>\n",
       "    </tr>\n",
       "    <tr>\n",
       "      <th>...</th>\n",
       "      <td>...</td>\n",
       "    </tr>\n",
       "    <tr>\n",
       "      <th>GSM773781</th>\n",
       "      <td>not available</td>\n",
       "    </tr>\n",
       "    <tr>\n",
       "      <th>GSM773782</th>\n",
       "      <td>98.5</td>\n",
       "    </tr>\n",
       "    <tr>\n",
       "      <th>GSM773783</th>\n",
       "      <td>116.83</td>\n",
       "    </tr>\n",
       "    <tr>\n",
       "      <th>GSM773784</th>\n",
       "      <td>not available</td>\n",
       "    </tr>\n",
       "    <tr>\n",
       "      <th>GSM773785</th>\n",
       "      <td>22.57</td>\n",
       "    </tr>\n",
       "  </tbody>\n",
       "</table>\n",
       "<p>1118 rows × 1 columns</p>\n",
       "</div>"
      ],
      "text/plain": [
       "                     overall_survival\n",
       "GEO_sample_accession                 \n",
       "GSM1213669              not available\n",
       "GSM1213670              not available\n",
       "GSM1213671              not available\n",
       "GSM1213672              not available\n",
       "GSM1213673              not available\n",
       "...                               ...\n",
       "GSM773781               not available\n",
       "GSM773782                        98.5\n",
       "GSM773783                      116.83\n",
       "GSM773784               not available\n",
       "GSM773785                       22.57\n",
       "\n",
       "[1118 rows x 1 columns]"
      ]
     },
     "execution_count": 50,
     "metadata": {},
     "output_type": "execute_result"
    }
   ],
   "source": [
    "y = meta_sorted[[\"overall_survival\"]]\n",
    "y"
   ]
  },
  {
   "cell_type": "code",
   "execution_count": 70,
   "metadata": {},
   "outputs": [],
   "source": [
    "# We want to get rid of non-informative data here in \"short\", \"long\", \"not available\" and keep only continuous data"
   ]
  },
  {
   "cell_type": "code",
   "execution_count": 71,
   "metadata": {},
   "outputs": [],
   "source": [
    "y = y[~y.overall_survival.isin([\"Short\",\"long\",\"not available\"])]"
   ]
  },
  {
   "cell_type": "code",
   "execution_count": 72,
   "metadata": {},
   "outputs": [],
   "source": [
    "# Make sure y is float type"
   ]
  },
  {
   "cell_type": "code",
   "execution_count": 73,
   "metadata": {
    "scrolled": true
   },
   "outputs": [
    {
     "data": {
      "text/html": [
       "<div>\n",
       "<style scoped>\n",
       "    .dataframe tbody tr th:only-of-type {\n",
       "        vertical-align: middle;\n",
       "    }\n",
       "\n",
       "    .dataframe tbody tr th {\n",
       "        vertical-align: top;\n",
       "    }\n",
       "\n",
       "    .dataframe thead th {\n",
       "        text-align: right;\n",
       "    }\n",
       "</style>\n",
       "<table border=\"1\" class=\"dataframe\">\n",
       "  <thead>\n",
       "    <tr style=\"text-align: right;\">\n",
       "      <th></th>\n",
       "      <th>overall_survival</th>\n",
       "    </tr>\n",
       "    <tr>\n",
       "      <th>GEO_sample_accession</th>\n",
       "      <th></th>\n",
       "    </tr>\n",
       "  </thead>\n",
       "  <tbody>\n",
       "    <tr>\n",
       "      <th>GSM1213677</th>\n",
       "      <td>76.68</td>\n",
       "    </tr>\n",
       "    <tr>\n",
       "      <th>GSM1213678</th>\n",
       "      <td>124.83</td>\n",
       "    </tr>\n",
       "    <tr>\n",
       "      <th>GSM1213684</th>\n",
       "      <td>98.93</td>\n",
       "    </tr>\n",
       "    <tr>\n",
       "      <th>GSM1213685</th>\n",
       "      <td>59.16</td>\n",
       "    </tr>\n",
       "    <tr>\n",
       "      <th>GSM1213686</th>\n",
       "      <td>29.27</td>\n",
       "    </tr>\n",
       "    <tr>\n",
       "      <th>...</th>\n",
       "      <td>...</td>\n",
       "    </tr>\n",
       "    <tr>\n",
       "      <th>GSM773777</th>\n",
       "      <td>100.08</td>\n",
       "    </tr>\n",
       "    <tr>\n",
       "      <th>GSM773780</th>\n",
       "      <td>71.88</td>\n",
       "    </tr>\n",
       "    <tr>\n",
       "      <th>GSM773782</th>\n",
       "      <td>98.50</td>\n",
       "    </tr>\n",
       "    <tr>\n",
       "      <th>GSM773783</th>\n",
       "      <td>116.83</td>\n",
       "    </tr>\n",
       "    <tr>\n",
       "      <th>GSM773785</th>\n",
       "      <td>22.57</td>\n",
       "    </tr>\n",
       "  </tbody>\n",
       "</table>\n",
       "<p>489 rows × 1 columns</p>\n",
       "</div>"
      ],
      "text/plain": [
       "                      overall_survival\n",
       "GEO_sample_accession                  \n",
       "GSM1213677                       76.68\n",
       "GSM1213678                      124.83\n",
       "GSM1213684                       98.93\n",
       "GSM1213685                       59.16\n",
       "GSM1213686                       29.27\n",
       "...                                ...\n",
       "GSM773777                       100.08\n",
       "GSM773780                        71.88\n",
       "GSM773782                        98.50\n",
       "GSM773783                       116.83\n",
       "GSM773785                        22.57\n",
       "\n",
       "[489 rows x 1 columns]"
      ]
     },
     "execution_count": 73,
     "metadata": {},
     "output_type": "execute_result"
    }
   ],
   "source": [
    "y = y.astype(dtype=float)\n",
    "y"
   ]
  },
  {
   "cell_type": "code",
   "execution_count": 74,
   "metadata": {},
   "outputs": [],
   "source": [
    "# Build feature X dataframe"
   ]
  },
  {
   "cell_type": "code",
   "execution_count": null,
   "metadata": {},
   "outputs": [],
   "source": []
  },
  {
   "cell_type": "code",
   "execution_count": 75,
   "metadata": {},
   "outputs": [],
   "source": [
    "# Select X with corresponding filtered y"
   ]
  },
  {
   "cell_type": "code",
   "execution_count": 76,
   "metadata": {
    "scrolled": true
   },
   "outputs": [
    {
     "data": {
      "text/html": [
       "<div>\n",
       "<style scoped>\n",
       "    .dataframe tbody tr th:only-of-type {\n",
       "        vertical-align: middle;\n",
       "    }\n",
       "\n",
       "    .dataframe tbody tr th {\n",
       "        vertical-align: top;\n",
       "    }\n",
       "\n",
       "    .dataframe thead th {\n",
       "        text-align: right;\n",
       "    }\n",
       "</style>\n",
       "<table border=\"1\" class=\"dataframe\">\n",
       "  <thead>\n",
       "    <tr style=\"text-align: right;\">\n",
       "      <th></th>\n",
       "      <th>A1BG</th>\n",
       "      <th>A2M</th>\n",
       "      <th>A2M-AS1</th>\n",
       "      <th>AACS</th>\n",
       "      <th>AADAC</th>\n",
       "      <th>AADACP1</th>\n",
       "      <th>AADAT</th>\n",
       "      <th>AAED1</th>\n",
       "      <th>AAGAB</th>\n",
       "      <th>AAK1</th>\n",
       "      <th>...</th>\n",
       "      <th>ZW10</th>\n",
       "      <th>ZWILCH</th>\n",
       "      <th>ZWINT</th>\n",
       "      <th>ZXDA</th>\n",
       "      <th>ZXDB</th>\n",
       "      <th>ZYG11A</th>\n",
       "      <th>ZYG11B</th>\n",
       "      <th>ZYX</th>\n",
       "      <th>ZZEF1</th>\n",
       "      <th>ZZZ3</th>\n",
       "    </tr>\n",
       "  </thead>\n",
       "  <tbody>\n",
       "    <tr>\n",
       "      <th>GSM494556</th>\n",
       "      <td>5.234802</td>\n",
       "      <td>11.922797</td>\n",
       "      <td>5.031032</td>\n",
       "      <td>9.141089</td>\n",
       "      <td>9.934807</td>\n",
       "      <td>6.868094</td>\n",
       "      <td>5.038721</td>\n",
       "      <td>6.845863</td>\n",
       "      <td>7.877033</td>\n",
       "      <td>9.201101</td>\n",
       "      <td>...</td>\n",
       "      <td>7.149422</td>\n",
       "      <td>7.737312</td>\n",
       "      <td>8.386004</td>\n",
       "      <td>5.994052</td>\n",
       "      <td>7.685643</td>\n",
       "      <td>4.546110</td>\n",
       "      <td>8.870484</td>\n",
       "      <td>7.938569</td>\n",
       "      <td>7.596789</td>\n",
       "      <td>8.049103</td>\n",
       "    </tr>\n",
       "    <tr>\n",
       "      <th>GSM494557</th>\n",
       "      <td>5.069035</td>\n",
       "      <td>11.146006</td>\n",
       "      <td>4.737330</td>\n",
       "      <td>8.926558</td>\n",
       "      <td>4.419542</td>\n",
       "      <td>3.276470</td>\n",
       "      <td>7.517926</td>\n",
       "      <td>6.945466</td>\n",
       "      <td>7.387878</td>\n",
       "      <td>9.279903</td>\n",
       "      <td>...</td>\n",
       "      <td>7.307666</td>\n",
       "      <td>7.693829</td>\n",
       "      <td>9.986055</td>\n",
       "      <td>5.808656</td>\n",
       "      <td>5.968874</td>\n",
       "      <td>4.979624</td>\n",
       "      <td>9.177783</td>\n",
       "      <td>7.976926</td>\n",
       "      <td>7.044507</td>\n",
       "      <td>8.192161</td>\n",
       "    </tr>\n",
       "    <tr>\n",
       "      <th>GSM494558</th>\n",
       "      <td>5.514972</td>\n",
       "      <td>12.378934</td>\n",
       "      <td>6.990395</td>\n",
       "      <td>7.268946</td>\n",
       "      <td>4.253987</td>\n",
       "      <td>2.978153</td>\n",
       "      <td>6.286073</td>\n",
       "      <td>7.201963</td>\n",
       "      <td>7.125318</td>\n",
       "      <td>10.170862</td>\n",
       "      <td>...</td>\n",
       "      <td>6.886556</td>\n",
       "      <td>7.927103</td>\n",
       "      <td>8.124558</td>\n",
       "      <td>5.526909</td>\n",
       "      <td>6.000892</td>\n",
       "      <td>4.951939</td>\n",
       "      <td>8.613027</td>\n",
       "      <td>8.642108</td>\n",
       "      <td>7.747791</td>\n",
       "      <td>7.947040</td>\n",
       "    </tr>\n",
       "    <tr>\n",
       "      <th>GSM494559</th>\n",
       "      <td>6.871695</td>\n",
       "      <td>11.853862</td>\n",
       "      <td>4.589314</td>\n",
       "      <td>8.874169</td>\n",
       "      <td>5.911853</td>\n",
       "      <td>4.412516</td>\n",
       "      <td>6.304975</td>\n",
       "      <td>7.731857</td>\n",
       "      <td>7.300380</td>\n",
       "      <td>8.649045</td>\n",
       "      <td>...</td>\n",
       "      <td>7.939107</td>\n",
       "      <td>8.589020</td>\n",
       "      <td>9.673297</td>\n",
       "      <td>6.190925</td>\n",
       "      <td>6.736635</td>\n",
       "      <td>4.765782</td>\n",
       "      <td>9.643763</td>\n",
       "      <td>7.295604</td>\n",
       "      <td>7.839339</td>\n",
       "      <td>8.377581</td>\n",
       "    </tr>\n",
       "    <tr>\n",
       "      <th>GSM494562</th>\n",
       "      <td>5.136920</td>\n",
       "      <td>10.023953</td>\n",
       "      <td>4.240061</td>\n",
       "      <td>8.201494</td>\n",
       "      <td>3.941931</td>\n",
       "      <td>3.726861</td>\n",
       "      <td>6.542091</td>\n",
       "      <td>7.511518</td>\n",
       "      <td>8.575364</td>\n",
       "      <td>8.654837</td>\n",
       "      <td>...</td>\n",
       "      <td>7.803377</td>\n",
       "      <td>9.372239</td>\n",
       "      <td>11.360832</td>\n",
       "      <td>5.146112</td>\n",
       "      <td>6.012847</td>\n",
       "      <td>6.224299</td>\n",
       "      <td>8.672032</td>\n",
       "      <td>8.401114</td>\n",
       "      <td>6.550223</td>\n",
       "      <td>8.447608</td>\n",
       "    </tr>\n",
       "    <tr>\n",
       "      <th>...</th>\n",
       "      <td>...</td>\n",
       "      <td>...</td>\n",
       "      <td>...</td>\n",
       "      <td>...</td>\n",
       "      <td>...</td>\n",
       "      <td>...</td>\n",
       "      <td>...</td>\n",
       "      <td>...</td>\n",
       "      <td>...</td>\n",
       "      <td>...</td>\n",
       "      <td>...</td>\n",
       "      <td>...</td>\n",
       "      <td>...</td>\n",
       "      <td>...</td>\n",
       "      <td>...</td>\n",
       "      <td>...</td>\n",
       "      <td>...</td>\n",
       "      <td>...</td>\n",
       "      <td>...</td>\n",
       "      <td>...</td>\n",
       "      <td>...</td>\n",
       "    </tr>\n",
       "    <tr>\n",
       "      <th>GSM259401</th>\n",
       "      <td>6.291212</td>\n",
       "      <td>10.142950</td>\n",
       "      <td>5.244862</td>\n",
       "      <td>9.343681</td>\n",
       "      <td>5.313085</td>\n",
       "      <td>3.732783</td>\n",
       "      <td>4.480578</td>\n",
       "      <td>6.924362</td>\n",
       "      <td>7.481132</td>\n",
       "      <td>8.012871</td>\n",
       "      <td>...</td>\n",
       "      <td>7.397495</td>\n",
       "      <td>8.196879</td>\n",
       "      <td>10.442851</td>\n",
       "      <td>5.397701</td>\n",
       "      <td>6.456205</td>\n",
       "      <td>4.805362</td>\n",
       "      <td>8.235437</td>\n",
       "      <td>7.936661</td>\n",
       "      <td>6.673481</td>\n",
       "      <td>7.141803</td>\n",
       "    </tr>\n",
       "    <tr>\n",
       "      <th>GSM259422</th>\n",
       "      <td>5.613814</td>\n",
       "      <td>11.150379</td>\n",
       "      <td>4.843539</td>\n",
       "      <td>7.624790</td>\n",
       "      <td>7.224974</td>\n",
       "      <td>5.874002</td>\n",
       "      <td>5.553344</td>\n",
       "      <td>8.660309</td>\n",
       "      <td>8.180750</td>\n",
       "      <td>8.882650</td>\n",
       "      <td>...</td>\n",
       "      <td>8.023348</td>\n",
       "      <td>8.676399</td>\n",
       "      <td>9.697320</td>\n",
       "      <td>6.644441</td>\n",
       "      <td>7.571358</td>\n",
       "      <td>4.858598</td>\n",
       "      <td>8.825904</td>\n",
       "      <td>8.999316</td>\n",
       "      <td>7.918386</td>\n",
       "      <td>8.328980</td>\n",
       "    </tr>\n",
       "    <tr>\n",
       "      <th>GSM264313</th>\n",
       "      <td>5.477867</td>\n",
       "      <td>12.328099</td>\n",
       "      <td>4.945388</td>\n",
       "      <td>8.940618</td>\n",
       "      <td>6.083279</td>\n",
       "      <td>3.221851</td>\n",
       "      <td>5.771937</td>\n",
       "      <td>7.882065</td>\n",
       "      <td>7.782471</td>\n",
       "      <td>8.473767</td>\n",
       "      <td>...</td>\n",
       "      <td>7.437009</td>\n",
       "      <td>8.213057</td>\n",
       "      <td>9.488807</td>\n",
       "      <td>6.303256</td>\n",
       "      <td>6.976218</td>\n",
       "      <td>4.788627</td>\n",
       "      <td>9.199349</td>\n",
       "      <td>8.567408</td>\n",
       "      <td>7.539193</td>\n",
       "      <td>8.340414</td>\n",
       "    </tr>\n",
       "    <tr>\n",
       "      <th>GSM264316</th>\n",
       "      <td>5.286392</td>\n",
       "      <td>12.125840</td>\n",
       "      <td>5.216904</td>\n",
       "      <td>9.331065</td>\n",
       "      <td>7.195287</td>\n",
       "      <td>4.013522</td>\n",
       "      <td>6.357004</td>\n",
       "      <td>8.064669</td>\n",
       "      <td>7.940388</td>\n",
       "      <td>8.585308</td>\n",
       "      <td>...</td>\n",
       "      <td>7.722633</td>\n",
       "      <td>8.257735</td>\n",
       "      <td>8.865479</td>\n",
       "      <td>5.981190</td>\n",
       "      <td>6.808404</td>\n",
       "      <td>4.009047</td>\n",
       "      <td>8.979540</td>\n",
       "      <td>8.258587</td>\n",
       "      <td>7.521934</td>\n",
       "      <td>8.521977</td>\n",
       "    </tr>\n",
       "    <tr>\n",
       "      <th>GSM264317</th>\n",
       "      <td>5.575501</td>\n",
       "      <td>12.978447</td>\n",
       "      <td>5.636242</td>\n",
       "      <td>7.486466</td>\n",
       "      <td>5.515554</td>\n",
       "      <td>3.459833</td>\n",
       "      <td>5.756701</td>\n",
       "      <td>7.887273</td>\n",
       "      <td>7.668937</td>\n",
       "      <td>8.737257</td>\n",
       "      <td>...</td>\n",
       "      <td>7.338652</td>\n",
       "      <td>7.268645</td>\n",
       "      <td>7.899504</td>\n",
       "      <td>5.918616</td>\n",
       "      <td>6.693052</td>\n",
       "      <td>4.069845</td>\n",
       "      <td>9.097421</td>\n",
       "      <td>8.958113</td>\n",
       "      <td>7.736356</td>\n",
       "      <td>7.989277</td>\n",
       "    </tr>\n",
       "  </tbody>\n",
       "</table>\n",
       "<p>489 rows × 10077 columns</p>\n",
       "</div>"
      ],
      "text/plain": [
       "               A1BG        A2M   A2M-AS1      AACS     AADAC   AADACP1  \\\n",
       "GSM494556  5.234802  11.922797  5.031032  9.141089  9.934807  6.868094   \n",
       "GSM494557  5.069035  11.146006  4.737330  8.926558  4.419542  3.276470   \n",
       "GSM494558  5.514972  12.378934  6.990395  7.268946  4.253987  2.978153   \n",
       "GSM494559  6.871695  11.853862  4.589314  8.874169  5.911853  4.412516   \n",
       "GSM494562  5.136920  10.023953  4.240061  8.201494  3.941931  3.726861   \n",
       "...             ...        ...       ...       ...       ...       ...   \n",
       "GSM259401  6.291212  10.142950  5.244862  9.343681  5.313085  3.732783   \n",
       "GSM259422  5.613814  11.150379  4.843539  7.624790  7.224974  5.874002   \n",
       "GSM264313  5.477867  12.328099  4.945388  8.940618  6.083279  3.221851   \n",
       "GSM264316  5.286392  12.125840  5.216904  9.331065  7.195287  4.013522   \n",
       "GSM264317  5.575501  12.978447  5.636242  7.486466  5.515554  3.459833   \n",
       "\n",
       "              AADAT     AAED1     AAGAB       AAK1  ...      ZW10    ZWILCH  \\\n",
       "GSM494556  5.038721  6.845863  7.877033   9.201101  ...  7.149422  7.737312   \n",
       "GSM494557  7.517926  6.945466  7.387878   9.279903  ...  7.307666  7.693829   \n",
       "GSM494558  6.286073  7.201963  7.125318  10.170862  ...  6.886556  7.927103   \n",
       "GSM494559  6.304975  7.731857  7.300380   8.649045  ...  7.939107  8.589020   \n",
       "GSM494562  6.542091  7.511518  8.575364   8.654837  ...  7.803377  9.372239   \n",
       "...             ...       ...       ...        ...  ...       ...       ...   \n",
       "GSM259401  4.480578  6.924362  7.481132   8.012871  ...  7.397495  8.196879   \n",
       "GSM259422  5.553344  8.660309  8.180750   8.882650  ...  8.023348  8.676399   \n",
       "GSM264313  5.771937  7.882065  7.782471   8.473767  ...  7.437009  8.213057   \n",
       "GSM264316  6.357004  8.064669  7.940388   8.585308  ...  7.722633  8.257735   \n",
       "GSM264317  5.756701  7.887273  7.668937   8.737257  ...  7.338652  7.268645   \n",
       "\n",
       "               ZWINT      ZXDA      ZXDB    ZYG11A    ZYG11B       ZYX  \\\n",
       "GSM494556   8.386004  5.994052  7.685643  4.546110  8.870484  7.938569   \n",
       "GSM494557   9.986055  5.808656  5.968874  4.979624  9.177783  7.976926   \n",
       "GSM494558   8.124558  5.526909  6.000892  4.951939  8.613027  8.642108   \n",
       "GSM494559   9.673297  6.190925  6.736635  4.765782  9.643763  7.295604   \n",
       "GSM494562  11.360832  5.146112  6.012847  6.224299  8.672032  8.401114   \n",
       "...              ...       ...       ...       ...       ...       ...   \n",
       "GSM259401  10.442851  5.397701  6.456205  4.805362  8.235437  7.936661   \n",
       "GSM259422   9.697320  6.644441  7.571358  4.858598  8.825904  8.999316   \n",
       "GSM264313   9.488807  6.303256  6.976218  4.788627  9.199349  8.567408   \n",
       "GSM264316   8.865479  5.981190  6.808404  4.009047  8.979540  8.258587   \n",
       "GSM264317   7.899504  5.918616  6.693052  4.069845  9.097421  8.958113   \n",
       "\n",
       "              ZZEF1      ZZZ3  \n",
       "GSM494556  7.596789  8.049103  \n",
       "GSM494557  7.044507  8.192161  \n",
       "GSM494558  7.747791  7.947040  \n",
       "GSM494559  7.839339  8.377581  \n",
       "GSM494562  6.550223  8.447608  \n",
       "...             ...       ...  \n",
       "GSM259401  6.673481  7.141803  \n",
       "GSM259422  7.918386  8.328980  \n",
       "GSM264313  7.539193  8.340414  \n",
       "GSM264316  7.521934  8.521977  \n",
       "GSM264317  7.736356  7.989277  \n",
       "\n",
       "[489 rows x 10077 columns]"
      ]
     },
     "execution_count": 76,
     "metadata": {},
     "output_type": "execute_result"
    }
   ],
   "source": [
    "X = data[data.index.isin(y.index)]\n",
    "X"
   ]
  },
  {
   "cell_type": "code",
   "execution_count": 77,
   "metadata": {},
   "outputs": [],
   "source": [
    "# Set y as a numpy array and reshape to have (489, 1) array"
   ]
  },
  {
   "cell_type": "code",
   "execution_count": 78,
   "metadata": {},
   "outputs": [],
   "source": [
    "y = y.overall_survival.values.reshape(-1,1)"
   ]
  },
  {
   "cell_type": "code",
   "execution_count": 79,
   "metadata": {},
   "outputs": [
    {
     "data": {
      "text/plain": [
       "(1118,)"
      ]
     },
     "execution_count": 79,
     "metadata": {},
     "output_type": "execute_result"
    }
   ],
   "source": [
    "col = meta.overall_survival.values\n",
    "col.shape"
   ]
  },
  {
   "cell_type": "code",
   "execution_count": 80,
   "metadata": {},
   "outputs": [
    {
     "data": {
      "text/plain": [
       "(1118, 1)"
      ]
     },
     "execution_count": 80,
     "metadata": {},
     "output_type": "execute_result"
    }
   ],
   "source": [
    "col_reshaped = meta.overall_survival.values.reshape(-1,1)\n",
    "col_reshaped.shape\n"
   ]
  },
  {
   "cell_type": "markdown",
   "metadata": {},
   "source": [
    "- Now you start to learn how to split the data into 2 sets: one for training and one for testing. If you don't specify, Python will split the data to 75% train and 25% test. Here you might want to test 30% of the data. [readthedocs](https://scikit-learn.org/stable/modules/generated/sklearn.model_selection.train_test_split.html)"
   ]
  },
  {
   "cell_type": "markdown",
   "metadata": {},
   "source": [
    "Generalization: the ability of the model to predict sensible output for unseen data"
   ]
  },
  {
   "cell_type": "code",
   "execution_count": 81,
   "metadata": {},
   "outputs": [],
   "source": [
    "# Train-test split"
   ]
  },
  {
   "cell_type": "code",
   "execution_count": 86,
   "metadata": {},
   "outputs": [],
   "source": [
    "# Import train_test_split from sklearn.model_selection\n",
    "from sklearn.model_selection import train_test_split"
   ]
  },
  {
   "cell_type": "code",
   "execution_count": 87,
   "metadata": {},
   "outputs": [],
   "source": [
    "# Import LinearRegression\n",
    "from sklearn.linear_model import LinearRegression"
   ]
  },
  {
   "cell_type": "code",
   "execution_count": 88,
   "metadata": {},
   "outputs": [],
   "source": [
    "# Create training and test sets\n",
    "X_train, X_test, y_train, y_test = train_test_split(X, y, test_size = 0.3, random_state=21)"
   ]
  },
  {
   "cell_type": "code",
   "execution_count": 89,
   "metadata": {},
   "outputs": [],
   "source": [
    "# Create the regressor: reg_all\n",
    "reg_all = LinearRegression()"
   ]
  },
  {
   "cell_type": "code",
   "execution_count": 90,
   "metadata": {},
   "outputs": [
    {
     "name": "stderr",
     "output_type": "stream",
     "text": [
      "/Users/caotranbichngoc/miniconda3/lib/python3.6/site-packages/sklearn/linear_model/_base.py:547: RuntimeWarning: internal gelsd driver lwork query error, required iwork dimension not returned. This is likely the result of LAPACK bug 0038, fixed in LAPACK 3.2.2 (released July 21, 2010). Falling back to 'gelss' driver.\n",
      "  linalg.lstsq(X, y)\n"
     ]
    },
    {
     "data": {
      "text/plain": [
       "LinearRegression()"
      ]
     },
     "execution_count": 90,
     "metadata": {},
     "output_type": "execute_result"
    }
   ],
   "source": [
    "# Fit the regressor to the training data\n",
    "reg_all.fit(X_train,y_train)"
   ]
  },
  {
   "cell_type": "code",
   "execution_count": 91,
   "metadata": {},
   "outputs": [
    {
     "data": {
      "text/plain": [
       "array([[ 71.24994934],\n",
       "       [ 75.46500739],\n",
       "       [ 33.82406808],\n",
       "       [ 39.56892362],\n",
       "       [ 62.03635339],\n",
       "       [ 69.00411021],\n",
       "       [ 28.36578378],\n",
       "       [ 61.00687367],\n",
       "       [ 75.86789327],\n",
       "       [ 97.185216  ],\n",
       "       [ 76.53336277],\n",
       "       [ 94.1325179 ],\n",
       "       [ 29.60080489],\n",
       "       [ 36.52813878],\n",
       "       [ 63.71728568],\n",
       "       [ 53.40971715],\n",
       "       [ 44.2279554 ],\n",
       "       [ 38.77535506],\n",
       "       [ 35.87342967],\n",
       "       [ -2.47104872],\n",
       "       [ 76.09921256],\n",
       "       [ 68.79775794],\n",
       "       [ 23.98667528],\n",
       "       [ 36.75341878],\n",
       "       [ 60.87113181],\n",
       "       [ 65.97176543],\n",
       "       [ 55.39764973],\n",
       "       [ 81.76713692],\n",
       "       [ 37.06444536],\n",
       "       [ 51.82103568],\n",
       "       [ 88.85990205],\n",
       "       [ 54.69759721],\n",
       "       [ 96.00293399],\n",
       "       [ 63.7403042 ],\n",
       "       [ 72.1592913 ],\n",
       "       [ 72.54349245],\n",
       "       [ 23.42370402],\n",
       "       [ 15.89867201],\n",
       "       [ 58.70447412],\n",
       "       [ 47.87761551],\n",
       "       [ 37.42296899],\n",
       "       [ 47.88862796],\n",
       "       [ 55.55456199],\n",
       "       [ 57.44894459],\n",
       "       [ 52.89077859],\n",
       "       [ 63.00704226],\n",
       "       [ 42.95151695],\n",
       "       [ 41.30535087],\n",
       "       [ 48.12044751],\n",
       "       [ 32.7448494 ],\n",
       "       [ 60.33343543],\n",
       "       [ 39.41127345],\n",
       "       [ 25.93288561],\n",
       "       [ 85.21258987],\n",
       "       [ 50.96735015],\n",
       "       [ 31.11877802],\n",
       "       [ 52.25229546],\n",
       "       [ 29.38113079],\n",
       "       [ 68.61367131],\n",
       "       [ 49.03375461],\n",
       "       [ 67.10142462],\n",
       "       [ 30.07664663],\n",
       "       [ 45.46973293],\n",
       "       [ 34.5844005 ],\n",
       "       [101.17001965],\n",
       "       [ 86.54444706],\n",
       "       [ 69.94352751],\n",
       "       [ 46.52151364],\n",
       "       [ 36.09972141],\n",
       "       [ 68.03442382],\n",
       "       [ 38.14514735],\n",
       "       [ 52.09481979],\n",
       "       [ 43.49671842],\n",
       "       [ 38.98866535],\n",
       "       [ 45.42202114],\n",
       "       [ 58.89516323],\n",
       "       [ 84.16403837],\n",
       "       [ 27.02451025],\n",
       "       [ 55.07328786],\n",
       "       [ 24.11496624],\n",
       "       [ 83.78812069],\n",
       "       [ 35.12757863],\n",
       "       [ 18.23579855],\n",
       "       [ 40.13909666],\n",
       "       [ 56.64166192],\n",
       "       [ 36.79113986],\n",
       "       [ 74.61709963],\n",
       "       [ 20.3827676 ],\n",
       "       [ 25.55338545],\n",
       "       [ 61.70525781],\n",
       "       [ 45.15905897],\n",
       "       [ 52.36789336],\n",
       "       [ 36.93648509],\n",
       "       [ 58.42341811],\n",
       "       [ 64.17385822],\n",
       "       [ 70.46135374],\n",
       "       [ 41.09574079],\n",
       "       [ 29.94394186],\n",
       "       [ 80.60733971],\n",
       "       [ 62.6350723 ],\n",
       "       [ 21.54694154],\n",
       "       [ 57.50514597],\n",
       "       [ 11.73847458],\n",
       "       [ 71.35260523],\n",
       "       [ 39.68476558],\n",
       "       [ 72.47946633],\n",
       "       [ 21.65472482],\n",
       "       [ 54.32466695],\n",
       "       [ 54.81912055],\n",
       "       [ 30.40811723],\n",
       "       [ 66.54168563],\n",
       "       [ 35.817909  ],\n",
       "       [ 44.36598349],\n",
       "       [ 58.03953247],\n",
       "       [ 30.66992566],\n",
       "       [ 87.47575728],\n",
       "       [ 46.03563235],\n",
       "       [ 52.55724092],\n",
       "       [ 42.63884684],\n",
       "       [111.74651623],\n",
       "       [ 16.3787871 ],\n",
       "       [ 83.60575147],\n",
       "       [ 85.82578994],\n",
       "       [ 74.40266744],\n",
       "       [ 70.73563157],\n",
       "       [ 46.97338132],\n",
       "       [ 23.52625548],\n",
       "       [ 37.46383139],\n",
       "       [ 25.52158128],\n",
       "       [ 84.45654558],\n",
       "       [ 41.30979523],\n",
       "       [ 32.76991646],\n",
       "       [ 63.75742329],\n",
       "       [ 17.9628492 ],\n",
       "       [ 27.61946816],\n",
       "       [ 64.21064092],\n",
       "       [ 22.88816482],\n",
       "       [ 32.15074811],\n",
       "       [ 58.26905417],\n",
       "       [ 56.5200368 ],\n",
       "       [ 42.2557333 ],\n",
       "       [ 44.18529644],\n",
       "       [ 45.05971244],\n",
       "       [ 77.98335413],\n",
       "       [116.502247  ],\n",
       "       [ 35.72240316],\n",
       "       [ 30.62767622]])"
      ]
     },
     "execution_count": 91,
     "metadata": {},
     "output_type": "execute_result"
    }
   ],
   "source": [
    "# Predict on the test data: y_pred\n",
    "y_pred = reg_all.predict(X_test)\n",
    "y_pred"
   ]
  },
  {
   "cell_type": "code",
   "execution_count": 91,
   "metadata": {
    "scrolled": true
   },
   "outputs": [
    {
     "name": "stdout",
     "output_type": "stream",
     "text": [
      "R^2: -0.49878719564213947\n",
      "Root Mean Squared Error: 35.88244563286933\n"
     ]
    }
   ],
   "source": [
    "# Compute and print R^2 and RMSE\n",
    "print(\"R^2: {}\".format(reg_all.score(X_test, y_test)))\n",
    "rmse = np.sqrt(mean_squared_error(y_test,y_pred))\n",
    "print(\"Root Mean Squared Error: {}\".format(rmse))"
   ]
  },
  {
   "cell_type": "code",
   "execution_count": 119,
   "metadata": {},
   "outputs": [
    {
     "data": {
      "text/plain": [
       "(10077, 1)"
      ]
     },
     "execution_count": 119,
     "metadata": {},
     "output_type": "execute_result"
    }
   ],
   "source": [
    "linear_coef = reg_all.coef_.transpose()\n",
    "linear_coef.shape"
   ]
  },
  {
   "cell_type": "code",
   "execution_count": 120,
   "metadata": {},
   "outputs": [
    {
     "data": {
      "text/plain": [
       "(10077, 1)"
      ]
     },
     "execution_count": 120,
     "metadata": {},
     "output_type": "execute_result"
    }
   ],
   "source": [
    "names = X.columns.values.reshape(-1,1)\n",
    "names.shape"
   ]
  },
  {
   "cell_type": "code",
   "execution_count": 121,
   "metadata": {},
   "outputs": [
    {
     "data": {
      "image/png": "[encoded data removed]",
      "text/plain": [
       "<Figure size 432x288 with 1 Axes>"
      ]
     },
     "metadata": {},
     "output_type": "display_data"
    }
   ],
   "source": [
    "import matplotlib.pyplot as plt\n",
    "%matplotlib inline\n",
    "_ = plt.plot(range(len(names)), linear_coef)\n",
    "#_ = plt.xticks(range(len(names)), names, rotation=60)\n",
    "_ = plt.ylabel('Coefficients')\n",
    "plt.show()"
   ]
  },
  {
   "cell_type": "markdown",
   "metadata": {},
   "source": [
    "Great! You have built a OLS (Ordinary Least Squared) model to predict survival of patients from microarray data (gene expression dataset). Given a new chip, are you confident to predict if the patients will have a good prognostic by your model? :)\n",
    "\n",
    "- What does it mean a negative R-squared? How do you interpret the results?"
   ]
  },
  {
   "cell_type": "markdown",
   "metadata": {},
   "source": [
    "## Regularization: an example with LASSO\n",
    "\n",
    "Linear Regression minimize the loss function, thus it chooses a coefcient for each feature variable. Large coefcients can lead to overtting, which you have seen from the above excercise with negative R2! \n",
    "\n",
    "-> Penalizing large coefcients: Regularization"
   ]
  },
  {
   "cell_type": "markdown",
   "metadata": {},
   "source": [
    "<img src=\"fig/ridge.png\" width=200>"
   ]
  },
  {
   "cell_type": "markdown",
   "metadata": {},
   "source": [
    "<img src=\"fig/lasso.png\" width=200>"
   ]
  },
  {
   "cell_type": "markdown",
   "metadata": {},
   "source": [
    "Alpha is called a hyperparameter, it controls model complexity!\n",
    "\n",
    "- High alpha: large coefficients either negative or positive (absolute) are penalized\n",
    "\n",
    "- Alpha = 0 we come back to OLS!"
   ]
  },
  {
   "cell_type": "code",
   "execution_count": 93,
   "metadata": {},
   "outputs": [],
   "source": [
    "from sklearn.linear_model import Lasso"
   ]
  },
  {
   "cell_type": "code",
   "execution_count": 94,
   "metadata": {},
   "outputs": [],
   "source": [
    "X_train, X_test, y_train, y_test = train_test_split(X, y,test_size = 0.3, random_state=42)"
   ]
  },
  {
   "cell_type": "code",
   "execution_count": 155,
   "metadata": {},
   "outputs": [],
   "source": [
    "lasso = Lasso(alpha=0.2, normalize=True)"
   ]
  },
  {
   "cell_type": "code",
   "execution_count": 156,
   "metadata": {},
   "outputs": [
    {
     "data": {
      "text/plain": [
       "Lasso(alpha=0.2, normalize=True)"
      ]
     },
     "execution_count": 156,
     "metadata": {},
     "output_type": "execute_result"
    }
   ],
   "source": [
    "lasso.fit(X_train, y_train)"
   ]
  },
  {
   "cell_type": "code",
   "execution_count": 157,
   "metadata": {},
   "outputs": [],
   "source": [
    "lasso_pred = lasso.predict(X_test)"
   ]
  },
  {
   "cell_type": "code",
   "execution_count": 158,
   "metadata": {},
   "outputs": [
    {
     "data": {
      "text/plain": [
       "-0.01293046157746569"
      ]
     },
     "execution_count": 158,
     "metadata": {},
     "output_type": "execute_result"
    }
   ],
   "source": [
    "lasso.score(X_test, y_test)"
   ]
  },
  {
   "cell_type": "code",
   "execution_count": 159,
   "metadata": {},
   "outputs": [
    {
     "data": {
      "text/plain": [
       "Index(['A1BG', 'A2M', 'A2M-AS1', 'AACS', 'AADAC', 'AADACP1', 'AADAT', 'AAED1',\n",
       "       'AAGAB', 'AAK1',\n",
       "       ...\n",
       "       'ZW10', 'ZWILCH', 'ZWINT', 'ZXDA', 'ZXDB', 'ZYG11A', 'ZYG11B', 'ZYX',\n",
       "       'ZZEF1', 'ZZZ3'],\n",
       "      dtype='object', length=10077)"
      ]
     },
     "execution_count": 159,
     "metadata": {},
     "output_type": "execute_result"
    }
   ],
   "source": [
    "names = X.columns\n",
    "names"
   ]
  },
  {
   "cell_type": "code",
   "execution_count": 160,
   "metadata": {},
   "outputs": [],
   "source": [
    "lasso = Lasso(alpha=0.1)"
   ]
  },
  {
   "cell_type": "code",
   "execution_count": 161,
   "metadata": {},
   "outputs": [
    {
     "name": "stderr",
     "output_type": "stream",
     "text": [
      "/Users/caotranbichngoc/miniconda3/lib/python3.6/site-packages/sklearn/linear_model/_coordinate_descent.py:531: ConvergenceWarning: Objective did not converge. You might want to increase the number of iterations. Duality gap: 5038.562592721359, tolerance: 39.499362357236116\n",
      "  positive)\n"
     ]
    }
   ],
   "source": [
    "lasso_coef = lasso.fit(X, y).coef_"
   ]
  },
  {
   "cell_type": "code",
   "execution_count": 162,
   "metadata": {},
   "outputs": [
    {
     "data": {
      "image/png": "[encoded data removed]",
      "text/plain": [
       "<Figure size 432x288 with 1 Axes>"
      ]
     },
     "metadata": {},
     "output_type": "display_data"
    }
   ],
   "source": [
    "import matplotlib.pyplot as plt\n",
    "%matplotlib inline\n",
    "_ = plt.plot(range(len(names)), lasso_coef)\n",
    "#_ = plt.xticks(range(len(names)), names, rotation=60)\n",
    "_ = plt.ylabel('Coefficients')\n",
    "plt.show()"
   ]
  },
  {
   "cell_type": "markdown",
   "metadata": {},
   "source": [
    "## Additional Reading:\n",
    "\n",
    "\n",
    "- https://pandas.pydata.org/pandas-docs/stable/reference/api/pandas.DataFrame.corr.html \n",
    "- https://scikit-learn.org/stable/modules/generated/sklearn.linear_model.LinearRegression.html"
   ]
  },
  {
   "cell_type": "markdown",
   "metadata": {},
   "source": [
    "Decision Tree, Logistic Regression, SVM.... : non-linear."
   ]
  },
  {
   "cell_type": "code",
   "execution_count": null,
   "metadata": {},
   "outputs": [],
   "source": []
  }
 ],
 "metadata": {
  "kernelspec": {
   "display_name": "Python 3",
   "language": "python",
   "name": "python3"
  },
  "language_info": {
   "codemirror_mode": {
    "name": "ipython",
    "version": 3
   },
   "file_extension": ".py",
   "mimetype": "text/x-python",
   "name": "python",
   "nbconvert_exporter": "python",
   "pygments_lexer": "ipython3",
   "version": "3.6.7"
  }
 },
 "nbformat": 4,
 "nbformat_minor": 2
}
